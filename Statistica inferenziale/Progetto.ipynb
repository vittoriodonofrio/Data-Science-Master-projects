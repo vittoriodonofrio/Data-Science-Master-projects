{
  "nbformat": 4,
  "nbformat_minor": 0,
  "metadata": {
    "colab": {
      "provenance": []
    },
    "kernelspec": {
      "name": "python3",
      "display_name": "Python 3"
    },
    "language_info": {
      "name": "python"
    }
  },
  "cells": [
    {
      "cell_type": "code",
      "source": [
        "%load_ext rpy2.ipython"
      ],
      "metadata": {
        "id": "CKUo7aeW7k46"
      },
      "execution_count": 8,
      "outputs": []
    },
    {
      "cell_type": "markdown",
      "source": [
        "Punto 1)"
      ],
      "metadata": {
        "id": "HKe6kc20L9wN"
      }
    },
    {
      "cell_type": "code",
      "execution_count": 2,
      "metadata": {
        "id": "sxHJYyVd4A-f",
        "colab": {
          "base_uri": "https://localhost:8080/"
        },
        "outputId": "c59cd18d-3ecf-4b94-ddb1-3e0e5ae8d39f"
      },
      "outputs": [
        {
          "output_type": "stream",
          "name": "stdout",
          "text": [
            "[1] 2500\n"
          ]
        }
      ],
      "source": [
        "%%R\n",
        "neonati <- read.csv(\"/content/neonati.csv\", sep= \";\")\n",
        "nrow(neonati)\n",
        "na_neonati <- na.omit(neonati)\n",
        "nrow(na_neonati)"
      ]
    },
    {
      "cell_type": "markdown",
      "source": [
        "Nel dataset \"neonati\" ci sono 2500 righe, tante quante quelle presenti nel file csv. In più, si verifica che non ci sono entrate NA nel dataset importato quindi possiamo dedurre che il dataset è importato in maniera corretta."
      ],
      "metadata": {
        "id": "A8pv42nJ83Ch"
      }
    },
    {
      "cell_type": "markdown",
      "source": [
        "Punto 2)\n",
        "Il dataset presenta 10 variabili, ottenute scegliendo un campione di 2500 neonati selezionati da tre ospedali. In particolare, vengono raccolti dati riguardanti la madre ed il neonato per poter prevedere il peso del neonato alla nascita conoscendo altre variabili derivanti da analisi mediche condotte sulla madre e sul neonato.\n",
        "Inoltre, il dataset presenta 10 variabili di cui:\n",
        "\n",
        "*   \"Anni.madre\" è di tipo quantitativo continuo e rappresenta l'età della madre.\n",
        "*   \"N.gravidanze\" è di tipo quantitativo discreto ed indica il numero di gravidanze già sostenute dalla madre.\n",
        "* \"Fumatrici\" è una variabile di tipo dummy ed è uguale a 0 se la madre non fuma, 1 altrimenti.\n",
        "* \"Gestazione\" è di tipo quantitativo continuo e rappresenta il numero di settimane di gestazione.\n",
        "* \"Lunghezza\" e \"Cranio\" sono quantitative continue anche se sono di tipo intero nel dataset, indicano rispettivamente lunghezza e diametro del cranio del neonato in millimetri.\n",
        "*  \"Tipo.parto\" , \"Ospedale\" e \"Sesso\" sono di tipo qualitativo su scala nominale. La variabile \"Tipo.parto\" ha due modalità ovvero \"Nat\" che indica il parto naturale oppure \"Ces\" che indica il parto cesareo. La variabile ospedale ha tre modalità che indicano in quale ospedale è avvenuto il parto. La variabile sesso ha due modalità che indicano il sesso del neonato.\n"
      ],
      "metadata": {
        "id": "hLQzybhL_5FP"
      }
    },
    {
      "cell_type": "markdown",
      "source": [
        "Punto 3)\n",
        "Indagando le variabili del dataset si osserva che per quanto riguarda la variabile \"anni.madre\" c'è un valore minimo di 0 e una osservazione con valore uguale ad 1. Questi valori non sono plausibili e sono dovuti probabilmente ad un errore nel campionamento o ad un errore nel caricamento dati. Si può scegliere se cancellare le due righe oppure se sostituire questi valori con la media. Visto che le altre variabili di queste due osservazioni sono abbastanza coerenti, si può sostituire il valore dell'età della madre con la media. Si osserva che in effetti questi due valori sono presenti anche sul file csv, (riga 1380 e 1152) quindi possiamo escludere che il problema sia dovuto ad un errore nel caricamento dati."
      ],
      "metadata": {
        "id": "6h65n_PONnPn"
      }
    },
    {
      "cell_type": "code",
      "source": [
        "%%R\n",
        "neonati[which(neonati$Anni.madre==0),1] <- mean(neonati$Anni.madre)\n",
        "neonati[which(neonati$Anni.madre==1),1] <- mean(neonati$Anni.madre)\n",
        "summary(neonati$Anni.madre)"
      ],
      "metadata": {
        "colab": {
          "base_uri": "https://localhost:8080/"
        },
        "id": "HgZ2Vpz3Qb9B",
        "outputId": "bd505ffd-eeda-4d0a-c01d-368adb6ed327"
      },
      "execution_count": 3,
      "outputs": [
        {
          "output_type": "stream",
          "name": "stdout",
          "text": [
            "   Min. 1st Qu.  Median    Mean 3rd Qu.    Max. \n",
            "  13.00   25.00   28.00   28.19   32.00   46.00 \n"
          ]
        }
      ]
    },
    {
      "cell_type": "code",
      "source": [
        "%%R\n",
        "plot(density(neonati$Anni.madre))\n",
        "boxplot(neonati$Anni.madre)"
      ],
      "metadata": {
        "colab": {
          "base_uri": "https://localhost:8080/",
          "height": 977
        },
        "id": "vzgaJy43QfoW",
        "outputId": "7fe706b1-c99a-4d2a-87a1-be1cd796afc7"
      },
      "execution_count": null,
      "outputs": [
        {
          "output_type": "display_data",
          "data": {
            "image/png": "[encoded data removed]"
          },
          "metadata": {}
        },
        {
          "output_type": "display_data",
          "data": {
            "image/png": "[encoded data removed]"
          },
          "metadata": {}
        }
      ]
    },
    {
      "cell_type": "markdown",
      "source": [
        "Come ci si può aspettare, i valori di questa variabile si concentrano intorno alla media, dunque la densità di questa distribuzione somiglia ad una Gaussiana con media circa 28."
      ],
      "metadata": {
        "id": "yp7SZWKCTc7s"
      }
    },
    {
      "cell_type": "code",
      "source": [
        "%%R\n",
        "summary(neonati$N.gravidanze)"
      ],
      "metadata": {
        "colab": {
          "base_uri": "https://localhost:8080/"
        },
        "id": "TDNMi5gPVzbn",
        "outputId": "acaf5e22-86b7-46ed-fad7-c01a53fdf9b7"
      },
      "execution_count": null,
      "outputs": [
        {
          "output_type": "stream",
          "name": "stdout",
          "text": [
            "   Min. 1st Qu.  Median    Mean 3rd Qu.    Max. \n",
            " 0.0000  0.0000  1.0000  0.9812  1.0000 12.0000 \n"
          ]
        }
      ]
    },
    {
      "cell_type": "markdown",
      "source": [
        "Dal momento che il terzo quartile è pari ad uno, si può osservare che il 75% delle madri presenti in questo dataset ha avuto una oppure nessuna gravidanza precedente."
      ],
      "metadata": {
        "id": "sPO4P2y5WBsu"
      }
    },
    {
      "cell_type": "code",
      "source": [
        "%%R\n",
        "table(neonati$N.gravidanze)"
      ],
      "metadata": {
        "colab": {
          "base_uri": "https://localhost:8080/"
        },
        "id": "UjimCHQeUxcU",
        "outputId": "4680b2e4-7cb1-499d-ba77-1d8fd1ab8ef1"
      },
      "execution_count": null,
      "outputs": [
        {
          "output_type": "stream",
          "name": "stdout",
          "text": [
            "\n",
            "   0    1    2    3    4    5    6    7    8    9   10   11   12 \n",
            "1096  818  340  150   48   21   11    1    8    2    3    1    1 \n"
          ]
        }
      ]
    },
    {
      "cell_type": "markdown",
      "source": [
        "In questo dataset la maggior parte delle madri non ha avuto precedenti gravidanze."
      ],
      "metadata": {
        "id": "bzwiYU5XVrci"
      }
    },
    {
      "cell_type": "code",
      "source": [
        "%%R\n",
        "summary(neonati$Fumatrici)"
      ],
      "metadata": {
        "colab": {
          "base_uri": "https://localhost:8080/"
        },
        "id": "GiHjzvpzXEJS",
        "outputId": "4fec84f4-c344-472d-958d-08c58bc082f6"
      },
      "execution_count": null,
      "outputs": [
        {
          "output_type": "stream",
          "name": "stdout",
          "text": [
            "   Min. 1st Qu.  Median    Mean 3rd Qu.    Max. \n",
            " 0.0000  0.0000  0.0000  0.0416  0.0000  1.0000 \n"
          ]
        }
      ]
    },
    {
      "cell_type": "markdown",
      "source": [
        "In questo campione almeno il 75% delle madri non fuma."
      ],
      "metadata": {
        "id": "7HFt4-0yXKtZ"
      }
    },
    {
      "cell_type": "code",
      "source": [
        "%%R\n",
        "table(neonati$Fumatrici)"
      ],
      "metadata": {
        "colab": {
          "base_uri": "https://localhost:8080/"
        },
        "id": "rSeS0QoYXD-B",
        "outputId": "527da369-9300-4441-e2fd-6217397645a1"
      },
      "execution_count": null,
      "outputs": [
        {
          "output_type": "stream",
          "name": "stdout",
          "text": [
            "\n",
            "   0    1 \n",
            "2396  104 \n"
          ]
        }
      ]
    },
    {
      "cell_type": "code",
      "source": [
        "%%R\n",
        "summary(neonati$Gestazione)"
      ],
      "metadata": {
        "colab": {
          "base_uri": "https://localhost:8080/"
        },
        "id": "0tgVXkUCYR6z",
        "outputId": "a2417669-53c8-498f-b354-258579a0b206"
      },
      "execution_count": null,
      "outputs": [
        {
          "output_type": "stream",
          "name": "stdout",
          "text": [
            "   Min. 1st Qu.  Median    Mean 3rd Qu.    Max. \n",
            "  25.00   38.00   39.00   38.98   40.00   43.00 \n"
          ]
        }
      ]
    },
    {
      "cell_type": "code",
      "source": [
        "%%R\n",
        "table(neonati$Gestazione)"
      ],
      "metadata": {
        "colab": {
          "base_uri": "https://localhost:8080/"
        },
        "id": "IfGy1tkPYNYN",
        "outputId": "d04206da-01b9-46ac-c50d-6c1a983d74dd"
      },
      "execution_count": null,
      "outputs": [
        {
          "output_type": "stream",
          "name": "stdout",
          "text": [
            "\n",
            " 25  26  27  28  29  30  31  32  33  34  35  36  37  38  39  40  41  42  43 \n",
            "  1   1   2   4   3   5   8   9  18  16  33  62 192 437 581 741 329  56   2 \n"
          ]
        }
      ]
    },
    {
      "cell_type": "markdown",
      "source": [
        "Per quanto riguarda la variabile \"gestazione\", il 75% dei dati è compreso tra il valore di 38 e 40."
      ],
      "metadata": {
        "id": "_PtCPwx1YWBg"
      }
    },
    {
      "cell_type": "code",
      "source": [
        "%%R\n",
        "summary(neonati$Peso)"
      ],
      "metadata": {
        "colab": {
          "base_uri": "https://localhost:8080/"
        },
        "id": "H7tipyiyZGzN",
        "outputId": "69cec7c8-9e0f-4677-c3cf-4eb437775028"
      },
      "execution_count": null,
      "outputs": [
        {
          "output_type": "stream",
          "name": "stdout",
          "text": [
            "   Min. 1st Qu.  Median    Mean 3rd Qu.    Max. \n",
            "    830    2990    3300    3284    3620    4930 \n"
          ]
        }
      ]
    },
    {
      "cell_type": "code",
      "source": [
        "%%R\n",
        "plot(density(neonati$Peso))\n",
        "boxplot(neonati$Peso)"
      ],
      "metadata": {
        "colab": {
          "base_uri": "https://localhost:8080/",
          "height": 977
        },
        "id": "ztp7LWeXZCRB",
        "outputId": "79f7a8e9-9b9b-4e7f-d944-a7c575af6b49"
      },
      "execution_count": null,
      "outputs": [
        {
          "output_type": "display_data",
          "data": {
            "image/png": "[encoded data removed]"
          },
          "metadata": {}
        },
        {
          "output_type": "display_data",
          "data": {
            "image/png": "[encoded data removed]"
          },
          "metadata": {}
        }
      ]
    },
    {
      "cell_type": "markdown",
      "source": [
        "In questo caso si osserva dai grafici e dal summary che la variabile peso si distribuisce circa come una Gaussiana con media 3284."
      ],
      "metadata": {
        "id": "DOqIYV35ZayA"
      }
    },
    {
      "cell_type": "code",
      "source": [
        "%%R\n",
        "plot(density(neonati$Lunghezza))\n",
        "boxplot(neonati$Lunghezza)"
      ],
      "metadata": {
        "colab": {
          "base_uri": "https://localhost:8080/",
          "height": 977
        },
        "id": "YzIfSt7-aETc",
        "outputId": "8a717a2e-a070-409a-d375-da6dc4b0a694"
      },
      "execution_count": null,
      "outputs": [
        {
          "output_type": "display_data",
          "data": {
            "image/png": "[encoded data removed]"
          },
          "metadata": {}
        },
        {
          "output_type": "display_data",
          "data": {
            "image/png": "[encoded data removed]"
          },
          "metadata": {}
        }
      ]
    },
    {
      "cell_type": "code",
      "source": [
        "%%R\n",
        "summary(neonati$Lunghezza)"
      ],
      "metadata": {
        "colab": {
          "base_uri": "https://localhost:8080/"
        },
        "id": "GRrUmWS0aH56",
        "outputId": "4d11010c-64e6-41f7-f1fc-ce91b550d383"
      },
      "execution_count": null,
      "outputs": [
        {
          "output_type": "stream",
          "name": "stdout",
          "text": [
            "   Min. 1st Qu.  Median    Mean 3rd Qu.    Max. \n",
            "  310.0   480.0   500.0   494.7   510.0   565.0 \n"
          ]
        }
      ]
    },
    {
      "cell_type": "code",
      "source": [
        "%%R\n",
        "plot(density(neonati$Cranio))\n",
        "boxplot(neonati$Cranio)"
      ],
      "metadata": {
        "colab": {
          "base_uri": "https://localhost:8080/",
          "height": 977
        },
        "id": "uSnWzS0faZc1",
        "outputId": "2b71e3e1-a3e8-4559-8a93-92848abab52d"
      },
      "execution_count": null,
      "outputs": [
        {
          "output_type": "display_data",
          "data": {
            "image/png": "[encoded data removed]"
          },
          "metadata": {}
        },
        {
          "output_type": "display_data",
          "data": {
            "image/png": "[encoded data removed]"
          },
          "metadata": {}
        }
      ]
    },
    {
      "cell_type": "code",
      "source": [
        "%%R\n",
        "summary(neonati$Cranio)"
      ],
      "metadata": {
        "colab": {
          "base_uri": "https://localhost:8080/"
        },
        "id": "RaHbUekbap-y",
        "outputId": "3aca3831-52ef-4215-d843-539a23543b1d"
      },
      "execution_count": null,
      "outputs": [
        {
          "output_type": "stream",
          "name": "stdout",
          "text": [
            "   Min. 1st Qu.  Median    Mean 3rd Qu.    Max. \n",
            "    235     330     340     340     350     390 \n"
          ]
        }
      ]
    },
    {
      "cell_type": "markdown",
      "source": [
        "Tramite le seguenti righe di codice invece si analizza la frequenza delle modalità delle variabili carattere."
      ],
      "metadata": {
        "id": "6vvOubS5bXPE"
      }
    },
    {
      "cell_type": "code",
      "source": [
        "%%R\n",
        "table(neonati$Tipo.parto)/2500"
      ],
      "metadata": {
        "colab": {
          "base_uri": "https://localhost:8080/"
        },
        "id": "eP2SHbRMaqeH",
        "outputId": "33071407-f32b-4890-b6be-ad715daae53e"
      },
      "execution_count": null,
      "outputs": [
        {
          "output_type": "stream",
          "name": "stdout",
          "text": [
            "\n",
            "   Ces    Nat \n",
            "0.2912 0.7088 \n"
          ]
        }
      ]
    },
    {
      "cell_type": "code",
      "source": [
        "%%R\n",
        "table(neonati$Ospedale)/2500"
      ],
      "metadata": {
        "colab": {
          "base_uri": "https://localhost:8080/"
        },
        "id": "QqONuZmBbPUs",
        "outputId": "8bd5d26f-89d0-4862-c6ec-129417ecdc27"
      },
      "execution_count": null,
      "outputs": [
        {
          "output_type": "stream",
          "name": "stdout",
          "text": [
            "\n",
            "  osp1   osp2   osp3 \n",
            "0.3264 0.3396 0.3340 \n"
          ]
        }
      ]
    },
    {
      "cell_type": "code",
      "source": [
        "%%R\n",
        "table(neonati$Sesso)/2500"
      ],
      "metadata": {
        "colab": {
          "base_uri": "https://localhost:8080/"
        },
        "id": "KylWs2wbbTvn",
        "outputId": "067e86e2-3bae-4a7a-cd5a-13d0849fc112"
      },
      "execution_count": null,
      "outputs": [
        {
          "output_type": "stream",
          "name": "stdout",
          "text": [
            "\n",
            "     F      M \n",
            "0.5024 0.4976 \n"
          ]
        }
      ]
    },
    {
      "cell_type": "markdown",
      "source": [
        "Punto 4)\n",
        "Da una ricerca dell'ospedale pediatrico bambino Gesù di Roma( https://www.ospedalebambinogesu.it/da-0-a-30-giorni-come-si-presenta-e-come-cresce-80012/#:~:text=In%20media%20il%20peso%20nascita,pari%20mediamente%20a%2050%20centimetri)  emerge che la media del peso di un neonato è di 3300 grammi e che vengono considerati normali anche pesi che variano tra 2500 e 4500 grammi. Si può pertanto modellizzare la distribuzione del peso di un neonato con una Gaussiana di media 3300. Dalla ricerca si può provare ad ipotizzare che la varianza di questa distribuzione (non nota) sia di 1000 e pertanto iniziare ad eseguire un test z per la verifica dell'ipotesi che la media del peso dei neonati di questo campione sia uguale a quella della popolazione.\n",
        "In particolare l'ipotesi nulla sarà media = 3300 e l'alternativa sarà media diversa da 3300. Fissiamo alfa= 0.05 come livello di significatività\n"
      ],
      "metadata": {
        "id": "7DHMQTRi7MRh"
      }
    },
    {
      "cell_type": "code",
      "source": [
        "%%R\n",
        "install.packages(\"TeachingDemos\")"
      ],
      "metadata": {
        "id": "6j6oDqO0-JCS"
      },
      "execution_count": null,
      "outputs": []
    },
    {
      "cell_type": "code",
      "source": [
        "%%R\n",
        "library(TeachingDemos)\n",
        "\n",
        "z.test(neonati$Peso,\n",
        "       3300,\n",
        "       stdev = 1000,\n",
        "       alternative= \"two.sided\",\n",
        "       conf.level = 0.95)"
      ],
      "metadata": {
        "colab": {
          "base_uri": "https://localhost:8080/"
        },
        "id": "TKwK5M2q8oLY",
        "outputId": "f301a304-5bc3-403d-ee68-81d5a006f929"
      },
      "execution_count": null,
      "outputs": [
        {
          "output_type": "stream",
          "name": "stdout",
          "text": [
            "\n",
            "\tOne Sample z-test\n",
            "\n",
            "data:  neonati$Peso\n",
            "z = -0.79596, n = 2500, Std. Dev. = 1000, Std. Dev. of the sample mean\n",
            "= 20, p-value = 0.4261\n",
            "alternative hypothesis: true mean is not equal to 3300\n",
            "95 percent confidence interval:\n",
            " 3244.882 3323.280\n",
            "sample estimates:\n",
            "mean of neonati$Peso \n",
            "            3284.081 \n",
            "\n"
          ]
        }
      ]
    },
    {
      "cell_type": "code",
      "source": [
        "%%R\n",
        "valori_soglia <- qnorm(c(0.05/2 , 1-0.05/2))\n",
        "\n",
        "plot(   density(rnorm(100000,0,1))   )\n",
        "abline( v=valori_soglia , col=2  )\n",
        "points(x=-0.796 , y=0, pch =20)"
      ],
      "metadata": {
        "colab": {
          "base_uri": "https://localhost:8080/",
          "height": 497
        },
        "id": "l5D6uANmDJMJ",
        "outputId": "33f8130a-198a-48e0-ea58-8d6bc4d90e05"
      },
      "execution_count": null,
      "outputs": [
        {
          "output_type": "display_data",
          "data": {
            "image/png": "[encoded data removed]"
          },
          "metadata": {}
        }
      ]
    },
    {
      "cell_type": "markdown",
      "source": [
        "La statistica test ricade all'interno della zona di accettazione, il p-value è pari a circa 0.42 quindi più alto del livello di significatività del 5%, l'intervallo di confidenza contiene il valore del parametro sotto l'ipotesi nulla e pertanto non rifiutiamo l'ipotesi nulla; ovvero la media del campione non è significativamente diversa dalla media della popolazione."
      ],
      "metadata": {
        "id": "x1bludW7DUcU"
      }
    },
    {
      "cell_type": "markdown",
      "source": [
        "Visto che però la varianza non è nota, proviamo un t-test che sembra più adatto allo scenario. \\\\\n",
        "In particolare, effettuiamo un t-test con livello di significatività alfa=0.05"
      ],
      "metadata": {
        "id": "PEd3KQbBEMHT"
      }
    },
    {
      "cell_type": "code",
      "source": [
        "%%R\n",
        "t.test(neonati$Peso,\n",
        "       mu = 3300,\n",
        "       conf.level = 0.95,\n",
        "       alternative = \"two.sided\")"
      ],
      "metadata": {
        "colab": {
          "base_uri": "https://localhost:8080/"
        },
        "id": "kNisTvWxERs9",
        "outputId": "81d82724-a4c8-43a9-e67e-a4eb697a85a1"
      },
      "execution_count": null,
      "outputs": [
        {
          "output_type": "stream",
          "name": "stdout",
          "text": [
            "\n",
            "\tOne Sample t-test\n",
            "\n",
            "data:  neonati$Peso\n",
            "t = -1.516, df = 2499, p-value = 0.1296\n",
            "alternative hypothesis: true mean is not equal to 3300\n",
            "95 percent confidence interval:\n",
            " 3263.490 3304.672\n",
            "sample estimates:\n",
            "mean of x \n",
            " 3284.081 \n",
            "\n"
          ]
        }
      ]
    },
    {
      "cell_type": "code",
      "source": [
        "%%R\n",
        "qt(0.025, 5)"
      ],
      "metadata": {
        "colab": {
          "base_uri": "https://localhost:8080/"
        },
        "id": "4sKzPeLaILuj",
        "outputId": "7fcf2e22-a148-43ed-bca6-eff1db359dfd"
      },
      "execution_count": null,
      "outputs": [
        {
          "output_type": "stream",
          "name": "stdout",
          "text": [
            "[1] -2.570582\n"
          ]
        }
      ]
    },
    {
      "cell_type": "markdown",
      "source": [
        "La statistica test ricade nella zona di accettazione dell'ipotesi nulla, il p-value è più alto del livello di significatività, la media ricade all'interno dell'intervallo di confidenza e quindi deduciamo che anche in questo caso non si rifiuta l'ipotesi nulla e pertanto la media del campione non è significativamente diversa rispetto alla media della popolazione."
      ],
      "metadata": {
        "id": "_8mYV_uRIS1N"
      }
    },
    {
      "cell_type": "markdown",
      "source": [
        "Da una ricerca sulla lunghezza di un neonato emerge che la lunghezza media di un neonato è di 500 mm. Dunque in questo caso saggiamo l'ipotesi H0: media = 500 contro H1: media diversa da 500."
      ],
      "metadata": {
        "id": "qDIkcd9vJQe-"
      }
    },
    {
      "cell_type": "code",
      "source": [
        "%%R\n",
        "t.test(neonati$Lunghezza,\n",
        "       mu = 500,\n",
        "       conf.level = 0.95,\n",
        "       alternative = \"two.sided\")"
      ],
      "metadata": {
        "colab": {
          "base_uri": "https://localhost:8080/"
        },
        "id": "Wee7dcvZJJE5",
        "outputId": "d349445c-953c-4bc3-f707-5ad0cd7959c9"
      },
      "execution_count": null,
      "outputs": [
        {
          "output_type": "stream",
          "name": "stdout",
          "text": [
            "\n",
            "\tOne Sample t-test\n",
            "\n",
            "data:  neonati$Lunghezza\n",
            "t = -10.084, df = 2499, p-value < 2.2e-16\n",
            "alternative hypothesis: true mean is not equal to 500\n",
            "95 percent confidence interval:\n",
            " 493.6598 495.7242\n",
            "sample estimates:\n",
            "mean of x \n",
            "  494.692 \n",
            "\n"
          ]
        }
      ]
    },
    {
      "cell_type": "markdown",
      "source": [
        "In questo caso la statistica test è nella zona di rifiuto, il p-value è minore del livello di significatività e il valore del parametro non è nell'intervallo di confidenza, perciò si rifiuta l'ipotesi nulla e si deduce che la media della lunghezza di questo campione è significativamente diversa da quella della popolazione."
      ],
      "metadata": {
        "id": "IWhAktd1L2aw"
      }
    },
    {
      "cell_type": "markdown",
      "source": [
        "Punto 5)"
      ],
      "metadata": {
        "id": "eyuz0Fn2NZt6"
      }
    },
    {
      "cell_type": "code",
      "source": [
        "%%R\n",
        "boxplot(Peso ~ Sesso , data = neonati)"
      ],
      "metadata": {
        "colab": {
          "base_uri": "https://localhost:8080/",
          "height": 497
        },
        "id": "MLsFOgFONdZr",
        "outputId": "a0015d19-bc4a-463f-d502-d2f5ad713c52"
      },
      "execution_count": null,
      "outputs": [
        {
          "output_type": "display_data",
          "data": {
            "image/png": "[encoded data removed]"
          },
          "metadata": {}
        }
      ]
    },
    {
      "cell_type": "code",
      "source": [
        "%%R\n",
        "summary(neonati[neonati$Sesso==\"M\",]$Peso)"
      ],
      "metadata": {
        "colab": {
          "base_uri": "https://localhost:8080/"
        },
        "id": "lUvuj09siAK2",
        "outputId": "86bb6a31-9dc5-4f13-fcc8-1ac3376f345d"
      },
      "execution_count": null,
      "outputs": [
        {
          "output_type": "stream",
          "name": "stdout",
          "text": [
            "   Min. 1st Qu.  Median    Mean 3rd Qu.    Max. \n",
            "    980    3150    3430    3408    3720    4810 \n"
          ]
        }
      ]
    },
    {
      "cell_type": "code",
      "source": [
        "%%R\n",
        "summary(neonati[neonati$Sesso==\"F\",]$Peso)"
      ],
      "metadata": {
        "colab": {
          "base_uri": "https://localhost:8080/"
        },
        "id": "xMxZLm-giJtj",
        "outputId": "0eef5bc5-f498-45b4-e496-7aabd51952fc"
      },
      "execution_count": null,
      "outputs": [
        {
          "output_type": "stream",
          "name": "stdout",
          "text": [
            "   Min. 1st Qu.  Median    Mean 3rd Qu.    Max. \n",
            "    830    2900    3160    3161    3470    4930 \n"
          ]
        }
      ]
    },
    {
      "cell_type": "code",
      "source": [
        "%%R\n",
        "boxplot(Lunghezza ~ Sesso , data = neonati)"
      ],
      "metadata": {
        "colab": {
          "base_uri": "https://localhost:8080/",
          "height": 497
        },
        "id": "zo7odK-AlvXS",
        "outputId": "02c9d758-b756-4e8f-ed1c-7ad97c2c2263"
      },
      "execution_count": null,
      "outputs": [
        {
          "output_type": "display_data",
          "data": {
            "image/png": "[encoded data removed]"
          },
          "metadata": {}
        }
      ]
    },
    {
      "cell_type": "code",
      "source": [
        "%%R\n",
        "summary(neonati[neonati$Sesso==\"M\",]$Lunghezza)"
      ],
      "metadata": {
        "colab": {
          "base_uri": "https://localhost:8080/"
        },
        "id": "IcBbbZ5Xlbhz",
        "outputId": "6edc6e85-a63b-44c3-e2c1-8bfc4d1524b6"
      },
      "execution_count": null,
      "outputs": [
        {
          "output_type": "stream",
          "name": "stdout",
          "text": [
            "   Min. 1st Qu.  Median    Mean 3rd Qu.    Max. \n",
            "  320.0   490.0   500.0   499.7   515.0   560.0 \n"
          ]
        }
      ]
    },
    {
      "cell_type": "code",
      "source": [
        "%%R\n",
        "summary(neonati[neonati$Sesso==\"F\",]$Lunghezza)"
      ],
      "metadata": {
        "colab": {
          "base_uri": "https://localhost:8080/"
        },
        "id": "W__e56hXlg2_",
        "outputId": "dbf62c59-4fab-4de1-c650-ea0343257b56"
      },
      "execution_count": null,
      "outputs": [
        {
          "output_type": "stream",
          "name": "stdout",
          "text": [
            "   Min. 1st Qu.  Median    Mean 3rd Qu.    Max. \n",
            "  310.0   480.0   490.0   489.8   505.0   565.0 \n"
          ]
        }
      ]
    },
    {
      "cell_type": "markdown",
      "source": [
        "In questo caso, per poter effettuare un t-test per il confronto tra gruppi si deve prima verificare che vengano rispettate le assunzioni di normalità ed omoschedasticità delle variabili considerate. Proviamo innanzitutto il test di Shapiro-Wilk per verificare la normalità e fissiamo alfa=0.05"
      ],
      "metadata": {
        "id": "LwsXJ_0VCeps"
      }
    },
    {
      "cell_type": "code",
      "source": [
        "%%R\n",
        "shapiro.test(neonati$Peso)"
      ],
      "metadata": {
        "colab": {
          "base_uri": "https://localhost:8080/"
        },
        "id": "1XsW8c1-DT9a",
        "outputId": "b315cdc8-2c25-4575-ae36-5b39cad0e7ba"
      },
      "execution_count": null,
      "outputs": [
        {
          "output_type": "stream",
          "name": "stdout",
          "text": [
            "\n",
            "\tShapiro-Wilk normality test\n",
            "\n",
            "data:  neonati$Peso\n",
            "W = 0.97066, p-value < 2.2e-16\n",
            "\n"
          ]
        }
      ]
    },
    {
      "cell_type": "code",
      "source": [
        "%%R\n",
        "shapiro.test(neonati$Lunghezza)"
      ],
      "metadata": {
        "colab": {
          "base_uri": "https://localhost:8080/"
        },
        "id": "OVmS75zyD38f",
        "outputId": "60e40203-1f1b-4959-ec99-a9b721b68733"
      },
      "execution_count": null,
      "outputs": [
        {
          "output_type": "stream",
          "name": "stdout",
          "text": [
            "\n",
            "\tShapiro-Wilk normality test\n",
            "\n",
            "data:  neonati$Lunghezza\n",
            "W = 0.90941, p-value < 2.2e-16\n",
            "\n"
          ]
        }
      ]
    },
    {
      "cell_type": "markdown",
      "source": [
        "Poichè il p-value è molto più piccolo del livello di significatività, viene rifiutata l'ipotesi nulla ovvero quella di normalità per entrambe le variabili e dunque non possiamo utilizzare un t-test per confrontare le medie raggruppate sui due sessi. Procediamo quindi con il test di Wilcoxon, in cui l'ipotesi nulla è quella secondo cui non ci sono differenze significative tra i due gruppi."
      ],
      "metadata": {
        "id": "yPGr3KYsD8XP"
      }
    },
    {
      "cell_type": "code",
      "source": [
        "%%R\n",
        "pairwise.wilcox.test(neonati$Peso,\n",
        "                     neonati$Sesso,\n",
        "                     paired=F,\n",
        "                     pool.sd=T,\n",
        "                     p.adjust.method = \"bonferroni\")"
      ],
      "metadata": {
        "colab": {
          "base_uri": "https://localhost:8080/"
        },
        "id": "TWtDa79uIRAH",
        "outputId": "cd7789e2-a432-412d-ad83-8ad1515ca07e"
      },
      "execution_count": null,
      "outputs": [
        {
          "output_type": "stream",
          "name": "stdout",
          "text": [
            "\n",
            "\tPairwise comparisons using Wilcoxon rank sum test with continuity correction \n",
            "\n",
            "data:  neonati$Peso and neonati$Sesso \n",
            "\n",
            "  F     \n",
            "M <2e-16\n",
            "\n",
            "P value adjustment method: bonferroni \n"
          ]
        }
      ]
    },
    {
      "cell_type": "code",
      "source": [
        "%%R\n",
        "pairwise.wilcox.test(neonati$Lunghezza,\n",
        "                     neonati$Sesso,\n",
        "                     paired=F,\n",
        "                     pool.sd=T,\n",
        "                     p.adjust.method = \"bonferroni\")"
      ],
      "metadata": {
        "colab": {
          "base_uri": "https://localhost:8080/"
        },
        "id": "htKgPzmjImnV",
        "outputId": "f98f47ac-cbff-4f70-f7f4-e247aefdbe2b"
      },
      "execution_count": null,
      "outputs": [
        {
          "output_type": "stream",
          "name": "stdout",
          "text": [
            "\n",
            "\tPairwise comparisons using Wilcoxon rank sum test with continuity correction \n",
            "\n",
            "data:  neonati$Lunghezza and neonati$Sesso \n",
            "\n",
            "  F     \n",
            "M <2e-16\n",
            "\n",
            "P value adjustment method: bonferroni \n"
          ]
        }
      ]
    },
    {
      "cell_type": "markdown",
      "source": [
        "In entrambi i casi il p-value è molto più piccolo del livello di significatività, si rifiuta quindi l'ipotesi nulla e dunque si conclude che ci sono differenze significative tra i due gruppi sia per la variabile lunghezza sia per la variabile peso."
      ],
      "metadata": {
        "id": "iQlLs2TTIWWe"
      }
    },
    {
      "cell_type": "markdown",
      "source": [
        "Punto 6)"
      ],
      "metadata": {
        "id": "E3QBLPWinhHb"
      }
    },
    {
      "cell_type": "code",
      "source": [
        "%%R\n",
        "table(neonati[neonati$Ospedale==\"osp1\",]$Tipo.parto)"
      ],
      "metadata": {
        "id": "zcJuBfX4njd4",
        "colab": {
          "base_uri": "https://localhost:8080/"
        },
        "outputId": "f790eb7a-345e-4114-a067-411e6c3ac059"
      },
      "execution_count": null,
      "outputs": [
        {
          "output_type": "stream",
          "name": "stdout",
          "text": [
            "\n",
            "Ces Nat \n",
            "242 574 \n"
          ]
        }
      ]
    },
    {
      "cell_type": "code",
      "source": [
        "%%R\n",
        "table(neonati[neonati$Ospedale==\"osp2\",]$Tipo.parto)"
      ],
      "metadata": {
        "colab": {
          "base_uri": "https://localhost:8080/"
        },
        "id": "6KUIZNOrqOdx",
        "outputId": "f977fb76-057b-449b-94b2-534478e420c0"
      },
      "execution_count": null,
      "outputs": [
        {
          "output_type": "stream",
          "name": "stdout",
          "text": [
            "\n",
            "Ces Nat \n",
            "254 595 \n"
          ]
        }
      ]
    },
    {
      "cell_type": "code",
      "source": [
        "%%R\n",
        "table(neonati[neonati$Ospedale==\"osp3\",]$Tipo.parto)"
      ],
      "metadata": {
        "colab": {
          "base_uri": "https://localhost:8080/"
        },
        "id": "2-WXBTm2qQgS",
        "outputId": "95b9e489-36a4-4657-b673-f3197876e2db"
      },
      "execution_count": null,
      "outputs": [
        {
          "output_type": "stream",
          "name": "stdout",
          "text": [
            "\n",
            "Ces Nat \n",
            "232 603 \n"
          ]
        }
      ]
    },
    {
      "cell_type": "markdown",
      "source": [
        "Dai confronti delle frequenze della tipologia di parto raggruppate per ospedale, non sembrano esserci particolari differenze sul numero di parti cesarei nei tre ospedali."
      ],
      "metadata": {
        "id": "udil5R3AqgkC"
      }
    },
    {
      "cell_type": "code",
      "source": [
        "%%R\n",
        "neonati$tipo_parto_num <- ifelse(neonati$Tipo.parto==\"Nat\", 0 , 1)"
      ],
      "metadata": {
        "id": "8hxgKXaEq0La"
      },
      "execution_count": null,
      "outputs": []
    },
    {
      "cell_type": "code",
      "source": [
        "%%R\n",
        "shapiro.test(neonati$tipo_parto_num)"
      ],
      "metadata": {
        "colab": {
          "base_uri": "https://localhost:8080/"
        },
        "id": "9D8FiDL1q3a-",
        "outputId": "37dc6640-31af-4635-8314-81b54f398216"
      },
      "execution_count": null,
      "outputs": [
        {
          "output_type": "stream",
          "name": "stdout",
          "text": [
            "\n",
            "\tShapiro-Wilk normality test\n",
            "\n",
            "data:  neonati$tipo_parto_num\n",
            "W = 0.56987, p-value < 2.2e-16\n",
            "\n"
          ]
        }
      ]
    },
    {
      "cell_type": "markdown",
      "source": [
        "Il test di Shapiro-Wilk produce un p-value molto sotto il livello di significatività del 5% e quindi si rifiuta l'ipotesi di normalità della variabile \"tipo_parto_num\" che è la variabile dummy ottenuta a partire dalla variabile carattere \"tipo.parto\". Dunque procediamo con il test di Wilcoxon anche in questo caso."
      ],
      "metadata": {
        "id": "Wh5ZLRB4q737"
      }
    },
    {
      "cell_type": "code",
      "source": [
        "%%R\n",
        "pairwise.wilcox.test(neonati$tipo_parto_num,\n",
        "                     neonati$Ospedale,\n",
        "                     paired=F,\n",
        "                     pool.sd=T,\n",
        "                     p.adjust.method = \"bonferroni\")"
      ],
      "metadata": {
        "id": "Oguj6Zi3ralT"
      },
      "execution_count": null,
      "outputs": []
    },
    {
      "cell_type": "markdown",
      "source": [
        "Il p-value è sempre uno per qualsiasi confronto dei tre ospedali, si può quindi concludere che non ci sono differenze significative sulla tipologia di parto tra i vari ospedali."
      ],
      "metadata": {
        "id": "TjTtjDmArnpQ"
      }
    },
    {
      "cell_type": "markdown",
      "source": [
        "In alternativa si può utilizzare il test del chi quadro per verificare l'indipendenza delle due variabili."
      ],
      "metadata": {
        "id": "QvtZoRIgY8b-"
      }
    },
    {
      "cell_type": "code",
      "source": [
        "%%R\n",
        "tabella <- table(neonati$Tipo.parto, neonati$Ospedale)\n",
        "tabella"
      ],
      "metadata": {
        "colab": {
          "base_uri": "https://localhost:8080/"
        },
        "id": "nu9FYHIVW_17",
        "outputId": "9ec4ce68-e1b5-49f1-fed0-486d1155b6c7"
      },
      "execution_count": 19,
      "outputs": [
        {
          "output_type": "stream",
          "name": "stdout",
          "text": [
            "     \n",
            "      osp1 osp2 osp3\n",
            "  Ces  242  254  232\n",
            "  Nat  574  595  603\n"
          ]
        }
      ]
    },
    {
      "cell_type": "code",
      "source": [
        "%%R\n",
        "test.indipendenza <- chisq.test(tabella)\n",
        "test.indipendenza"
      ],
      "metadata": {
        "colab": {
          "base_uri": "https://localhost:8080/"
        },
        "id": "rWTYQxXTbG_w",
        "outputId": "f2880069-cc23-41d6-e91d-a378756b2428"
      },
      "execution_count": 18,
      "outputs": [
        {
          "output_type": "stream",
          "name": "stdout",
          "text": [
            "\n",
            "\tPearson's Chi-squared test\n",
            "\n",
            "data:  tabella\n",
            "X-squared = 1.0972, df = 2, p-value = 0.5778\n",
            "\n"
          ]
        }
      ]
    },
    {
      "cell_type": "markdown",
      "source": [
        "Il p-value è al di sopra del livello di significatività fissato al 5% e quindi non si può rifiutare l'ipotesi nulla di indipendenza tra le due variabili."
      ],
      "metadata": {
        "id": "Z5qktw3Vct6j"
      }
    },
    {
      "cell_type": "markdown",
      "source": [
        "Analisi multidimensionale\n",
        "\n",
        "Punto 1)"
      ],
      "metadata": {
        "id": "-yTq-s2-cdgn"
      }
    },
    {
      "cell_type": "markdown",
      "source": [
        "Innanzitutto trasformiamo le variabili qualitative in dummy per poter usare la funzione pairs per individuare le relazioni tra le variabili a due a due."
      ],
      "metadata": {
        "id": "X459epLac3Pl"
      }
    },
    {
      "cell_type": "code",
      "source": [
        "%%R\n",
        "neonati$Tipo.parto <- as.factor(neonati$Tipo.parto)\n",
        "neonati$Ospedale <- as.factor(neonati$Ospedale)\n",
        "neonati$Sesso <- as.factor(neonati$Sesso)"
      ],
      "metadata": {
        "id": "MvE4s_TZcvID"
      },
      "execution_count": null,
      "outputs": []
    },
    {
      "cell_type": "code",
      "source": [
        "%%R\n",
        "panel.cor <- function(x, y, digits = 2, prefix = \"\", cex.cor, ...)\n",
        "{\n",
        "  par(usr = c(0, 1, 0, 1))\n",
        "  r <- abs(cor(x, y))\n",
        "  txt <- format(c(r, 0.123456789), digits = digits)[1]\n",
        "  txt <- paste0(prefix, txt)\n",
        "  if(missing(cex.cor)) cex.cor <- 0.8/strwidth(txt)\n",
        "  text(0.5, 0.5, txt, cex = cex.cor * r)\n",
        "}\n",
        "\n",
        "pairs(neonati, upper.panel = panel.smooth , lower.panel= panel.cor  )"
      ],
      "metadata": {
        "colab": {
          "base_uri": "https://localhost:8080/",
          "height": 497
        },
        "id": "FfKCC4nrcfeE",
        "outputId": "7effa2b7-e244-419a-f29f-ee1e9c9e411d"
      },
      "execution_count": null,
      "outputs": [
        {
          "output_type": "display_data",
          "data": {
            "image/png": "[encoded data removed]"
          },
          "metadata": {}
        }
      ]
    },
    {
      "cell_type": "markdown",
      "source": [
        "Indaghiamo innanzitutto le correlazioni tra la variabile risposta e le variabili esplicative. Si può osservare che la variabile peso ha una alta correlazione positiva con le variabili lunghezza e cranio, come effettivamente ci si può aspettare, all'aumentare della lunghezza aumenta il peso e all'aumentare del diametro del cranio aumenta il peso. C'è una correlazione positiva anche tra la variabile peso e la variabile gestazione. \\\\\n",
        "Tra le variabili esplicative si osserva una correlazione positiva tra anni.madre e n.gravidanze (come ci si aspetta); inoltre c'è una correlazione positiva tra le variabili cranio e lunghezza e tra le variabili gestazione e lunghezza e gestazione e cranio. Questo potrebbe causare problemi di multicollinearità \\\\\n",
        "Effettivamente, come ci si può aspettare, maggiore è il numero di settimane di gestazione e maggiore è il diametro del cranio, la lunghezza ed il peso."
      ],
      "metadata": {
        "id": "T-9AORGUdnbG"
      }
    },
    {
      "cell_type": "markdown",
      "source": [
        "Si possono visualizzare i boxplot per le variabili qualitative."
      ],
      "metadata": {
        "id": "d-W5Ps2jGj3z"
      }
    },
    {
      "cell_type": "code",
      "source": [
        "%%R\n",
        "boxplot(neonati$Peso ~ neonati$Sesso)"
      ],
      "metadata": {
        "colab": {
          "base_uri": "https://localhost:8080/",
          "height": 497
        },
        "id": "TsM-coGTGcFl",
        "outputId": "9cee8139-de4c-4816-9ee8-1ff0727c2418"
      },
      "execution_count": null,
      "outputs": [
        {
          "output_type": "display_data",
          "data": {
            "image/png": "[encoded data removed]"
          },
          "metadata": {}
        }
      ]
    },
    {
      "cell_type": "markdown",
      "source": [
        "In questo caso sembra esserci effettivamente una differenza di peso tra maschi e femmine."
      ],
      "metadata": {
        "id": "K_X35-2ZG2H5"
      }
    },
    {
      "cell_type": "code",
      "source": [
        "%%R\n",
        "t.test(neonati$Peso ~ neonati$Sesso)"
      ],
      "metadata": {
        "colab": {
          "base_uri": "https://localhost:8080/"
        },
        "id": "IE1ssPCsuq9x",
        "outputId": "a372d97a-a889-46e6-ba50-ebdbe4511e2f"
      },
      "execution_count": null,
      "outputs": [
        {
          "output_type": "stream",
          "name": "stdout",
          "text": [
            "\n",
            "\tWelch Two Sample t-test\n",
            "\n",
            "data:  neonati$Peso by neonati$Sesso\n",
            "t = -12.106, df = 2490.7, p-value < 2.2e-16\n",
            "alternative hypothesis: true difference in means between group F and group M is not equal to 0\n",
            "95 percent confidence interval:\n",
            " -287.1051 -207.0615\n",
            "sample estimates:\n",
            "mean in group F mean in group M \n",
            "       3161.132        3408.215 \n",
            "\n"
          ]
        }
      ]
    },
    {
      "cell_type": "markdown",
      "source": [
        "Anche il t-test conferma che c'è una differenza significativa della media del peso tra maschi e femmine."
      ],
      "metadata": {
        "id": "sXvsUsS4uu9n"
      }
    },
    {
      "cell_type": "code",
      "source": [
        "%%R\n",
        "boxplot(neonati$Peso ~ neonati$Ospedale)"
      ],
      "metadata": {
        "id": "5H1nrTnkGe1P",
        "colab": {
          "base_uri": "https://localhost:8080/",
          "height": 497
        },
        "outputId": "8e4d5684-463b-49f5-b11c-bb254aa36c4a"
      },
      "execution_count": null,
      "outputs": [
        {
          "output_type": "display_data",
          "data": {
            "image/png": "[encoded data removed]"
          },
          "metadata": {}
        }
      ]
    },
    {
      "cell_type": "markdown",
      "source": [
        "In questo caso non sembrano esserci differenze significative di peso tra i neonati dei tre ospedali."
      ],
      "metadata": {
        "id": "DeuK7gjZvEVs"
      }
    },
    {
      "cell_type": "code",
      "source": [
        "%%R\n",
        "pairwise.t.test(neonati$Peso , neonati$Ospedale,\n",
        "                paired=F,\n",
        "                pool.sd=T,\n",
        "                p.adjust.method= \"bonferroni\")"
      ],
      "metadata": {
        "colab": {
          "base_uri": "https://localhost:8080/"
        },
        "id": "H6biQUATvQMY",
        "outputId": "be1df74d-9829-42fc-def7-fb98d789774b"
      },
      "execution_count": null,
      "outputs": [
        {
          "output_type": "stream",
          "name": "stdout",
          "text": [
            "\n",
            "\tPairwise comparisons using t tests with pooled SD \n",
            "\n",
            "data:  neonati$Peso and neonati$Ospedale \n",
            "\n",
            "     osp1 osp2\n",
            "osp2 1.00 -   \n",
            "osp3 0.33 0.33\n",
            "\n",
            "P value adjustment method: bonferroni \n"
          ]
        }
      ]
    },
    {
      "cell_type": "markdown",
      "source": [
        "Il t test conferma che non ci sono differenze significative del peso dei neonati tra i tre ospedali."
      ],
      "metadata": {
        "id": "56Lg3-BVw-TH"
      }
    },
    {
      "cell_type": "code",
      "source": [
        "%%R\n",
        "boxplot(neonati$Peso ~ neonati$Fumatrici)"
      ],
      "metadata": {
        "id": "fmzZLyTjGg84",
        "colab": {
          "base_uri": "https://localhost:8080/",
          "height": 497
        },
        "outputId": "12d92f39-5f4e-4954-84aa-8edb063c774b"
      },
      "execution_count": null,
      "outputs": [
        {
          "output_type": "display_data",
          "data": {
            "image/png": "[encoded data removed]"
          },
          "metadata": {}
        }
      ]
    },
    {
      "cell_type": "code",
      "source": [
        "%%R\n",
        "t.test(neonati$Peso ~ neonati$Fumatrici)"
      ],
      "metadata": {
        "colab": {
          "base_uri": "https://localhost:8080/"
        },
        "id": "ykDnX0GSx-pB",
        "outputId": "22801d62-e9d3-40e0-b88a-07145cbe6f09"
      },
      "execution_count": null,
      "outputs": [
        {
          "output_type": "stream",
          "name": "stdout",
          "text": [
            "\n",
            "\tWelch Two Sample t-test\n",
            "\n",
            "data:  neonati$Peso by neonati$Fumatrici\n",
            "t = 1.034, df = 114.1, p-value = 0.3033\n",
            "alternative hypothesis: true difference in means between group 0 and group 1 is not equal to 0\n",
            "95 percent confidence interval:\n",
            " -45.61354 145.22674\n",
            "sample estimates:\n",
            "mean in group 0 mean in group 1 \n",
            "       3286.153        3236.346 \n",
            "\n"
          ]
        }
      ]
    },
    {
      "cell_type": "markdown",
      "source": [
        "In questo caso non viene rifiutata l'ipotesi nulla di uguaglianza tra medie del peso dei neonati tra madri fumatrici e non fumatrici."
      ],
      "metadata": {
        "id": "pzRLLjTZyPBC"
      }
    },
    {
      "cell_type": "markdown",
      "source": [
        "Punto 2)"
      ],
      "metadata": {
        "id": "TrAmNjs3C6Vw"
      }
    },
    {
      "cell_type": "code",
      "source": [
        "%%R\n",
        "mod1 <- lm(Peso ~ ., data = neonati)\n",
        "summary(mod1)"
      ],
      "metadata": {
        "colab": {
          "base_uri": "https://localhost:8080/"
        },
        "id": "QL2kEYGkDAoD",
        "outputId": "41b7476d-75b7-4597-8fc6-d16a3d6c5afd"
      },
      "execution_count": 20,
      "outputs": [
        {
          "output_type": "stream",
          "name": "stdout",
          "text": [
            "\n",
            "Call:\n",
            "lm(formula = Peso ~ ., data = neonati)\n",
            "\n",
            "Residuals:\n",
            "    Min      1Q  Median      3Q     Max \n",
            "-1123.3  -181.2   -14.6   160.7  2612.6 \n",
            "\n",
            "Coefficients:\n",
            "                Estimate Std. Error t value Pr(>|t|)    \n",
            "(Intercept)   -6735.1425   141.3974 -47.633  < 2e-16 ***\n",
            "Anni.madre        0.7976     1.1463   0.696   0.4866    \n",
            "N.gravidanze     11.4129     4.6665   2.446   0.0145 *  \n",
            "Fumatrici       -30.1567    27.5396  -1.095   0.2736    \n",
            "Gestazione       32.5262     3.8179   8.519  < 2e-16 ***\n",
            "Lunghezza        10.2951     0.3007  34.237  < 2e-16 ***\n",
            "Cranio           10.4725     0.4261  24.580  < 2e-16 ***\n",
            "Tipo.partoNat    29.5026    12.0848   2.441   0.0147 *  \n",
            "Ospedaleosp2    -11.2217    13.4388  -0.835   0.4038    \n",
            "Ospedaleosp3     28.0985    13.4972   2.082   0.0375 *  \n",
            "SessoM           77.5473    11.1779   6.938 5.07e-12 ***\n",
            "---\n",
            "Signif. codes:  0 ‘***’ 0.001 ‘**’ 0.01 ‘*’ 0.05 ‘.’ 0.1 ‘ ’ 1\n",
            "\n",
            "Residual standard error: 273.9 on 2489 degrees of freedom\n",
            "Multiple R-squared:  0.7289,\tAdjusted R-squared:  0.7278 \n",
            "F-statistic: 669.1 on 10 and 2489 DF,  p-value: < 2.2e-16\n",
            "\n"
          ]
        }
      ]
    },
    {
      "cell_type": "markdown",
      "source": [
        "Come è emerso anche dal punto precedente, le variabili più correlate alla variabile peso sono gestazione, lunghezza e cranio. \\\n",
        "In particolare, per ogni settimana di gestazione in più si ha un aumento di circa 32 grammi; per ogni millimetro in più di lunghezza si ha un aumento di circa 10 grammi di peso e per ogni millimetro in più di diametro del cranio si ha un aumento di circa 10 grammi di peso.\\\n",
        "Per la variabile n.gravidanze si osserva che ad un aumento unitario del numero di gravidanze della madre aumenta di circa 11 grammi il peso del neonato ma il livello di significatività in questo caso è più basso dei precedenti.\\\n",
        "Indaghiamo ora le variabili qualitative:\n",
        "*   Per la variabile sesso, si osserva che tenendo fissate le altre variabili nei maschi si rileva un peso medio di circa 77 grammi in più con un livello molto elevato di significatività\n",
        "*  Per la variabile tipo.parto si osserva che i neonati con parto naturale pesano circa 29 grammi in più rispetto a quelli nati con parto cesareo, con un livello di significatività non molto alto.\n",
        "*  Per la variabile ospedale si osserva che i neonati dell'ospedale 3 hanno un peso mediamente più grande di circa 29 grammi rispetto ai neonati degli altri ospedali.\n",
        "\n",
        "Per questo modello, le restanti variabili non sono significative.\n",
        "Il valore dell'r quadro aggiustato mostra che c'è circa un 72% di variabilità spiegata, quindi sembra che possa essere migliorato.\n",
        "\n",
        "\n"
      ],
      "metadata": {
        "id": "xV8_g3HdDK8W"
      }
    },
    {
      "cell_type": "markdown",
      "source": [
        "Punto 3)\n",
        "Proviamo a scegliere il modello migliore con la procedura stepwise mixed. Consideriamo innanzitutto il modello ottenuto con la variabile lunghezza che è molto significativa per quello che emerge dal punto precedente."
      ],
      "metadata": {
        "id": "2JTjloaK9jTf"
      }
    },
    {
      "cell_type": "code",
      "source": [
        "%%R\n",
        "reg_mod2 <- lm(Peso~ Lunghezza , data=neonati)\n",
        "summary(reg_mod2)"
      ],
      "metadata": {
        "colab": {
          "base_uri": "https://localhost:8080/"
        },
        "id": "EFy6XEq-hvyW",
        "outputId": "1c760fb7-c238-4ac0-c696-c805f63671b9"
      },
      "execution_count": 21,
      "outputs": [
        {
          "output_type": "stream",
          "name": "stdout",
          "text": [
            "\n",
            "Call:\n",
            "lm(formula = Peso ~ Lunghezza, data = neonati)\n",
            "\n",
            "Residuals:\n",
            "    Min      1Q  Median      3Q     Max \n",
            "-1478.4  -206.0   -22.4   190.4  3939.5 \n",
            "\n",
            "Coefficients:\n",
            "              Estimate Std. Error t value Pr(>|t|)    \n",
            "(Intercept) -4571.8176   119.6778  -38.20   <2e-16 ***\n",
            "Lunghezza      15.8804     0.2416   65.73   <2e-16 ***\n",
            "---\n",
            "Signif. codes:  0 ‘***’ 0.001 ‘**’ 0.01 ‘*’ 0.05 ‘.’ 0.1 ‘ ’ 1\n",
            "\n",
            "Residual standard error: 317.8 on 2498 degrees of freedom\n",
            "Multiple R-squared:  0.6337,\tAdjusted R-squared:  0.6335 \n",
            "F-statistic:  4321 on 1 and 2498 DF,  p-value: < 2.2e-16\n",
            "\n"
          ]
        }
      ]
    },
    {
      "cell_type": "markdown",
      "source": [
        "L'r quadro aggiustato è abbastanza basso con una sola variabile esplicativa."
      ],
      "metadata": {
        "id": "hFfzOjjaiUjY"
      }
    },
    {
      "cell_type": "code",
      "source": [
        "%%R\n",
        "reg_mod3 <- update(reg_mod2, ~.+ Cranio)\n",
        "summary(reg_mod3)"
      ],
      "metadata": {
        "colab": {
          "base_uri": "https://localhost:8080/"
        },
        "id": "KDVyBQi_iOtw",
        "outputId": "79315b91-2b3d-42bc-ca66-fdfe0aef100e"
      },
      "execution_count": 22,
      "outputs": [
        {
          "output_type": "stream",
          "name": "stdout",
          "text": [
            "\n",
            "Call:\n",
            "lm(formula = Peso ~ Lunghezza + Cranio, data = neonati)\n",
            "\n",
            "Residuals:\n",
            "     Min       1Q   Median       3Q      Max \n",
            "-1295.09  -184.36   -11.95   162.85  2792.61 \n",
            "\n",
            "Coefficients:\n",
            "              Estimate Std. Error t value Pr(>|t|)    \n",
            "(Intercept) -6306.9134   124.8791  -50.50   <2e-16 ***\n",
            "Lunghezza      11.6312     0.2682   43.37   <2e-16 ***\n",
            "Cranio         11.2847     0.4298   26.26   <2e-16 ***\n",
            "---\n",
            "Signif. codes:  0 ‘***’ 0.001 ‘**’ 0.01 ‘*’ 0.05 ‘.’ 0.1 ‘ ’ 1\n",
            "\n",
            "Residual standard error: 281.4 on 2497 degrees of freedom\n",
            "Multiple R-squared:  0.7129,\tAdjusted R-squared:  0.7127 \n",
            "F-statistic:  3101 on 2 and 2497 DF,  p-value: < 2.2e-16\n",
            "\n"
          ]
        }
      ]
    },
    {
      "cell_type": "code",
      "source": [
        "%%R\n",
        "reg_mod4 <-update(reg_mod3, ~.+ Gestazione)\n",
        "summary(reg_mod4)"
      ],
      "metadata": {
        "colab": {
          "base_uri": "https://localhost:8080/"
        },
        "id": "Xqz0FN1giafc",
        "outputId": "3b2a2ba9-90ac-45d2-853b-c8a1c77890b5"
      },
      "execution_count": 23,
      "outputs": [
        {
          "output_type": "stream",
          "name": "stdout",
          "text": [
            "\n",
            "Call:\n",
            "lm(formula = Peso ~ Lunghezza + Cranio + Gestazione, data = neonati)\n",
            "\n",
            "Residuals:\n",
            "     Min       1Q   Median       3Q      Max \n",
            "-1105.77  -183.25   -12.83   166.41  2623.80 \n",
            "\n",
            "Coefficients:\n",
            "              Estimate Std. Error t value Pr(>|t|)    \n",
            "(Intercept) -6777.1203   135.6417 -49.963   <2e-16 ***\n",
            "Lunghezza      10.4252     0.3020  34.522   <2e-16 ***\n",
            "Cranio         10.7892     0.4282  25.194   <2e-16 ***\n",
            "Gestazione     31.6901     3.8219   8.292   <2e-16 ***\n",
            "---\n",
            "Signif. codes:  0 ‘***’ 0.001 ‘**’ 0.01 ‘*’ 0.05 ‘.’ 0.1 ‘ ’ 1\n",
            "\n",
            "Residual standard error: 277.7 on 2496 degrees of freedom\n",
            "Multiple R-squared:  0.7206,\tAdjusted R-squared:  0.7203 \n",
            "F-statistic:  2146 on 3 and 2496 DF,  p-value: < 2.2e-16\n",
            "\n"
          ]
        }
      ]
    },
    {
      "cell_type": "markdown",
      "source": [
        "Per il modello 3 viene raggiungo un 72% circa di varianza spiegata."
      ],
      "metadata": {
        "id": "QMJKeTFrifgh"
      }
    },
    {
      "cell_type": "code",
      "source": [
        "%%R\n",
        "reg_mod5 <- update(reg_mod4, ~.+ Sesso)\n",
        "summary(reg_mod5)"
      ],
      "metadata": {
        "colab": {
          "base_uri": "https://localhost:8080/"
        },
        "id": "zSsXqxtCioYP",
        "outputId": "ff70868a-68ff-4c6c-9d40-b9a6e09c1a3e"
      },
      "execution_count": 24,
      "outputs": [
        {
          "output_type": "stream",
          "name": "stdout",
          "text": [
            "\n",
            "Call:\n",
            "lm(formula = Peso ~ Lunghezza + Cranio + Gestazione + Sesso, \n",
            "    data = neonati)\n",
            "\n",
            "Residuals:\n",
            "    Min      1Q  Median      3Q     Max \n",
            "-1138.2  -184.3   -17.6   163.3  2627.3 \n",
            "\n",
            "Coefficients:\n",
            "              Estimate Std. Error t value Pr(>|t|)    \n",
            "(Intercept) -6651.1188   135.5172 -49.080  < 2e-16 ***\n",
            "Lunghezza      10.2054     0.3007  33.939  < 2e-16 ***\n",
            "Cranio         10.6704     0.4245  25.139  < 2e-16 ***\n",
            "Gestazione     31.2737     3.7856   8.261 2.31e-16 ***\n",
            "SessoM         79.1049    11.2117   7.056 2.22e-12 ***\n",
            "---\n",
            "Signif. codes:  0 ‘***’ 0.001 ‘**’ 0.01 ‘*’ 0.05 ‘.’ 0.1 ‘ ’ 1\n",
            "\n",
            "Residual standard error: 275 on 2495 degrees of freedom\n",
            "Multiple R-squared:  0.7261,\tAdjusted R-squared:  0.7257 \n",
            "F-statistic:  1654 on 4 and 2495 DF,  p-value: < 2.2e-16\n",
            "\n"
          ]
        }
      ]
    },
    {
      "cell_type": "markdown",
      "source": [
        "Per il modello precedente tutte le variabili restano significative e l'r quadro aggiustato è migliorato di mezzo punto percentuale."
      ],
      "metadata": {
        "id": "smZFgWePix35"
      }
    },
    {
      "cell_type": "code",
      "source": [
        "%%R\n",
        "reg_mod6 <- update(reg_mod5, ~.+ N.gravidanze)\n",
        "summary(reg_mod6)"
      ],
      "metadata": {
        "colab": {
          "base_uri": "https://localhost:8080/"
        },
        "id": "EBIZtokli59M",
        "outputId": "5f5cd2fd-4b56-47f4-8574-ba568225b726"
      },
      "execution_count": 25,
      "outputs": [
        {
          "output_type": "stream",
          "name": "stdout",
          "text": [
            "\n",
            "Call:\n",
            "lm(formula = Peso ~ Lunghezza + Cranio + Gestazione + Sesso + \n",
            "    N.gravidanze, data = neonati)\n",
            "\n",
            "Residuals:\n",
            "     Min       1Q   Median       3Q      Max \n",
            "-1149.44  -180.81   -15.58   163.64  2639.72 \n",
            "\n",
            "Coefficients:\n",
            "               Estimate Std. Error t value Pr(>|t|)    \n",
            "(Intercept)  -6681.1445   135.7229 -49.226  < 2e-16 ***\n",
            "Lunghezza       10.2486     0.3006  34.090  < 2e-16 ***\n",
            "Cranio          10.5402     0.4262  24.728  < 2e-16 ***\n",
            "Gestazione      32.3321     3.7980   8.513  < 2e-16 ***\n",
            "SessoM          77.9927    11.2021   6.962 4.26e-12 ***\n",
            "N.gravidanze    12.4750     4.3396   2.875  0.00408 ** \n",
            "---\n",
            "Signif. codes:  0 ‘***’ 0.001 ‘**’ 0.01 ‘*’ 0.05 ‘.’ 0.1 ‘ ’ 1\n",
            "\n",
            "Residual standard error: 274.6 on 2494 degrees of freedom\n",
            "Multiple R-squared:  0.727,\tAdjusted R-squared:  0.7265 \n",
            "F-statistic:  1328 on 5 and 2494 DF,  p-value: < 2.2e-16\n",
            "\n"
          ]
        }
      ]
    },
    {
      "cell_type": "markdown",
      "source": [
        "L'r quadro migliora di poco aggiungendo la variabile n.gravidanze."
      ],
      "metadata": {
        "id": "ctt0e434jDYf"
      }
    },
    {
      "cell_type": "code",
      "source": [
        "%%R\n",
        "reg_mod7 <- update(reg_mod6, ~. + Tipo.parto)\n",
        "summary(reg_mod7)"
      ],
      "metadata": {
        "colab": {
          "base_uri": "https://localhost:8080/"
        },
        "id": "k_rtW6LLjLJr",
        "outputId": "9a71306f-65e2-423a-da10-2785b5a12eb5"
      },
      "execution_count": 26,
      "outputs": [
        {
          "output_type": "stream",
          "name": "stdout",
          "text": [
            "\n",
            "Call:\n",
            "lm(formula = Peso ~ Lunghezza + Cranio + Gestazione + Sesso + \n",
            "    N.gravidanze + Tipo.parto, data = neonati)\n",
            "\n",
            "Residuals:\n",
            "     Min       1Q   Median       3Q      Max \n",
            "-1129.31  -181.70   -16.31   161.07  2638.85 \n",
            "\n",
            "Coefficients:\n",
            "                Estimate Std. Error t value Pr(>|t|)    \n",
            "(Intercept)   -6707.2971   135.9911 -49.322  < 2e-16 ***\n",
            "Lunghezza        10.2864     0.3007  34.207  < 2e-16 ***\n",
            "Cranio           10.5057     0.4260  24.659  < 2e-16 ***\n",
            "Gestazione       32.2713     3.7941   8.506  < 2e-16 ***\n",
            "SessoM           77.9285    11.1905   6.964 4.22e-12 ***\n",
            "N.gravidanze     12.7558     4.3366   2.941   0.0033 ** \n",
            "Tipo.partoNat    30.0342    12.0969   2.483   0.0131 *  \n",
            "---\n",
            "Signif. codes:  0 ‘***’ 0.001 ‘**’ 0.01 ‘*’ 0.05 ‘.’ 0.1 ‘ ’ 1\n",
            "\n",
            "Residual standard error: 274.3 on 2493 degrees of freedom\n",
            "Multiple R-squared:  0.7277,\tAdjusted R-squared:  0.727 \n",
            "F-statistic:  1110 on 6 and 2493 DF,  p-value: < 2.2e-16\n",
            "\n"
          ]
        }
      ]
    },
    {
      "cell_type": "markdown",
      "source": [
        "Anche se l'r quadro migliora di poco, la variabile tipo.parto non sembra migliorare molto il modello, in più è una variabile che difficilmente si conosce con certezza prima del parto e dunque probabilmente poco utile se vogliamo prevedere il peso del neonato. Decido pertanto di non considerare questa variabile."
      ],
      "metadata": {
        "id": "16yFZxdujNk-"
      }
    },
    {
      "cell_type": "code",
      "source": [
        "%%R\n",
        "reg_mod8 <- update(reg_mod6, ~. + Anni.madre)\n",
        "summary(reg_mod8)"
      ],
      "metadata": {
        "colab": {
          "base_uri": "https://localhost:8080/"
        },
        "id": "y8C-pMUbkw_h",
        "outputId": "3203b2d3-1c46-43a7-a815-a845f4f88c5e"
      },
      "execution_count": 27,
      "outputs": [
        {
          "output_type": "stream",
          "name": "stdout",
          "text": [
            "\n",
            "Call:\n",
            "lm(formula = Peso ~ Lunghezza + Cranio + Gestazione + Sesso + \n",
            "    N.gravidanze + Anni.madre, data = neonati)\n",
            "\n",
            "Residuals:\n",
            "     Min       1Q   Median       3Q      Max \n",
            "-1159.87  -181.74   -15.18   164.25  2634.66 \n",
            "\n",
            "Coefficients:\n",
            "               Estimate Std. Error t value Pr(>|t|)    \n",
            "(Intercept)  -6711.3578   141.2598 -47.511  < 2e-16 ***\n",
            "Lunghezza       10.2492     0.3007  34.089  < 2e-16 ***\n",
            "Cranio          10.5233     0.4268  24.654  < 2e-16 ***\n",
            "Gestazione      32.6391     3.8190   8.546  < 2e-16 ***\n",
            "SessoM          77.9113    11.2035   6.954 4.51e-12 ***\n",
            "N.gravidanze    11.1459     4.6688   2.387    0.017 *  \n",
            "Anni.madre       0.8871     1.1487   0.772    0.440    \n",
            "---\n",
            "Signif. codes:  0 ‘***’ 0.001 ‘**’ 0.01 ‘*’ 0.05 ‘.’ 0.1 ‘ ’ 1\n",
            "\n",
            "Residual standard error: 274.6 on 2493 degrees of freedom\n",
            "Multiple R-squared:  0.7271,\tAdjusted R-squared:  0.7264 \n",
            "F-statistic:  1107 on 6 and 2493 DF,  p-value: < 2.2e-16\n",
            "\n"
          ]
        }
      ]
    },
    {
      "cell_type": "markdown",
      "source": [
        "Si osserva che aggiungendo la variabile anni.madre c'è addirittura un peggioramento dell'r quadro aggiustato rispetto a reg_mod6, la variabile n.gravidanze perde di significatività rispetto a reg_mod6. Perciò questo modello verrà scartato"
      ],
      "metadata": {
        "id": "WN3mQIHJlYUz"
      }
    },
    {
      "cell_type": "code",
      "source": [
        "%%R\n",
        "reg_mod9 <- update(reg_mod5, ~. + Anni.madre)\n",
        "summary(reg_mod9)"
      ],
      "metadata": {
        "colab": {
          "base_uri": "https://localhost:8080/"
        },
        "id": "IYj7qLjnkcT7",
        "outputId": "d9ebef20-4635-4f2b-9c1c-892e5a8d8a59"
      },
      "execution_count": 28,
      "outputs": [
        {
          "output_type": "stream",
          "name": "stdout",
          "text": [
            "\n",
            "Call:\n",
            "lm(formula = Peso ~ Lunghezza + Cranio + Gestazione + Sesso + \n",
            "    Anni.madre, data = neonati)\n",
            "\n",
            "Residuals:\n",
            "     Min       1Q   Median       3Q      Max \n",
            "-1163.06  -184.10   -14.38   163.03  2619.29 \n",
            "\n",
            "Coefficients:\n",
            "              Estimate Std. Error t value Pr(>|t|)    \n",
            "(Intercept) -6722.6061   141.3141 -47.572  < 2e-16 ***\n",
            "Lunghezza      10.2167     0.3006  33.984  < 2e-16 ***\n",
            "Cranio         10.6045     0.4259  24.900  < 2e-16 ***\n",
            "Gestazione     32.1719     3.8176   8.427  < 2e-16 ***\n",
            "SessoM         78.6771    11.2095   7.019 2.87e-12 ***\n",
            "Anni.madre      1.8980     1.0688   1.776   0.0759 .  \n",
            "---\n",
            "Signif. codes:  0 ‘***’ 0.001 ‘**’ 0.01 ‘*’ 0.05 ‘.’ 0.1 ‘ ’ 1\n",
            "\n",
            "Residual standard error: 274.9 on 2494 degrees of freedom\n",
            "Multiple R-squared:  0.7264,\tAdjusted R-squared:  0.7259 \n",
            "F-statistic:  1325 on 5 and 2494 DF,  p-value: < 2.2e-16\n",
            "\n"
          ]
        }
      ]
    },
    {
      "cell_type": "markdown",
      "source": [
        "Aggiungendo la variabile anni.madre al modello senza la variabile n.gravidanze si osserva che l'r quadro aggiustato resta più o meno uguale, ma comunque la significatività di anni.madre è minore rispetto a quella di n.gravidanze in reg_mod6. Perciò questo lascia pensare che anche questo modello è da scartare."
      ],
      "metadata": {
        "id": "2fWmeg1tmTr3"
      }
    },
    {
      "cell_type": "code",
      "source": [
        "%%R\n",
        "reg_mod10 <- update(reg_mod6, ~.+Fumatrici)\n",
        "summary(reg_mod10)"
      ],
      "metadata": {
        "colab": {
          "base_uri": "https://localhost:8080/"
        },
        "id": "mXNgT1mAmvqz",
        "outputId": "f0a77582-148b-4493-99b8-de51f1cf0fc7"
      },
      "execution_count": 29,
      "outputs": [
        {
          "output_type": "stream",
          "name": "stdout",
          "text": [
            "\n",
            "Call:\n",
            "lm(formula = Peso ~ Lunghezza + Cranio + Gestazione + Sesso + \n",
            "    N.gravidanze + Fumatrici, data = neonati)\n",
            "\n",
            "Residuals:\n",
            "    Min      1Q  Median      3Q     Max \n",
            "-1150.3  -181.3   -15.7   163.0  2636.3 \n",
            "\n",
            "Coefficients:\n",
            "               Estimate Std. Error t value Pr(>|t|)    \n",
            "(Intercept)  -6681.6714   135.7178 -49.232  < 2e-16 ***\n",
            "Lunghezza       10.2341     0.3009  34.011  < 2e-16 ***\n",
            "Cranio          10.5359     0.4262  24.718  < 2e-16 ***\n",
            "Gestazione      32.5914     3.8051   8.565  < 2e-16 ***\n",
            "SessoM          78.1713    11.2028   6.978 3.83e-12 ***\n",
            "N.gravidanze    12.7185     4.3450   2.927  0.00345 ** \n",
            "Fumatrici      -30.4634    27.5948  -1.104  0.26972    \n",
            "---\n",
            "Signif. codes:  0 ‘***’ 0.001 ‘**’ 0.01 ‘*’ 0.05 ‘.’ 0.1 ‘ ’ 1\n",
            "\n",
            "Residual standard error: 274.6 on 2493 degrees of freedom\n",
            "Multiple R-squared:  0.7271,\tAdjusted R-squared:  0.7265 \n",
            "F-statistic:  1107 on 6 and 2493 DF,  p-value: < 2.2e-16\n",
            "\n"
          ]
        }
      ]
    },
    {
      "cell_type": "markdown",
      "source": [
        "La variabile fumatrici non sembra migliorare il modello."
      ],
      "metadata": {
        "id": "70502WC4nJCt"
      }
    },
    {
      "cell_type": "code",
      "source": [
        "%%R\n",
        "reg_mod11 <- update(reg_mod6, ~.+Ospedale)\n",
        "summary(reg_mod11)"
      ],
      "metadata": {
        "colab": {
          "base_uri": "https://localhost:8080/"
        },
        "id": "v-CHFtzZnDtE",
        "outputId": "83d16f4f-0bdd-4316-aa24-c903f05d4699"
      },
      "execution_count": 30,
      "outputs": [
        {
          "output_type": "stream",
          "name": "stdout",
          "text": [
            "\n",
            "Call:\n",
            "lm(formula = Peso ~ Lunghezza + Cranio + Gestazione + Sesso + \n",
            "    N.gravidanze + Ospedale, data = neonati)\n",
            "\n",
            "Residuals:\n",
            "     Min       1Q   Median       3Q      Max \n",
            "-1132.59  -183.63   -16.59   163.83  2620.70 \n",
            "\n",
            "Coefficients:\n",
            "               Estimate Std. Error t value Pr(>|t|)    \n",
            "(Intercept)  -6682.0094   135.6710 -49.252  < 2e-16 ***\n",
            "Lunghezza       10.2720     0.3003  34.204  < 2e-16 ***\n",
            "Cranio          10.5257     0.4256  24.729  < 2e-16 ***\n",
            "Gestazione      32.0456     3.7933   8.448  < 2e-16 ***\n",
            "SessoM          77.4967    11.1865   6.928 5.42e-12 ***\n",
            "N.gravidanze    12.0824     4.3352   2.787  0.00536 ** \n",
            "Ospedaleosp2   -11.0741    13.4494  -0.823  0.41036    \n",
            "Ospedaleosp3    29.1990    13.4998   2.163  0.03064 *  \n",
            "---\n",
            "Signif. codes:  0 ‘***’ 0.001 ‘**’ 0.01 ‘*’ 0.05 ‘.’ 0.1 ‘ ’ 1\n",
            "\n",
            "Residual standard error: 274.2 on 2492 degrees of freedom\n",
            "Multiple R-squared:  0.7281,\tAdjusted R-squared:  0.7273 \n",
            "F-statistic: 953.1 on 7 and 2492 DF,  p-value: < 2.2e-16\n",
            "\n"
          ]
        }
      ]
    },
    {
      "cell_type": "markdown",
      "source": [
        "La variabile Ospedale migliora di poco l'r quadro aggiustato."
      ],
      "metadata": {
        "id": "rtTM77hjnSC4"
      }
    },
    {
      "cell_type": "code",
      "source": [
        "%%R\n",
        "BIC(reg_mod3 , reg_mod4, reg_mod5, reg_mod6 , reg_mod11 )"
      ],
      "metadata": {
        "colab": {
          "base_uri": "https://localhost:8080/"
        },
        "id": "1RIhgyYNnXOX",
        "outputId": "e12ad035-8dc5-4387-be6e-a564f2e5e6fd"
      },
      "execution_count": 31,
      "outputs": [
        {
          "output_type": "stream",
          "name": "stdout",
          "text": [
            "          df      BIC\n",
            "reg_mod3   4 35322.22\n",
            "reg_mod4   5 35262.11\n",
            "reg_mod5   6 35220.54\n",
            "reg_mod6   7 35220.10\n",
            "reg_mod11  9 35226.09\n"
          ]
        }
      ]
    },
    {
      "cell_type": "code",
      "source": [
        "%%R\n",
        "AIC(reg_mod3 , reg_mod4, reg_mod5, reg_mod6 , reg_mod11 )"
      ],
      "metadata": {
        "colab": {
          "base_uri": "https://localhost:8080/"
        },
        "id": "7WT9l8k9n9o4",
        "outputId": "b27bd8e9-a5ee-4f6c-ce67-c8703c386f58"
      },
      "execution_count": 32,
      "outputs": [
        {
          "output_type": "stream",
          "name": "stdout",
          "text": [
            "          df      AIC\n",
            "reg_mod3   4 35298.92\n",
            "reg_mod4   5 35232.99\n",
            "reg_mod5   6 35185.60\n",
            "reg_mod6   7 35179.33\n",
            "reg_mod11  9 35173.68\n"
          ]
        }
      ]
    },
    {
      "cell_type": "markdown",
      "source": [
        "Dai metodi BIC e AIC sembra che reg_mod5, reg_mod6, reg_mod11 siano i migliori."
      ],
      "metadata": {
        "id": "mzVbVhXcnyqk"
      }
    },
    {
      "cell_type": "code",
      "source": [
        "%%R\n",
        "prova<-MASS::stepAIC(mod1, direction=\"both\", k=log(2500))\n",
        "summary(prova)"
      ],
      "metadata": {
        "colab": {
          "base_uri": "https://localhost:8080/"
        },
        "id": "bfdMqDhX1XVB",
        "outputId": "a162ff4b-09fa-4674-e1ce-d2080148a77a"
      },
      "execution_count": 33,
      "outputs": [
        {
          "output_type": "stream",
          "name": "stdout",
          "text": [
            "Start:  AIC=28139.46\n",
            "Peso ~ Anni.madre + N.gravidanze + Fumatrici + Gestazione + Lunghezza + \n",
            "    Cranio + Tipo.parto + Ospedale + Sesso\n",
            "\n",
            "               Df Sum of Sq       RSS   AIC\n",
            "- Anni.madre    1     36327 186809099 28132\n",
            "- Fumatrici     1     89979 186862751 28133\n",
            "- Ospedale      2    686401 187459173 28133\n",
            "- Tipo.parto    1    447229 187220001 28138\n",
            "- N.gravidanze  1    448852 187221624 28138\n",
            "<none>                      186772772 28140\n",
            "- Sesso         1   3611594 190384366 28180\n",
            "- Gestazione    1   5446480 192219252 28204\n",
            "- Cranio        1  45338159 232110931 28675\n",
            "- Lunghezza     1  87959834 274732606 29096\n",
            "\n",
            "Step:  AIC=28132.12\n",
            "Peso ~ N.gravidanze + Fumatrici + Gestazione + Lunghezza + Cranio + \n",
            "    Tipo.parto + Ospedale + Sesso\n",
            "\n",
            "               Df Sum of Sq       RSS   AIC\n",
            "- Fumatrici     1     90897 186899996 28126\n",
            "- Ospedale      2    692738 187501837 28126\n",
            "- Tipo.parto    1    448222 187257321 28130\n",
            "<none>                      186809099 28132\n",
            "- N.gravidanze  1    633756 187442855 28133\n",
            "+ Anni.madre    1     36327 186772772 28140\n",
            "- Sesso         1   3618736 190427835 28172\n",
            "- Gestazione    1   5412879 192221978 28196\n",
            "- Cranio        1  45588236 232397335 28670\n",
            "- Lunghezza     1  87950050 274759149 29089\n",
            "\n",
            "Step:  AIC=28125.51\n",
            "Peso ~ N.gravidanze + Gestazione + Lunghezza + Cranio + Tipo.parto + \n",
            "    Ospedale + Sesso\n",
            "\n",
            "               Df Sum of Sq       RSS   AIC\n",
            "- Ospedale      2    701680 187601677 28119\n",
            "- Tipo.parto    1    440684 187340680 28124\n",
            "<none>                      186899996 28126\n",
            "- N.gravidanze  1    610840 187510837 28126\n",
            "+ Fumatrici     1     90897 186809099 28132\n",
            "+ Anni.madre    1     37246 186862751 28133\n",
            "- Sesso         1   3602797 190502794 28165\n",
            "- Gestazione    1   5346781 192246777 28188\n",
            "- Cranio        1  45632149 232532146 28664\n",
            "- Lunghezza     1  88355030 275255027 29086\n",
            "\n",
            "Step:  AIC=28119.23\n",
            "Peso ~ N.gravidanze + Gestazione + Lunghezza + Cranio + Tipo.parto + \n",
            "    Sesso\n",
            "\n",
            "               Df Sum of Sq       RSS   AIC\n",
            "- Tipo.parto    1    463870 188065546 28118\n",
            "<none>                      187601677 28119\n",
            "- N.gravidanze  1    651066 188252743 28120\n",
            "+ Ospedale      2    701680 186899996 28126\n",
            "+ Fumatrici     1     99840 187501837 28126\n",
            "+ Anni.madre    1     43775 187557901 28126\n",
            "- Sesso         1   3649259 191250936 28160\n",
            "- Gestazione    1   5444109 193045786 28183\n",
            "- Cranio        1  45758101 233359778 28657\n",
            "- Lunghezza     1  88054432 275656108 29074\n",
            "\n",
            "Step:  AIC=28117.58\n",
            "Peso ~ N.gravidanze + Gestazione + Lunghezza + Cranio + Sesso\n",
            "\n",
            "               Df Sum of Sq       RSS   AIC\n",
            "<none>                      188065546 28118\n",
            "- N.gravidanze  1    623141 188688687 28118\n",
            "+ Tipo.parto    1    463870 187601677 28119\n",
            "+ Ospedale      2    724866 187340680 28124\n",
            "+ Fumatrici     1     91892 187973654 28124\n",
            "+ Anni.madre    1     44978 188020568 28125\n",
            "- Sesso         1   3655292 191720838 28158\n",
            "- Gestazione    1   5464853 193530399 28181\n",
            "- Cranio        1  46108583 234174130 28658\n",
            "- Lunghezza     1  87632762 275698308 29066\n",
            "\n",
            "Call:\n",
            "lm(formula = Peso ~ N.gravidanze + Gestazione + Lunghezza + Cranio + \n",
            "    Sesso, data = neonati)\n",
            "\n",
            "Residuals:\n",
            "     Min       1Q   Median       3Q      Max \n",
            "-1149.44  -180.81   -15.58   163.64  2639.72 \n",
            "\n",
            "Coefficients:\n",
            "               Estimate Std. Error t value Pr(>|t|)    \n",
            "(Intercept)  -6681.1445   135.7229 -49.226  < 2e-16 ***\n",
            "N.gravidanze    12.4750     4.3396   2.875  0.00408 ** \n",
            "Gestazione      32.3321     3.7980   8.513  < 2e-16 ***\n",
            "Lunghezza       10.2486     0.3006  34.090  < 2e-16 ***\n",
            "Cranio          10.5402     0.4262  24.728  < 2e-16 ***\n",
            "SessoM          77.9927    11.2021   6.962 4.26e-12 ***\n",
            "---\n",
            "Signif. codes:  0 ‘***’ 0.001 ‘**’ 0.01 ‘*’ 0.05 ‘.’ 0.1 ‘ ’ 1\n",
            "\n",
            "Residual standard error: 274.6 on 2494 degrees of freedom\n",
            "Multiple R-squared:  0.727,\tAdjusted R-squared:  0.7265 \n",
            "F-statistic:  1328 on 5 and 2494 DF,  p-value: < 2.2e-16\n",
            "\n"
          ]
        }
      ]
    },
    {
      "cell_type": "markdown",
      "source": [
        "La funzione stepwiseAIC sceglie reg_mod6, proviamo con il metodo anova a capire se il modello migliora considerando anche la variabile ospedale."
      ],
      "metadata": {
        "id": "DPO7voqU3o1z"
      }
    },
    {
      "cell_type": "code",
      "source": [
        "%%R\n",
        "anova( reg_mod6 , reg_mod11)"
      ],
      "metadata": {
        "colab": {
          "base_uri": "https://localhost:8080/"
        },
        "id": "08U97P0toTDB",
        "outputId": "49e8c497-f630-4433-98c0-fbca731fe7e8"
      },
      "execution_count": 34,
      "outputs": [
        {
          "output_type": "stream",
          "name": "stdout",
          "text": [
            "Analysis of Variance Table\n",
            "\n",
            "Model 1: Peso ~ Lunghezza + Cranio + Gestazione + Sesso + N.gravidanze\n",
            "Model 2: Peso ~ Lunghezza + Cranio + Gestazione + Sesso + N.gravidanze + \n",
            "    Ospedale\n",
            "  Res.Df       RSS Df Sum of Sq      F   Pr(>F)   \n",
            "1   2494 188065546                                \n",
            "2   2492 187340680  2    724866 4.8211 0.008133 **\n",
            "---\n",
            "Signif. codes:  0 ‘***’ 0.001 ‘**’ 0.01 ‘*’ 0.05 ‘.’ 0.1 ‘ ’ 1\n"
          ]
        }
      ]
    },
    {
      "cell_type": "markdown",
      "source": [
        "Il test di anova suggerisce che c'è un miglioramento signficativo tra reg_mod6 e reg_mod11; questo perchè il p-valore è molto basso."
      ],
      "metadata": {
        "id": "VrfqOtQYo7RB"
      }
    },
    {
      "cell_type": "markdown",
      "source": [
        "Ci troviamo quindi a dover scegliere tra reg_mod6 e reg_mod11; il metodo BIC suggerisce di scegliere reg_mod6 perchè più \"parsimonioso\", AIC al contrario suggerisce di scegliere reg_mod11. Il p-value della variabile \"ospedaleosp3\" è di circa il 3% quindi sicuramente sotto la soglia fissata del 5% ma non di tantissimo. Dal boxplot inoltre emerge che non c'è una differenza significativa della media del peso tra i tre ospedali e il t-test relativo non rifiuta l'ipotesi nulla di uguaglianza tra medie. Tuttavia il test di anova dice che il modello reg_mod11 è significativamente migliore rispetto a reg_mod6. Il valore dell'r-quadro aggiustato è molto simile per entrambi i modelli.  \\\n",
        "A questo punto si può scegliere se preferire un modello più semplice (reg_mod6) oppure se preferire un modello più complesso (reg_mod11)."
      ],
      "metadata": {
        "id": "Tw_vIlt1E-t7"
      }
    },
    {
      "cell_type": "markdown",
      "source": [
        "Dal momento che la variabile ospedale non può influire sulle caratteristiche di un neonato, scelgo reg_mod6."
      ],
      "metadata": {
        "id": "_aqb6hIgeLrm"
      }
    },
    {
      "cell_type": "code",
      "source": [
        "%%R\n",
        "install.packages(\"car\")"
      ],
      "metadata": {
        "id": "xL_FBmm_uLP7",
        "colab": {
          "base_uri": "https://localhost:8080/"
        },
        "outputId": "e616a1cd-8b93-474a-81db-14fcd7bdee90"
      },
      "execution_count": 35,
      "outputs": [
        {
          "output_type": "stream",
          "name": "stderr",
          "text": [
            "WARNING:rpy2.rinterface_lib.callbacks:R[write to console]: Installing package into ‘/usr/local/lib/R/site-library’\n",
            "(as ‘lib’ is unspecified)\n",
            "\n",
            "WARNING:rpy2.rinterface_lib.callbacks:R[write to console]: also installing the dependencies ‘numDeriv’, ‘SparseM’, ‘MatrixModels’, ‘minqa’, ‘nloptr’, ‘Rcpp’, ‘RcppEigen’, ‘carData’, ‘abind’, ‘pbkrtest’, ‘quantreg’, ‘lme4’\n",
            "\n",
            "\n",
            "WARNING:rpy2.rinterface_lib.callbacks:R[write to console]: trying URL 'https://cran.rstudio.com/src/contrib/numDeriv_2016.8-1.1.tar.gz'\n",
            "\n",
            "WARNING:rpy2.rinterface_lib.callbacks:R[write to console]: Content type 'application/x-gzip'\n",
            "WARNING:rpy2.rinterface_lib.callbacks:R[write to console]:  length 76053 bytes (74 KB)\n",
            "\n",
            "WARNING:rpy2.rinterface_lib.callbacks:R[write to console]: =\n",
            "WARNING:rpy2.rinterface_lib.callbacks:R[write to console]: =\n",
            "WARNING:rpy2.rinterface_lib.callbacks:R[write to console]: =\n",
            "WARNING:rpy2.rinterface_lib.callbacks:R[write to console]: =\n",
            "WARNING:rpy2.rinterface_lib.callbacks:R[write to console]: =\n",
            "WARNING:rpy2.rinterface_lib.callbacks:R[write to console]: =\n",
            "WARNING:rpy2.rinterface_lib.callbacks:R[write to console]: =\n",
            "WARNING:rpy2.rinterface_lib.callbacks:R[write to console]: =\n",
            "WARNING:rpy2.rinterface_lib.callbacks:R[write to console]: =\n",
            "WARNING:rpy2.rinterface_lib.callbacks:R[write to console]: =\n",
            "WARNING:rpy2.rinterface_lib.callbacks:R[write to console]: =\n",
            "WARNING:rpy2.rinterface_lib.callbacks:R[write to console]: =\n",
            "WARNING:rpy2.rinterface_lib.callbacks:R[write to console]: =\n",
            "WARNING:rpy2.rinterface_lib.callbacks:R[write to console]: =\n",
            "WARNING:rpy2.rinterface_lib.callbacks:R[write to console]: =\n",
            "WARNING:rpy2.rinterface_lib.callbacks:R[write to console]: =\n",
            "WARNING:rpy2.rinterface_lib.callbacks:R[write to console]: =\n",
            "WARNING:rpy2.rinterface_lib.callbacks:R[write to console]: =\n",
            "WARNING:rpy2.rinterface_lib.callbacks:R[write to console]: =\n",
            "WARNING:rpy2.rinterface_lib.callbacks:R[write to console]: =\n",
            "WARNING:rpy2.rinterface_lib.callbacks:R[write to console]: =\n",
            "WARNING:rpy2.rinterface_lib.callbacks:R[write to console]: =\n",
            "WARNING:rpy2.rinterface_lib.callbacks:R[write to console]: =\n",
            "WARNING:rpy2.rinterface_lib.callbacks:R[write to console]: =\n",
            "WARNING:rpy2.rinterface_lib.callbacks:R[write to console]: =\n",
            "WARNING:rpy2.rinterface_lib.callbacks:R[write to console]: =\n",
            "WARNING:rpy2.rinterface_lib.callbacks:R[write to console]: =\n",
            "WARNING:rpy2.rinterface_lib.callbacks:R[write to console]: =\n",
            "WARNING:rpy2.rinterface_lib.callbacks:R[write to console]: =\n",
            "WARNING:rpy2.rinterface_lib.callbacks:R[write to console]: =\n",
            "WARNING:rpy2.rinterface_lib.callbacks:R[write to console]: =\n",
            "WARNING:rpy2.rinterface_lib.callbacks:R[write to console]: =\n",
            "WARNING:rpy2.rinterface_lib.callbacks:R[write to console]: =\n",
            "WARNING:rpy2.rinterface_lib.callbacks:R[write to console]: =\n",
            "WARNING:rpy2.rinterface_lib.callbacks:R[write to console]: =\n",
            "WARNING:rpy2.rinterface_lib.callbacks:R[write to console]: =\n",
            "WARNING:rpy2.rinterface_lib.callbacks:R[write to console]: =\n",
            "WARNING:rpy2.rinterface_lib.callbacks:R[write to console]: =\n",
            "WARNING:rpy2.rinterface_lib.callbacks:R[write to console]: =\n",
            "WARNING:rpy2.rinterface_lib.callbacks:R[write to console]: =\n",
            "WARNING:rpy2.rinterface_lib.callbacks:R[write to console]: =\n",
            "WARNING:rpy2.rinterface_lib.callbacks:R[write to console]: =\n",
            "WARNING:rpy2.rinterface_lib.callbacks:R[write to console]: =\n",
            "WARNING:rpy2.rinterface_lib.callbacks:R[write to console]: =\n",
            "WARNING:rpy2.rinterface_lib.callbacks:R[write to console]: =\n",
            "WARNING:rpy2.rinterface_lib.callbacks:R[write to console]: =\n",
            "WARNING:rpy2.rinterface_lib.callbacks:R[write to console]: =\n",
            "WARNING:rpy2.rinterface_lib.callbacks:R[write to console]: =\n",
            "WARNING:rpy2.rinterface_lib.callbacks:R[write to console]: =\n",
            "WARNING:rpy2.rinterface_lib.callbacks:R[write to console]: =\n",
            "WARNING:rpy2.rinterface_lib.callbacks:R[write to console]: \n",
            "\n",
            "WARNING:rpy2.rinterface_lib.callbacks:R[write to console]: downloaded 74 KB\n",
            "\n",
            "\n",
            "WARNING:rpy2.rinterface_lib.callbacks:R[write to console]: trying URL 'https://cran.rstudio.com/src/contrib/SparseM_1.81.tar.gz'\n",
            "\n",
            "WARNING:rpy2.rinterface_lib.callbacks:R[write to console]: Content type 'application/x-gzip'\n",
            "WARNING:rpy2.rinterface_lib.callbacks:R[write to console]:  length 735100 bytes (717 KB)\n",
            "\n",
            "WARNING:rpy2.rinterface_lib.callbacks:R[write to console]: =\n",
            "WARNING:rpy2.rinterface_lib.callbacks:R[write to console]: =\n",
            "WARNING:rpy2.rinterface_lib.callbacks:R[write to console]: =\n",
            "WARNING:rpy2.rinterface_lib.callbacks:R[write to console]: =\n",
            "WARNING:rpy2.rinterface_lib.callbacks:R[write to console]: =\n",
            "WARNING:rpy2.rinterface_lib.callbacks:R[write to console]: =\n",
            "WARNING:rpy2.rinterface_lib.callbacks:R[write to console]: =\n",
            "WARNING:rpy2.rinterface_lib.callbacks:R[write to console]: =\n",
            "WARNING:rpy2.rinterface_lib.callbacks:R[write to console]: =\n",
            "WARNING:rpy2.rinterface_lib.callbacks:R[write to console]: =\n",
            "WARNING:rpy2.rinterface_lib.callbacks:R[write to console]: =\n",
            "WARNING:rpy2.rinterface_lib.callbacks:R[write to console]: =\n",
            "WARNING:rpy2.rinterface_lib.callbacks:R[write to console]: =\n",
            "WARNING:rpy2.rinterface_lib.callbacks:R[write to console]: =\n",
            "WARNING:rpy2.rinterface_lib.callbacks:R[write to console]: =\n",
            "WARNING:rpy2.rinterface_lib.callbacks:R[write to console]: =\n",
            "WARNING:rpy2.rinterface_lib.callbacks:R[write to console]: =\n",
            "WARNING:rpy2.rinterface_lib.callbacks:R[write to console]: =\n",
            "WARNING:rpy2.rinterface_lib.callbacks:R[write to console]: =\n",
            "WARNING:rpy2.rinterface_lib.callbacks:R[write to console]: =\n",
            "WARNING:rpy2.rinterface_lib.callbacks:R[write to console]: =\n",
            "WARNING:rpy2.rinterface_lib.callbacks:R[write to console]: =\n",
            "WARNING:rpy2.rinterface_lib.callbacks:R[write to console]: =\n",
            "WARNING:rpy2.rinterface_lib.callbacks:R[write to console]: =\n",
            "WARNING:rpy2.rinterface_lib.callbacks:R[write to console]: =\n",
            "WARNING:rpy2.rinterface_lib.callbacks:R[write to console]: =\n",
            "WARNING:rpy2.rinterface_lib.callbacks:R[write to console]: =\n",
            "WARNING:rpy2.rinterface_lib.callbacks:R[write to console]: =\n",
            "WARNING:rpy2.rinterface_lib.callbacks:R[write to console]: =\n",
            "WARNING:rpy2.rinterface_lib.callbacks:R[write to console]: =\n",
            "WARNING:rpy2.rinterface_lib.callbacks:R[write to console]: =\n",
            "WARNING:rpy2.rinterface_lib.callbacks:R[write to console]: =\n",
            "WARNING:rpy2.rinterface_lib.callbacks:R[write to console]: =\n",
            "WARNING:rpy2.rinterface_lib.callbacks:R[write to console]: =\n",
            "WARNING:rpy2.rinterface_lib.callbacks:R[write to console]: =\n",
            "WARNING:rpy2.rinterface_lib.callbacks:R[write to console]: =\n",
            "WARNING:rpy2.rinterface_lib.callbacks:R[write to console]: =\n",
            "WARNING:rpy2.rinterface_lib.callbacks:R[write to console]: =\n",
            "WARNING:rpy2.rinterface_lib.callbacks:R[write to console]: =\n",
            "WARNING:rpy2.rinterface_lib.callbacks:R[write to console]: =\n",
            "WARNING:rpy2.rinterface_lib.callbacks:R[write to console]: =\n",
            "WARNING:rpy2.rinterface_lib.callbacks:R[write to console]: =\n",
            "WARNING:rpy2.rinterface_lib.callbacks:R[write to console]: =\n",
            "WARNING:rpy2.rinterface_lib.callbacks:R[write to console]: =\n",
            "WARNING:rpy2.rinterface_lib.callbacks:R[write to console]: =\n",
            "WARNING:rpy2.rinterface_lib.callbacks:R[write to console]: =\n",
            "WARNING:rpy2.rinterface_lib.callbacks:R[write to console]: =\n",
            "WARNING:rpy2.rinterface_lib.callbacks:R[write to console]: =\n",
            "WARNING:rpy2.rinterface_lib.callbacks:R[write to console]: =\n",
            "WARNING:rpy2.rinterface_lib.callbacks:R[write to console]: =\n",
            "WARNING:rpy2.rinterface_lib.callbacks:R[write to console]: \n",
            "\n",
            "WARNING:rpy2.rinterface_lib.callbacks:R[write to console]: downloaded 717 KB\n",
            "\n",
            "\n",
            "WARNING:rpy2.rinterface_lib.callbacks:R[write to console]: trying URL 'https://cran.rstudio.com/src/contrib/MatrixModels_0.5-3.tar.gz'\n",
            "\n",
            "WARNING:rpy2.rinterface_lib.callbacks:R[write to console]: Content type 'application/x-gzip'\n",
            "WARNING:rpy2.rinterface_lib.callbacks:R[write to console]:  length 24822 bytes (24 KB)\n",
            "\n",
            "WARNING:rpy2.rinterface_lib.callbacks:R[write to console]: =\n",
            "WARNING:rpy2.rinterface_lib.callbacks:R[write to console]: =\n",
            "WARNING:rpy2.rinterface_lib.callbacks:R[write to console]: =\n",
            "WARNING:rpy2.rinterface_lib.callbacks:R[write to console]: =\n",
            "WARNING:rpy2.rinterface_lib.callbacks:R[write to console]: =\n",
            "WARNING:rpy2.rinterface_lib.callbacks:R[write to console]: =\n",
            "WARNING:rpy2.rinterface_lib.callbacks:R[write to console]: =\n",
            "WARNING:rpy2.rinterface_lib.callbacks:R[write to console]: =\n",
            "WARNING:rpy2.rinterface_lib.callbacks:R[write to console]: =\n",
            "WARNING:rpy2.rinterface_lib.callbacks:R[write to console]: =\n",
            "WARNING:rpy2.rinterface_lib.callbacks:R[write to console]: =\n",
            "WARNING:rpy2.rinterface_lib.callbacks:R[write to console]: =\n",
            "WARNING:rpy2.rinterface_lib.callbacks:R[write to console]: =\n",
            "WARNING:rpy2.rinterface_lib.callbacks:R[write to console]: =\n",
            "WARNING:rpy2.rinterface_lib.callbacks:R[write to console]: =\n",
            "WARNING:rpy2.rinterface_lib.callbacks:R[write to console]: =\n",
            "WARNING:rpy2.rinterface_lib.callbacks:R[write to console]: =\n",
            "WARNING:rpy2.rinterface_lib.callbacks:R[write to console]: =\n",
            "WARNING:rpy2.rinterface_lib.callbacks:R[write to console]: =\n",
            "WARNING:rpy2.rinterface_lib.callbacks:R[write to console]: =\n",
            "WARNING:rpy2.rinterface_lib.callbacks:R[write to console]: =\n",
            "WARNING:rpy2.rinterface_lib.callbacks:R[write to console]: =\n",
            "WARNING:rpy2.rinterface_lib.callbacks:R[write to console]: =\n",
            "WARNING:rpy2.rinterface_lib.callbacks:R[write to console]: =\n",
            "WARNING:rpy2.rinterface_lib.callbacks:R[write to console]: =\n",
            "WARNING:rpy2.rinterface_lib.callbacks:R[write to console]: =\n",
            "WARNING:rpy2.rinterface_lib.callbacks:R[write to console]: =\n",
            "WARNING:rpy2.rinterface_lib.callbacks:R[write to console]: =\n",
            "WARNING:rpy2.rinterface_lib.callbacks:R[write to console]: =\n",
            "WARNING:rpy2.rinterface_lib.callbacks:R[write to console]: =\n",
            "WARNING:rpy2.rinterface_lib.callbacks:R[write to console]: =\n",
            "WARNING:rpy2.rinterface_lib.callbacks:R[write to console]: =\n",
            "WARNING:rpy2.rinterface_lib.callbacks:R[write to console]: =\n",
            "WARNING:rpy2.rinterface_lib.callbacks:R[write to console]: =\n",
            "WARNING:rpy2.rinterface_lib.callbacks:R[write to console]: =\n",
            "WARNING:rpy2.rinterface_lib.callbacks:R[write to console]: =\n",
            "WARNING:rpy2.rinterface_lib.callbacks:R[write to console]: =\n",
            "WARNING:rpy2.rinterface_lib.callbacks:R[write to console]: =\n",
            "WARNING:rpy2.rinterface_lib.callbacks:R[write to console]: =\n",
            "WARNING:rpy2.rinterface_lib.callbacks:R[write to console]: =\n",
            "WARNING:rpy2.rinterface_lib.callbacks:R[write to console]: =\n",
            "WARNING:rpy2.rinterface_lib.callbacks:R[write to console]: =\n",
            "WARNING:rpy2.rinterface_lib.callbacks:R[write to console]: =\n",
            "WARNING:rpy2.rinterface_lib.callbacks:R[write to console]: =\n",
            "WARNING:rpy2.rinterface_lib.callbacks:R[write to console]: =\n",
            "WARNING:rpy2.rinterface_lib.callbacks:R[write to console]: =\n",
            "WARNING:rpy2.rinterface_lib.callbacks:R[write to console]: =\n",
            "WARNING:rpy2.rinterface_lib.callbacks:R[write to console]: =\n",
            "WARNING:rpy2.rinterface_lib.callbacks:R[write to console]: =\n",
            "WARNING:rpy2.rinterface_lib.callbacks:R[write to console]: =\n",
            "WARNING:rpy2.rinterface_lib.callbacks:R[write to console]: \n",
            "\n",
            "WARNING:rpy2.rinterface_lib.callbacks:R[write to console]: downloaded 24 KB\n",
            "\n",
            "\n",
            "WARNING:rpy2.rinterface_lib.callbacks:R[write to console]: trying URL 'https://cran.rstudio.com/src/contrib/minqa_1.2.6.tar.gz'\n",
            "\n",
            "WARNING:rpy2.rinterface_lib.callbacks:R[write to console]: Content type 'application/x-gzip'\n",
            "WARNING:rpy2.rinterface_lib.callbacks:R[write to console]:  length 54493 bytes (53 KB)\n",
            "\n",
            "WARNING:rpy2.rinterface_lib.callbacks:R[write to console]: =\n",
            "WARNING:rpy2.rinterface_lib.callbacks:R[write to console]: =\n",
            "WARNING:rpy2.rinterface_lib.callbacks:R[write to console]: =\n",
            "WARNING:rpy2.rinterface_lib.callbacks:R[write to console]: =\n",
            "WARNING:rpy2.rinterface_lib.callbacks:R[write to console]: =\n",
            "WARNING:rpy2.rinterface_lib.callbacks:R[write to console]: =\n",
            "WARNING:rpy2.rinterface_lib.callbacks:R[write to console]: =\n",
            "WARNING:rpy2.rinterface_lib.callbacks:R[write to console]: =\n",
            "WARNING:rpy2.rinterface_lib.callbacks:R[write to console]: =\n",
            "WARNING:rpy2.rinterface_lib.callbacks:R[write to console]: =\n",
            "WARNING:rpy2.rinterface_lib.callbacks:R[write to console]: =\n",
            "WARNING:rpy2.rinterface_lib.callbacks:R[write to console]: =\n",
            "WARNING:rpy2.rinterface_lib.callbacks:R[write to console]: =\n",
            "WARNING:rpy2.rinterface_lib.callbacks:R[write to console]: =\n",
            "WARNING:rpy2.rinterface_lib.callbacks:R[write to console]: =\n",
            "WARNING:rpy2.rinterface_lib.callbacks:R[write to console]: =\n",
            "WARNING:rpy2.rinterface_lib.callbacks:R[write to console]: =\n",
            "WARNING:rpy2.rinterface_lib.callbacks:R[write to console]: =\n",
            "WARNING:rpy2.rinterface_lib.callbacks:R[write to console]: =\n",
            "WARNING:rpy2.rinterface_lib.callbacks:R[write to console]: =\n",
            "WARNING:rpy2.rinterface_lib.callbacks:R[write to console]: =\n",
            "WARNING:rpy2.rinterface_lib.callbacks:R[write to console]: =\n",
            "WARNING:rpy2.rinterface_lib.callbacks:R[write to console]: =\n",
            "WARNING:rpy2.rinterface_lib.callbacks:R[write to console]: =\n",
            "WARNING:rpy2.rinterface_lib.callbacks:R[write to console]: =\n",
            "WARNING:rpy2.rinterface_lib.callbacks:R[write to console]: =\n",
            "WARNING:rpy2.rinterface_lib.callbacks:R[write to console]: =\n",
            "WARNING:rpy2.rinterface_lib.callbacks:R[write to console]: =\n",
            "WARNING:rpy2.rinterface_lib.callbacks:R[write to console]: =\n",
            "WARNING:rpy2.rinterface_lib.callbacks:R[write to console]: =\n",
            "WARNING:rpy2.rinterface_lib.callbacks:R[write to console]: =\n",
            "WARNING:rpy2.rinterface_lib.callbacks:R[write to console]: =\n",
            "WARNING:rpy2.rinterface_lib.callbacks:R[write to console]: =\n",
            "WARNING:rpy2.rinterface_lib.callbacks:R[write to console]: =\n",
            "WARNING:rpy2.rinterface_lib.callbacks:R[write to console]: =\n",
            "WARNING:rpy2.rinterface_lib.callbacks:R[write to console]: =\n",
            "WARNING:rpy2.rinterface_lib.callbacks:R[write to console]: =\n",
            "WARNING:rpy2.rinterface_lib.callbacks:R[write to console]: =\n",
            "WARNING:rpy2.rinterface_lib.callbacks:R[write to console]: =\n",
            "WARNING:rpy2.rinterface_lib.callbacks:R[write to console]: =\n",
            "WARNING:rpy2.rinterface_lib.callbacks:R[write to console]: =\n",
            "WARNING:rpy2.rinterface_lib.callbacks:R[write to console]: =\n",
            "WARNING:rpy2.rinterface_lib.callbacks:R[write to console]: =\n",
            "WARNING:rpy2.rinterface_lib.callbacks:R[write to console]: =\n",
            "WARNING:rpy2.rinterface_lib.callbacks:R[write to console]: =\n",
            "WARNING:rpy2.rinterface_lib.callbacks:R[write to console]: =\n",
            "WARNING:rpy2.rinterface_lib.callbacks:R[write to console]: =\n",
            "WARNING:rpy2.rinterface_lib.callbacks:R[write to console]: =\n",
            "WARNING:rpy2.rinterface_lib.callbacks:R[write to console]: =\n",
            "WARNING:rpy2.rinterface_lib.callbacks:R[write to console]: =\n",
            "WARNING:rpy2.rinterface_lib.callbacks:R[write to console]: \n",
            "\n",
            "WARNING:rpy2.rinterface_lib.callbacks:R[write to console]: downloaded 53 KB\n",
            "\n",
            "\n",
            "WARNING:rpy2.rinterface_lib.callbacks:R[write to console]: trying URL 'https://cran.rstudio.com/src/contrib/nloptr_2.0.3.tar.gz'\n",
            "\n",
            "WARNING:rpy2.rinterface_lib.callbacks:R[write to console]: Content type 'application/x-gzip'\n",
            "WARNING:rpy2.rinterface_lib.callbacks:R[write to console]:  length 2219877 bytes (2.1 MB)\n",
            "\n",
            "WARNING:rpy2.rinterface_lib.callbacks:R[write to console]: =\n",
            "WARNING:rpy2.rinterface_lib.callbacks:R[write to console]: =\n",
            "WARNING:rpy2.rinterface_lib.callbacks:R[write to console]: =\n",
            "WARNING:rpy2.rinterface_lib.callbacks:R[write to console]: =\n",
            "WARNING:rpy2.rinterface_lib.callbacks:R[write to console]: =\n",
            "WARNING:rpy2.rinterface_lib.callbacks:R[write to console]: =\n",
            "WARNING:rpy2.rinterface_lib.callbacks:R[write to console]: =\n",
            "WARNING:rpy2.rinterface_lib.callbacks:R[write to console]: =\n",
            "WARNING:rpy2.rinterface_lib.callbacks:R[write to console]: =\n",
            "WARNING:rpy2.rinterface_lib.callbacks:R[write to console]: =\n",
            "WARNING:rpy2.rinterface_lib.callbacks:R[write to console]: =\n",
            "WARNING:rpy2.rinterface_lib.callbacks:R[write to console]: =\n",
            "WARNING:rpy2.rinterface_lib.callbacks:R[write to console]: =\n",
            "WARNING:rpy2.rinterface_lib.callbacks:R[write to console]: =\n",
            "WARNING:rpy2.rinterface_lib.callbacks:R[write to console]: =\n",
            "WARNING:rpy2.rinterface_lib.callbacks:R[write to console]: =\n",
            "WARNING:rpy2.rinterface_lib.callbacks:R[write to console]: =\n",
            "WARNING:rpy2.rinterface_lib.callbacks:R[write to console]: =\n",
            "WARNING:rpy2.rinterface_lib.callbacks:R[write to console]: =\n",
            "WARNING:rpy2.rinterface_lib.callbacks:R[write to console]: =\n",
            "WARNING:rpy2.rinterface_lib.callbacks:R[write to console]: =\n",
            "WARNING:rpy2.rinterface_lib.callbacks:R[write to console]: =\n",
            "WARNING:rpy2.rinterface_lib.callbacks:R[write to console]: =\n",
            "WARNING:rpy2.rinterface_lib.callbacks:R[write to console]: =\n",
            "WARNING:rpy2.rinterface_lib.callbacks:R[write to console]: =\n",
            "WARNING:rpy2.rinterface_lib.callbacks:R[write to console]: =\n",
            "WARNING:rpy2.rinterface_lib.callbacks:R[write to console]: =\n",
            "WARNING:rpy2.rinterface_lib.callbacks:R[write to console]: =\n",
            "WARNING:rpy2.rinterface_lib.callbacks:R[write to console]: =\n",
            "WARNING:rpy2.rinterface_lib.callbacks:R[write to console]: =\n",
            "WARNING:rpy2.rinterface_lib.callbacks:R[write to console]: =\n",
            "WARNING:rpy2.rinterface_lib.callbacks:R[write to console]: =\n",
            "WARNING:rpy2.rinterface_lib.callbacks:R[write to console]: =\n",
            "WARNING:rpy2.rinterface_lib.callbacks:R[write to console]: =\n",
            "WARNING:rpy2.rinterface_lib.callbacks:R[write to console]: =\n",
            "WARNING:rpy2.rinterface_lib.callbacks:R[write to console]: =\n",
            "WARNING:rpy2.rinterface_lib.callbacks:R[write to console]: =\n",
            "WARNING:rpy2.rinterface_lib.callbacks:R[write to console]: =\n",
            "WARNING:rpy2.rinterface_lib.callbacks:R[write to console]: =\n",
            "WARNING:rpy2.rinterface_lib.callbacks:R[write to console]: =\n",
            "WARNING:rpy2.rinterface_lib.callbacks:R[write to console]: =\n",
            "WARNING:rpy2.rinterface_lib.callbacks:R[write to console]: =\n",
            "WARNING:rpy2.rinterface_lib.callbacks:R[write to console]: =\n",
            "WARNING:rpy2.rinterface_lib.callbacks:R[write to console]: =\n",
            "WARNING:rpy2.rinterface_lib.callbacks:R[write to console]: =\n",
            "WARNING:rpy2.rinterface_lib.callbacks:R[write to console]: =\n",
            "WARNING:rpy2.rinterface_lib.callbacks:R[write to console]: =\n",
            "WARNING:rpy2.rinterface_lib.callbacks:R[write to console]: =\n",
            "WARNING:rpy2.rinterface_lib.callbacks:R[write to console]: =\n",
            "WARNING:rpy2.rinterface_lib.callbacks:R[write to console]: =\n",
            "WARNING:rpy2.rinterface_lib.callbacks:R[write to console]: \n",
            "\n",
            "WARNING:rpy2.rinterface_lib.callbacks:R[write to console]: downloaded 2.1 MB\n",
            "\n",
            "\n",
            "WARNING:rpy2.rinterface_lib.callbacks:R[write to console]: trying URL 'https://cran.rstudio.com/src/contrib/Rcpp_1.0.11.tar.gz'\n",
            "\n",
            "WARNING:rpy2.rinterface_lib.callbacks:R[write to console]: Content type 'application/x-gzip'\n",
            "WARNING:rpy2.rinterface_lib.callbacks:R[write to console]:  length 2994004 bytes (2.9 MB)\n",
            "\n",
            "WARNING:rpy2.rinterface_lib.callbacks:R[write to console]: =\n",
            "WARNING:rpy2.rinterface_lib.callbacks:R[write to console]: =\n",
            "WARNING:rpy2.rinterface_lib.callbacks:R[write to console]: =\n",
            "WARNING:rpy2.rinterface_lib.callbacks:R[write to console]: =\n",
            "WARNING:rpy2.rinterface_lib.callbacks:R[write to console]: =\n",
            "WARNING:rpy2.rinterface_lib.callbacks:R[write to console]: =\n",
            "WARNING:rpy2.rinterface_lib.callbacks:R[write to console]: =\n",
            "WARNING:rpy2.rinterface_lib.callbacks:R[write to console]: =\n",
            "WARNING:rpy2.rinterface_lib.callbacks:R[write to console]: =\n",
            "WARNING:rpy2.rinterface_lib.callbacks:R[write to console]: =\n",
            "WARNING:rpy2.rinterface_lib.callbacks:R[write to console]: =\n",
            "WARNING:rpy2.rinterface_lib.callbacks:R[write to console]: =\n",
            "WARNING:rpy2.rinterface_lib.callbacks:R[write to console]: =\n",
            "WARNING:rpy2.rinterface_lib.callbacks:R[write to console]: =\n",
            "WARNING:rpy2.rinterface_lib.callbacks:R[write to console]: =\n",
            "WARNING:rpy2.rinterface_lib.callbacks:R[write to console]: =\n",
            "WARNING:rpy2.rinterface_lib.callbacks:R[write to console]: =\n",
            "WARNING:rpy2.rinterface_lib.callbacks:R[write to console]: =\n",
            "WARNING:rpy2.rinterface_lib.callbacks:R[write to console]: =\n",
            "WARNING:rpy2.rinterface_lib.callbacks:R[write to console]: =\n",
            "WARNING:rpy2.rinterface_lib.callbacks:R[write to console]: =\n",
            "WARNING:rpy2.rinterface_lib.callbacks:R[write to console]: =\n",
            "WARNING:rpy2.rinterface_lib.callbacks:R[write to console]: =\n",
            "WARNING:rpy2.rinterface_lib.callbacks:R[write to console]: =\n",
            "WARNING:rpy2.rinterface_lib.callbacks:R[write to console]: =\n",
            "WARNING:rpy2.rinterface_lib.callbacks:R[write to console]: =\n",
            "WARNING:rpy2.rinterface_lib.callbacks:R[write to console]: =\n",
            "WARNING:rpy2.rinterface_lib.callbacks:R[write to console]: =\n",
            "WARNING:rpy2.rinterface_lib.callbacks:R[write to console]: =\n",
            "WARNING:rpy2.rinterface_lib.callbacks:R[write to console]: =\n",
            "WARNING:rpy2.rinterface_lib.callbacks:R[write to console]: =\n",
            "WARNING:rpy2.rinterface_lib.callbacks:R[write to console]: =\n",
            "WARNING:rpy2.rinterface_lib.callbacks:R[write to console]: =\n",
            "WARNING:rpy2.rinterface_lib.callbacks:R[write to console]: =\n",
            "WARNING:rpy2.rinterface_lib.callbacks:R[write to console]: =\n",
            "WARNING:rpy2.rinterface_lib.callbacks:R[write to console]: =\n",
            "WARNING:rpy2.rinterface_lib.callbacks:R[write to console]: =\n",
            "WARNING:rpy2.rinterface_lib.callbacks:R[write to console]: =\n",
            "WARNING:rpy2.rinterface_lib.callbacks:R[write to console]: =\n",
            "WARNING:rpy2.rinterface_lib.callbacks:R[write to console]: =\n",
            "WARNING:rpy2.rinterface_lib.callbacks:R[write to console]: =\n",
            "WARNING:rpy2.rinterface_lib.callbacks:R[write to console]: =\n",
            "WARNING:rpy2.rinterface_lib.callbacks:R[write to console]: =\n",
            "WARNING:rpy2.rinterface_lib.callbacks:R[write to console]: =\n",
            "WARNING:rpy2.rinterface_lib.callbacks:R[write to console]: =\n",
            "WARNING:rpy2.rinterface_lib.callbacks:R[write to console]: =\n",
            "WARNING:rpy2.rinterface_lib.callbacks:R[write to console]: =\n",
            "WARNING:rpy2.rinterface_lib.callbacks:R[write to console]: =\n",
            "WARNING:rpy2.rinterface_lib.callbacks:R[write to console]: =\n",
            "WARNING:rpy2.rinterface_lib.callbacks:R[write to console]: =\n",
            "WARNING:rpy2.rinterface_lib.callbacks:R[write to console]: \n",
            "\n",
            "WARNING:rpy2.rinterface_lib.callbacks:R[write to console]: downloaded 2.9 MB\n",
            "\n",
            "\n",
            "WARNING:rpy2.rinterface_lib.callbacks:R[write to console]: trying URL 'https://cran.rstudio.com/src/contrib/RcppEigen_0.3.3.9.4.tar.gz'\n",
            "\n",
            "WARNING:rpy2.rinterface_lib.callbacks:R[write to console]: Content type 'application/x-gzip'\n",
            "WARNING:rpy2.rinterface_lib.callbacks:R[write to console]:  length 1451521 bytes (1.4 MB)\n",
            "\n",
            "WARNING:rpy2.rinterface_lib.callbacks:R[write to console]: =\n",
            "WARNING:rpy2.rinterface_lib.callbacks:R[write to console]: =\n",
            "WARNING:rpy2.rinterface_lib.callbacks:R[write to console]: =\n",
            "WARNING:rpy2.rinterface_lib.callbacks:R[write to console]: =\n",
            "WARNING:rpy2.rinterface_lib.callbacks:R[write to console]: =\n",
            "WARNING:rpy2.rinterface_lib.callbacks:R[write to console]: =\n",
            "WARNING:rpy2.rinterface_lib.callbacks:R[write to console]: =\n",
            "WARNING:rpy2.rinterface_lib.callbacks:R[write to console]: =\n",
            "WARNING:rpy2.rinterface_lib.callbacks:R[write to console]: =\n",
            "WARNING:rpy2.rinterface_lib.callbacks:R[write to console]: =\n",
            "WARNING:rpy2.rinterface_lib.callbacks:R[write to console]: =\n",
            "WARNING:rpy2.rinterface_lib.callbacks:R[write to console]: =\n",
            "WARNING:rpy2.rinterface_lib.callbacks:R[write to console]: =\n",
            "WARNING:rpy2.rinterface_lib.callbacks:R[write to console]: =\n",
            "WARNING:rpy2.rinterface_lib.callbacks:R[write to console]: =\n",
            "WARNING:rpy2.rinterface_lib.callbacks:R[write to console]: =\n",
            "WARNING:rpy2.rinterface_lib.callbacks:R[write to console]: =\n",
            "WARNING:rpy2.rinterface_lib.callbacks:R[write to console]: =\n",
            "WARNING:rpy2.rinterface_lib.callbacks:R[write to console]: =\n",
            "WARNING:rpy2.rinterface_lib.callbacks:R[write to console]: =\n",
            "WARNING:rpy2.rinterface_lib.callbacks:R[write to console]: =\n",
            "WARNING:rpy2.rinterface_lib.callbacks:R[write to console]: =\n",
            "WARNING:rpy2.rinterface_lib.callbacks:R[write to console]: =\n",
            "WARNING:rpy2.rinterface_lib.callbacks:R[write to console]: =\n",
            "WARNING:rpy2.rinterface_lib.callbacks:R[write to console]: =\n",
            "WARNING:rpy2.rinterface_lib.callbacks:R[write to console]: =\n",
            "WARNING:rpy2.rinterface_lib.callbacks:R[write to console]: =\n",
            "WARNING:rpy2.rinterface_lib.callbacks:R[write to console]: =\n",
            "WARNING:rpy2.rinterface_lib.callbacks:R[write to console]: =\n",
            "WARNING:rpy2.rinterface_lib.callbacks:R[write to console]: =\n",
            "WARNING:rpy2.rinterface_lib.callbacks:R[write to console]: =\n",
            "WARNING:rpy2.rinterface_lib.callbacks:R[write to console]: =\n",
            "WARNING:rpy2.rinterface_lib.callbacks:R[write to console]: =\n",
            "WARNING:rpy2.rinterface_lib.callbacks:R[write to console]: =\n",
            "WARNING:rpy2.rinterface_lib.callbacks:R[write to console]: =\n",
            "WARNING:rpy2.rinterface_lib.callbacks:R[write to console]: =\n",
            "WARNING:rpy2.rinterface_lib.callbacks:R[write to console]: =\n",
            "WARNING:rpy2.rinterface_lib.callbacks:R[write to console]: =\n",
            "WARNING:rpy2.rinterface_lib.callbacks:R[write to console]: =\n",
            "WARNING:rpy2.rinterface_lib.callbacks:R[write to console]: =\n",
            "WARNING:rpy2.rinterface_lib.callbacks:R[write to console]: =\n",
            "WARNING:rpy2.rinterface_lib.callbacks:R[write to console]: =\n",
            "WARNING:rpy2.rinterface_lib.callbacks:R[write to console]: =\n",
            "WARNING:rpy2.rinterface_lib.callbacks:R[write to console]: =\n",
            "WARNING:rpy2.rinterface_lib.callbacks:R[write to console]: =\n",
            "WARNING:rpy2.rinterface_lib.callbacks:R[write to console]: =\n",
            "WARNING:rpy2.rinterface_lib.callbacks:R[write to console]: =\n",
            "WARNING:rpy2.rinterface_lib.callbacks:R[write to console]: =\n",
            "WARNING:rpy2.rinterface_lib.callbacks:R[write to console]: =\n",
            "WARNING:rpy2.rinterface_lib.callbacks:R[write to console]: =\n",
            "WARNING:rpy2.rinterface_lib.callbacks:R[write to console]: \n",
            "\n",
            "WARNING:rpy2.rinterface_lib.callbacks:R[write to console]: downloaded 1.4 MB\n",
            "\n",
            "\n",
            "WARNING:rpy2.rinterface_lib.callbacks:R[write to console]: trying URL 'https://cran.rstudio.com/src/contrib/carData_3.0-5.tar.gz'\n",
            "\n",
            "WARNING:rpy2.rinterface_lib.callbacks:R[write to console]: Content type 'application/x-gzip'\n",
            "WARNING:rpy2.rinterface_lib.callbacks:R[write to console]:  length 1004201 bytes (980 KB)\n",
            "\n",
            "WARNING:rpy2.rinterface_lib.callbacks:R[write to console]: =\n",
            "WARNING:rpy2.rinterface_lib.callbacks:R[write to console]: =\n",
            "WARNING:rpy2.rinterface_lib.callbacks:R[write to console]: =\n",
            "WARNING:rpy2.rinterface_lib.callbacks:R[write to console]: =\n",
            "WARNING:rpy2.rinterface_lib.callbacks:R[write to console]: =\n",
            "WARNING:rpy2.rinterface_lib.callbacks:R[write to console]: =\n",
            "WARNING:rpy2.rinterface_lib.callbacks:R[write to console]: =\n",
            "WARNING:rpy2.rinterface_lib.callbacks:R[write to console]: =\n",
            "WARNING:rpy2.rinterface_lib.callbacks:R[write to console]: =\n",
            "WARNING:rpy2.rinterface_lib.callbacks:R[write to console]: =\n",
            "WARNING:rpy2.rinterface_lib.callbacks:R[write to console]: =\n",
            "WARNING:rpy2.rinterface_lib.callbacks:R[write to console]: =\n",
            "WARNING:rpy2.rinterface_lib.callbacks:R[write to console]: =\n",
            "WARNING:rpy2.rinterface_lib.callbacks:R[write to console]: =\n",
            "WARNING:rpy2.rinterface_lib.callbacks:R[write to console]: =\n",
            "WARNING:rpy2.rinterface_lib.callbacks:R[write to console]: =\n",
            "WARNING:rpy2.rinterface_lib.callbacks:R[write to console]: =\n",
            "WARNING:rpy2.rinterface_lib.callbacks:R[write to console]: =\n",
            "WARNING:rpy2.rinterface_lib.callbacks:R[write to console]: =\n",
            "WARNING:rpy2.rinterface_lib.callbacks:R[write to console]: =\n",
            "WARNING:rpy2.rinterface_lib.callbacks:R[write to console]: =\n",
            "WARNING:rpy2.rinterface_lib.callbacks:R[write to console]: =\n",
            "WARNING:rpy2.rinterface_lib.callbacks:R[write to console]: =\n",
            "WARNING:rpy2.rinterface_lib.callbacks:R[write to console]: =\n",
            "WARNING:rpy2.rinterface_lib.callbacks:R[write to console]: =\n",
            "WARNING:rpy2.rinterface_lib.callbacks:R[write to console]: =\n",
            "WARNING:rpy2.rinterface_lib.callbacks:R[write to console]: =\n",
            "WARNING:rpy2.rinterface_lib.callbacks:R[write to console]: =\n",
            "WARNING:rpy2.rinterface_lib.callbacks:R[write to console]: =\n",
            "WARNING:rpy2.rinterface_lib.callbacks:R[write to console]: =\n",
            "WARNING:rpy2.rinterface_lib.callbacks:R[write to console]: =\n",
            "WARNING:rpy2.rinterface_lib.callbacks:R[write to console]: =\n",
            "WARNING:rpy2.rinterface_lib.callbacks:R[write to console]: =\n",
            "WARNING:rpy2.rinterface_lib.callbacks:R[write to console]: =\n",
            "WARNING:rpy2.rinterface_lib.callbacks:R[write to console]: =\n",
            "WARNING:rpy2.rinterface_lib.callbacks:R[write to console]: =\n",
            "WARNING:rpy2.rinterface_lib.callbacks:R[write to console]: =\n",
            "WARNING:rpy2.rinterface_lib.callbacks:R[write to console]: =\n",
            "WARNING:rpy2.rinterface_lib.callbacks:R[write to console]: =\n",
            "WARNING:rpy2.rinterface_lib.callbacks:R[write to console]: =\n",
            "WARNING:rpy2.rinterface_lib.callbacks:R[write to console]: =\n",
            "WARNING:rpy2.rinterface_lib.callbacks:R[write to console]: =\n",
            "WARNING:rpy2.rinterface_lib.callbacks:R[write to console]: =\n",
            "WARNING:rpy2.rinterface_lib.callbacks:R[write to console]: =\n",
            "WARNING:rpy2.rinterface_lib.callbacks:R[write to console]: =\n",
            "WARNING:rpy2.rinterface_lib.callbacks:R[write to console]: =\n",
            "WARNING:rpy2.rinterface_lib.callbacks:R[write to console]: =\n",
            "WARNING:rpy2.rinterface_lib.callbacks:R[write to console]: =\n",
            "WARNING:rpy2.rinterface_lib.callbacks:R[write to console]: =\n",
            "WARNING:rpy2.rinterface_lib.callbacks:R[write to console]: =\n",
            "WARNING:rpy2.rinterface_lib.callbacks:R[write to console]: \n",
            "\n",
            "WARNING:rpy2.rinterface_lib.callbacks:R[write to console]: downloaded 980 KB\n",
            "\n",
            "\n",
            "WARNING:rpy2.rinterface_lib.callbacks:R[write to console]: trying URL 'https://cran.rstudio.com/src/contrib/abind_1.4-5.tar.gz'\n",
            "\n",
            "WARNING:rpy2.rinterface_lib.callbacks:R[write to console]: Content type 'application/x-gzip'\n",
            "WARNING:rpy2.rinterface_lib.callbacks:R[write to console]:  length 21810 bytes (21 KB)\n",
            "\n",
            "WARNING:rpy2.rinterface_lib.callbacks:R[write to console]: =\n",
            "WARNING:rpy2.rinterface_lib.callbacks:R[write to console]: =\n",
            "WARNING:rpy2.rinterface_lib.callbacks:R[write to console]: =\n",
            "WARNING:rpy2.rinterface_lib.callbacks:R[write to console]: =\n",
            "WARNING:rpy2.rinterface_lib.callbacks:R[write to console]: =\n",
            "WARNING:rpy2.rinterface_lib.callbacks:R[write to console]: =\n",
            "WARNING:rpy2.rinterface_lib.callbacks:R[write to console]: =\n",
            "WARNING:rpy2.rinterface_lib.callbacks:R[write to console]: =\n",
            "WARNING:rpy2.rinterface_lib.callbacks:R[write to console]: =\n",
            "WARNING:rpy2.rinterface_lib.callbacks:R[write to console]: =\n",
            "WARNING:rpy2.rinterface_lib.callbacks:R[write to console]: =\n",
            "WARNING:rpy2.rinterface_lib.callbacks:R[write to console]: =\n",
            "WARNING:rpy2.rinterface_lib.callbacks:R[write to console]: =\n",
            "WARNING:rpy2.rinterface_lib.callbacks:R[write to console]: =\n",
            "WARNING:rpy2.rinterface_lib.callbacks:R[write to console]: =\n",
            "WARNING:rpy2.rinterface_lib.callbacks:R[write to console]: =\n",
            "WARNING:rpy2.rinterface_lib.callbacks:R[write to console]: =\n",
            "WARNING:rpy2.rinterface_lib.callbacks:R[write to console]: =\n",
            "WARNING:rpy2.rinterface_lib.callbacks:R[write to console]: =\n",
            "WARNING:rpy2.rinterface_lib.callbacks:R[write to console]: =\n",
            "WARNING:rpy2.rinterface_lib.callbacks:R[write to console]: =\n",
            "WARNING:rpy2.rinterface_lib.callbacks:R[write to console]: =\n",
            "WARNING:rpy2.rinterface_lib.callbacks:R[write to console]: =\n",
            "WARNING:rpy2.rinterface_lib.callbacks:R[write to console]: =\n",
            "WARNING:rpy2.rinterface_lib.callbacks:R[write to console]: =\n",
            "WARNING:rpy2.rinterface_lib.callbacks:R[write to console]: =\n",
            "WARNING:rpy2.rinterface_lib.callbacks:R[write to console]: =\n",
            "WARNING:rpy2.rinterface_lib.callbacks:R[write to console]: =\n",
            "WARNING:rpy2.rinterface_lib.callbacks:R[write to console]: =\n",
            "WARNING:rpy2.rinterface_lib.callbacks:R[write to console]: =\n",
            "WARNING:rpy2.rinterface_lib.callbacks:R[write to console]: =\n",
            "WARNING:rpy2.rinterface_lib.callbacks:R[write to console]: =\n",
            "WARNING:rpy2.rinterface_lib.callbacks:R[write to console]: =\n",
            "WARNING:rpy2.rinterface_lib.callbacks:R[write to console]: =\n",
            "WARNING:rpy2.rinterface_lib.callbacks:R[write to console]: =\n",
            "WARNING:rpy2.rinterface_lib.callbacks:R[write to console]: =\n",
            "WARNING:rpy2.rinterface_lib.callbacks:R[write to console]: =\n",
            "WARNING:rpy2.rinterface_lib.callbacks:R[write to console]: =\n",
            "WARNING:rpy2.rinterface_lib.callbacks:R[write to console]: =\n",
            "WARNING:rpy2.rinterface_lib.callbacks:R[write to console]: =\n",
            "WARNING:rpy2.rinterface_lib.callbacks:R[write to console]: =\n",
            "WARNING:rpy2.rinterface_lib.callbacks:R[write to console]: =\n",
            "WARNING:rpy2.rinterface_lib.callbacks:R[write to console]: =\n",
            "WARNING:rpy2.rinterface_lib.callbacks:R[write to console]: =\n",
            "WARNING:rpy2.rinterface_lib.callbacks:R[write to console]: =\n",
            "WARNING:rpy2.rinterface_lib.callbacks:R[write to console]: =\n",
            "WARNING:rpy2.rinterface_lib.callbacks:R[write to console]: =\n",
            "WARNING:rpy2.rinterface_lib.callbacks:R[write to console]: =\n",
            "WARNING:rpy2.rinterface_lib.callbacks:R[write to console]: =\n",
            "WARNING:rpy2.rinterface_lib.callbacks:R[write to console]: =\n",
            "WARNING:rpy2.rinterface_lib.callbacks:R[write to console]: \n",
            "\n",
            "WARNING:rpy2.rinterface_lib.callbacks:R[write to console]: downloaded 21 KB\n",
            "\n",
            "\n",
            "WARNING:rpy2.rinterface_lib.callbacks:R[write to console]: trying URL 'https://cran.rstudio.com/src/contrib/pbkrtest_0.5.2.tar.gz'\n",
            "\n",
            "WARNING:rpy2.rinterface_lib.callbacks:R[write to console]: Content type 'application/x-gzip'\n",
            "WARNING:rpy2.rinterface_lib.callbacks:R[write to console]:  length 75295 bytes (73 KB)\n",
            "\n",
            "WARNING:rpy2.rinterface_lib.callbacks:R[write to console]: =\n",
            "WARNING:rpy2.rinterface_lib.callbacks:R[write to console]: =\n",
            "WARNING:rpy2.rinterface_lib.callbacks:R[write to console]: =\n",
            "WARNING:rpy2.rinterface_lib.callbacks:R[write to console]: =\n",
            "WARNING:rpy2.rinterface_lib.callbacks:R[write to console]: =\n",
            "WARNING:rpy2.rinterface_lib.callbacks:R[write to console]: =\n",
            "WARNING:rpy2.rinterface_lib.callbacks:R[write to console]: =\n",
            "WARNING:rpy2.rinterface_lib.callbacks:R[write to console]: =\n",
            "WARNING:rpy2.rinterface_lib.callbacks:R[write to console]: =\n",
            "WARNING:rpy2.rinterface_lib.callbacks:R[write to console]: =\n",
            "WARNING:rpy2.rinterface_lib.callbacks:R[write to console]: =\n",
            "WARNING:rpy2.rinterface_lib.callbacks:R[write to console]: =\n",
            "WARNING:rpy2.rinterface_lib.callbacks:R[write to console]: =\n",
            "WARNING:rpy2.rinterface_lib.callbacks:R[write to console]: =\n",
            "WARNING:rpy2.rinterface_lib.callbacks:R[write to console]: =\n",
            "WARNING:rpy2.rinterface_lib.callbacks:R[write to console]: =\n",
            "WARNING:rpy2.rinterface_lib.callbacks:R[write to console]: =\n",
            "WARNING:rpy2.rinterface_lib.callbacks:R[write to console]: =\n",
            "WARNING:rpy2.rinterface_lib.callbacks:R[write to console]: =\n",
            "WARNING:rpy2.rinterface_lib.callbacks:R[write to console]: =\n",
            "WARNING:rpy2.rinterface_lib.callbacks:R[write to console]: =\n",
            "WARNING:rpy2.rinterface_lib.callbacks:R[write to console]: =\n",
            "WARNING:rpy2.rinterface_lib.callbacks:R[write to console]: =\n",
            "WARNING:rpy2.rinterface_lib.callbacks:R[write to console]: =\n",
            "WARNING:rpy2.rinterface_lib.callbacks:R[write to console]: =\n",
            "WARNING:rpy2.rinterface_lib.callbacks:R[write to console]: =\n",
            "WARNING:rpy2.rinterface_lib.callbacks:R[write to console]: =\n",
            "WARNING:rpy2.rinterface_lib.callbacks:R[write to console]: =\n",
            "WARNING:rpy2.rinterface_lib.callbacks:R[write to console]: =\n",
            "WARNING:rpy2.rinterface_lib.callbacks:R[write to console]: =\n",
            "WARNING:rpy2.rinterface_lib.callbacks:R[write to console]: =\n",
            "WARNING:rpy2.rinterface_lib.callbacks:R[write to console]: =\n",
            "WARNING:rpy2.rinterface_lib.callbacks:R[write to console]: =\n",
            "WARNING:rpy2.rinterface_lib.callbacks:R[write to console]: =\n",
            "WARNING:rpy2.rinterface_lib.callbacks:R[write to console]: =\n",
            "WARNING:rpy2.rinterface_lib.callbacks:R[write to console]: =\n",
            "WARNING:rpy2.rinterface_lib.callbacks:R[write to console]: =\n",
            "WARNING:rpy2.rinterface_lib.callbacks:R[write to console]: =\n",
            "WARNING:rpy2.rinterface_lib.callbacks:R[write to console]: =\n",
            "WARNING:rpy2.rinterface_lib.callbacks:R[write to console]: =\n",
            "WARNING:rpy2.rinterface_lib.callbacks:R[write to console]: =\n",
            "WARNING:rpy2.rinterface_lib.callbacks:R[write to console]: =\n",
            "WARNING:rpy2.rinterface_lib.callbacks:R[write to console]: =\n",
            "WARNING:rpy2.rinterface_lib.callbacks:R[write to console]: =\n",
            "WARNING:rpy2.rinterface_lib.callbacks:R[write to console]: =\n",
            "WARNING:rpy2.rinterface_lib.callbacks:R[write to console]: =\n",
            "WARNING:rpy2.rinterface_lib.callbacks:R[write to console]: =\n",
            "WARNING:rpy2.rinterface_lib.callbacks:R[write to console]: =\n",
            "WARNING:rpy2.rinterface_lib.callbacks:R[write to console]: =\n",
            "WARNING:rpy2.rinterface_lib.callbacks:R[write to console]: =\n",
            "WARNING:rpy2.rinterface_lib.callbacks:R[write to console]: \n",
            "\n",
            "WARNING:rpy2.rinterface_lib.callbacks:R[write to console]: downloaded 73 KB\n",
            "\n",
            "\n",
            "WARNING:rpy2.rinterface_lib.callbacks:R[write to console]: trying URL 'https://cran.rstudio.com/src/contrib/quantreg_5.97.tar.gz'\n",
            "\n",
            "WARNING:rpy2.rinterface_lib.callbacks:R[write to console]: Content type 'application/x-gzip'\n",
            "WARNING:rpy2.rinterface_lib.callbacks:R[write to console]:  length 1026052 bytes (1002 KB)\n",
            "\n",
            "WARNING:rpy2.rinterface_lib.callbacks:R[write to console]: =\n",
            "WARNING:rpy2.rinterface_lib.callbacks:R[write to console]: =\n",
            "WARNING:rpy2.rinterface_lib.callbacks:R[write to console]: =\n",
            "WARNING:rpy2.rinterface_lib.callbacks:R[write to console]: =\n",
            "WARNING:rpy2.rinterface_lib.callbacks:R[write to console]: =\n",
            "WARNING:rpy2.rinterface_lib.callbacks:R[write to console]: =\n",
            "WARNING:rpy2.rinterface_lib.callbacks:R[write to console]: =\n",
            "WARNING:rpy2.rinterface_lib.callbacks:R[write to console]: =\n",
            "WARNING:rpy2.rinterface_lib.callbacks:R[write to console]: =\n",
            "WARNING:rpy2.rinterface_lib.callbacks:R[write to console]: =\n",
            "WARNING:rpy2.rinterface_lib.callbacks:R[write to console]: =\n",
            "WARNING:rpy2.rinterface_lib.callbacks:R[write to console]: =\n",
            "WARNING:rpy2.rinterface_lib.callbacks:R[write to console]: =\n",
            "WARNING:rpy2.rinterface_lib.callbacks:R[write to console]: =\n",
            "WARNING:rpy2.rinterface_lib.callbacks:R[write to console]: =\n",
            "WARNING:rpy2.rinterface_lib.callbacks:R[write to console]: =\n",
            "WARNING:rpy2.rinterface_lib.callbacks:R[write to console]: =\n",
            "WARNING:rpy2.rinterface_lib.callbacks:R[write to console]: =\n",
            "WARNING:rpy2.rinterface_lib.callbacks:R[write to console]: =\n",
            "WARNING:rpy2.rinterface_lib.callbacks:R[write to console]: =\n",
            "WARNING:rpy2.rinterface_lib.callbacks:R[write to console]: =\n",
            "WARNING:rpy2.rinterface_lib.callbacks:R[write to console]: =\n",
            "WARNING:rpy2.rinterface_lib.callbacks:R[write to console]: =\n",
            "WARNING:rpy2.rinterface_lib.callbacks:R[write to console]: =\n",
            "WARNING:rpy2.rinterface_lib.callbacks:R[write to console]: =\n",
            "WARNING:rpy2.rinterface_lib.callbacks:R[write to console]: =\n",
            "WARNING:rpy2.rinterface_lib.callbacks:R[write to console]: =\n",
            "WARNING:rpy2.rinterface_lib.callbacks:R[write to console]: =\n",
            "WARNING:rpy2.rinterface_lib.callbacks:R[write to console]: =\n",
            "WARNING:rpy2.rinterface_lib.callbacks:R[write to console]: =\n",
            "WARNING:rpy2.rinterface_lib.callbacks:R[write to console]: =\n",
            "WARNING:rpy2.rinterface_lib.callbacks:R[write to console]: =\n",
            "WARNING:rpy2.rinterface_lib.callbacks:R[write to console]: =\n",
            "WARNING:rpy2.rinterface_lib.callbacks:R[write to console]: =\n",
            "WARNING:rpy2.rinterface_lib.callbacks:R[write to console]: =\n",
            "WARNING:rpy2.rinterface_lib.callbacks:R[write to console]: =\n",
            "WARNING:rpy2.rinterface_lib.callbacks:R[write to console]: =\n",
            "WARNING:rpy2.rinterface_lib.callbacks:R[write to console]: =\n",
            "WARNING:rpy2.rinterface_lib.callbacks:R[write to console]: =\n",
            "WARNING:rpy2.rinterface_lib.callbacks:R[write to console]: =\n",
            "WARNING:rpy2.rinterface_lib.callbacks:R[write to console]: =\n",
            "WARNING:rpy2.rinterface_lib.callbacks:R[write to console]: =\n",
            "WARNING:rpy2.rinterface_lib.callbacks:R[write to console]: =\n",
            "WARNING:rpy2.rinterface_lib.callbacks:R[write to console]: =\n",
            "WARNING:rpy2.rinterface_lib.callbacks:R[write to console]: =\n",
            "WARNING:rpy2.rinterface_lib.callbacks:R[write to console]: =\n",
            "WARNING:rpy2.rinterface_lib.callbacks:R[write to console]: =\n",
            "WARNING:rpy2.rinterface_lib.callbacks:R[write to console]: =\n",
            "WARNING:rpy2.rinterface_lib.callbacks:R[write to console]: =\n",
            "WARNING:rpy2.rinterface_lib.callbacks:R[write to console]: =\n",
            "WARNING:rpy2.rinterface_lib.callbacks:R[write to console]: \n",
            "\n",
            "WARNING:rpy2.rinterface_lib.callbacks:R[write to console]: downloaded 1002 KB\n",
            "\n",
            "\n",
            "WARNING:rpy2.rinterface_lib.callbacks:R[write to console]: trying URL 'https://cran.rstudio.com/src/contrib/lme4_1.1-35.1.tar.gz'\n",
            "\n",
            "WARNING:rpy2.rinterface_lib.callbacks:R[write to console]: Content type 'application/x-gzip'\n",
            "WARNING:rpy2.rinterface_lib.callbacks:R[write to console]:  length 2942848 bytes (2.8 MB)\n",
            "\n",
            "WARNING:rpy2.rinterface_lib.callbacks:R[write to console]: =\n",
            "WARNING:rpy2.rinterface_lib.callbacks:R[write to console]: =\n",
            "WARNING:rpy2.rinterface_lib.callbacks:R[write to console]: =\n",
            "WARNING:rpy2.rinterface_lib.callbacks:R[write to console]: =\n",
            "WARNING:rpy2.rinterface_lib.callbacks:R[write to console]: =\n",
            "WARNING:rpy2.rinterface_lib.callbacks:R[write to console]: =\n",
            "WARNING:rpy2.rinterface_lib.callbacks:R[write to console]: =\n",
            "WARNING:rpy2.rinterface_lib.callbacks:R[write to console]: =\n",
            "WARNING:rpy2.rinterface_lib.callbacks:R[write to console]: =\n",
            "WARNING:rpy2.rinterface_lib.callbacks:R[write to console]: =\n",
            "WARNING:rpy2.rinterface_lib.callbacks:R[write to console]: =\n",
            "WARNING:rpy2.rinterface_lib.callbacks:R[write to console]: =\n",
            "WARNING:rpy2.rinterface_lib.callbacks:R[write to console]: =\n",
            "WARNING:rpy2.rinterface_lib.callbacks:R[write to console]: =\n",
            "WARNING:rpy2.rinterface_lib.callbacks:R[write to console]: =\n",
            "WARNING:rpy2.rinterface_lib.callbacks:R[write to console]: =\n",
            "WARNING:rpy2.rinterface_lib.callbacks:R[write to console]: =\n",
            "WARNING:rpy2.rinterface_lib.callbacks:R[write to console]: =\n",
            "WARNING:rpy2.rinterface_lib.callbacks:R[write to console]: =\n",
            "WARNING:rpy2.rinterface_lib.callbacks:R[write to console]: =\n",
            "WARNING:rpy2.rinterface_lib.callbacks:R[write to console]: =\n",
            "WARNING:rpy2.rinterface_lib.callbacks:R[write to console]: =\n",
            "WARNING:rpy2.rinterface_lib.callbacks:R[write to console]: =\n",
            "WARNING:rpy2.rinterface_lib.callbacks:R[write to console]: =\n",
            "WARNING:rpy2.rinterface_lib.callbacks:R[write to console]: =\n",
            "WARNING:rpy2.rinterface_lib.callbacks:R[write to console]: =\n",
            "WARNING:rpy2.rinterface_lib.callbacks:R[write to console]: =\n",
            "WARNING:rpy2.rinterface_lib.callbacks:R[write to console]: =\n",
            "WARNING:rpy2.rinterface_lib.callbacks:R[write to console]: =\n",
            "WARNING:rpy2.rinterface_lib.callbacks:R[write to console]: =\n",
            "WARNING:rpy2.rinterface_lib.callbacks:R[write to console]: =\n",
            "WARNING:rpy2.rinterface_lib.callbacks:R[write to console]: =\n",
            "WARNING:rpy2.rinterface_lib.callbacks:R[write to console]: =\n",
            "WARNING:rpy2.rinterface_lib.callbacks:R[write to console]: =\n",
            "WARNING:rpy2.rinterface_lib.callbacks:R[write to console]: =\n",
            "WARNING:rpy2.rinterface_lib.callbacks:R[write to console]: =\n",
            "WARNING:rpy2.rinterface_lib.callbacks:R[write to console]: =\n",
            "WARNING:rpy2.rinterface_lib.callbacks:R[write to console]: =\n",
            "WARNING:rpy2.rinterface_lib.callbacks:R[write to console]: =\n",
            "WARNING:rpy2.rinterface_lib.callbacks:R[write to console]: =\n",
            "WARNING:rpy2.rinterface_lib.callbacks:R[write to console]: =\n",
            "WARNING:rpy2.rinterface_lib.callbacks:R[write to console]: =\n",
            "WARNING:rpy2.rinterface_lib.callbacks:R[write to console]: =\n",
            "WARNING:rpy2.rinterface_lib.callbacks:R[write to console]: =\n",
            "WARNING:rpy2.rinterface_lib.callbacks:R[write to console]: =\n",
            "WARNING:rpy2.rinterface_lib.callbacks:R[write to console]: =\n",
            "WARNING:rpy2.rinterface_lib.callbacks:R[write to console]: =\n",
            "WARNING:rpy2.rinterface_lib.callbacks:R[write to console]: =\n",
            "WARNING:rpy2.rinterface_lib.callbacks:R[write to console]: =\n",
            "WARNING:rpy2.rinterface_lib.callbacks:R[write to console]: =\n",
            "WARNING:rpy2.rinterface_lib.callbacks:R[write to console]: \n",
            "\n",
            "WARNING:rpy2.rinterface_lib.callbacks:R[write to console]: downloaded 2.8 MB\n",
            "\n",
            "\n",
            "WARNING:rpy2.rinterface_lib.callbacks:R[write to console]: trying URL 'https://cran.rstudio.com/src/contrib/car_3.1-2.tar.gz'\n",
            "\n",
            "WARNING:rpy2.rinterface_lib.callbacks:R[write to console]: Content type 'application/x-gzip'\n",
            "WARNING:rpy2.rinterface_lib.callbacks:R[write to console]:  length 579829 bytes (566 KB)\n",
            "\n",
            "WARNING:rpy2.rinterface_lib.callbacks:R[write to console]: =\n",
            "WARNING:rpy2.rinterface_lib.callbacks:R[write to console]: =\n",
            "WARNING:rpy2.rinterface_lib.callbacks:R[write to console]: =\n",
            "WARNING:rpy2.rinterface_lib.callbacks:R[write to console]: =\n",
            "WARNING:rpy2.rinterface_lib.callbacks:R[write to console]: =\n",
            "WARNING:rpy2.rinterface_lib.callbacks:R[write to console]: =\n",
            "WARNING:rpy2.rinterface_lib.callbacks:R[write to console]: =\n",
            "WARNING:rpy2.rinterface_lib.callbacks:R[write to console]: =\n",
            "WARNING:rpy2.rinterface_lib.callbacks:R[write to console]: =\n",
            "WARNING:rpy2.rinterface_lib.callbacks:R[write to console]: =\n",
            "WARNING:rpy2.rinterface_lib.callbacks:R[write to console]: =\n",
            "WARNING:rpy2.rinterface_lib.callbacks:R[write to console]: =\n",
            "WARNING:rpy2.rinterface_lib.callbacks:R[write to console]: =\n",
            "WARNING:rpy2.rinterface_lib.callbacks:R[write to console]: =\n",
            "WARNING:rpy2.rinterface_lib.callbacks:R[write to console]: =\n",
            "WARNING:rpy2.rinterface_lib.callbacks:R[write to console]: =\n",
            "WARNING:rpy2.rinterface_lib.callbacks:R[write to console]: =\n",
            "WARNING:rpy2.rinterface_lib.callbacks:R[write to console]: =\n",
            "WARNING:rpy2.rinterface_lib.callbacks:R[write to console]: =\n",
            "WARNING:rpy2.rinterface_lib.callbacks:R[write to console]: =\n",
            "WARNING:rpy2.rinterface_lib.callbacks:R[write to console]: =\n",
            "WARNING:rpy2.rinterface_lib.callbacks:R[write to console]: =\n",
            "WARNING:rpy2.rinterface_lib.callbacks:R[write to console]: =\n",
            "WARNING:rpy2.rinterface_lib.callbacks:R[write to console]: =\n",
            "WARNING:rpy2.rinterface_lib.callbacks:R[write to console]: =\n",
            "WARNING:rpy2.rinterface_lib.callbacks:R[write to console]: =\n",
            "WARNING:rpy2.rinterface_lib.callbacks:R[write to console]: =\n",
            "WARNING:rpy2.rinterface_lib.callbacks:R[write to console]: =\n",
            "WARNING:rpy2.rinterface_lib.callbacks:R[write to console]: =\n",
            "WARNING:rpy2.rinterface_lib.callbacks:R[write to console]: =\n",
            "WARNING:rpy2.rinterface_lib.callbacks:R[write to console]: =\n",
            "WARNING:rpy2.rinterface_lib.callbacks:R[write to console]: =\n",
            "WARNING:rpy2.rinterface_lib.callbacks:R[write to console]: =\n",
            "WARNING:rpy2.rinterface_lib.callbacks:R[write to console]: =\n",
            "WARNING:rpy2.rinterface_lib.callbacks:R[write to console]: =\n",
            "WARNING:rpy2.rinterface_lib.callbacks:R[write to console]: =\n",
            "WARNING:rpy2.rinterface_lib.callbacks:R[write to console]: =\n",
            "WARNING:rpy2.rinterface_lib.callbacks:R[write to console]: =\n",
            "WARNING:rpy2.rinterface_lib.callbacks:R[write to console]: =\n",
            "WARNING:rpy2.rinterface_lib.callbacks:R[write to console]: =\n",
            "WARNING:rpy2.rinterface_lib.callbacks:R[write to console]: =\n",
            "WARNING:rpy2.rinterface_lib.callbacks:R[write to console]: =\n",
            "WARNING:rpy2.rinterface_lib.callbacks:R[write to console]: =\n",
            "WARNING:rpy2.rinterface_lib.callbacks:R[write to console]: =\n",
            "WARNING:rpy2.rinterface_lib.callbacks:R[write to console]: =\n",
            "WARNING:rpy2.rinterface_lib.callbacks:R[write to console]: =\n",
            "WARNING:rpy2.rinterface_lib.callbacks:R[write to console]: =\n",
            "WARNING:rpy2.rinterface_lib.callbacks:R[write to console]: =\n",
            "WARNING:rpy2.rinterface_lib.callbacks:R[write to console]: =\n",
            "WARNING:rpy2.rinterface_lib.callbacks:R[write to console]: =\n",
            "WARNING:rpy2.rinterface_lib.callbacks:R[write to console]: \n",
            "\n",
            "WARNING:rpy2.rinterface_lib.callbacks:R[write to console]: downloaded 566 KB\n",
            "\n",
            "\n",
            "WARNING:rpy2.rinterface_lib.callbacks:R[write to console]: \n",
            "\n",
            "WARNING:rpy2.rinterface_lib.callbacks:R[write to console]: \n",
            "WARNING:rpy2.rinterface_lib.callbacks:R[write to console]: The downloaded source packages are in\n",
            "\t‘/tmp/RtmpkjogyS/downloaded_packages’\n",
            "WARNING:rpy2.rinterface_lib.callbacks:R[write to console]: \n",
            "WARNING:rpy2.rinterface_lib.callbacks:R[write to console]: \n",
            "\n"
          ]
        }
      ]
    },
    {
      "cell_type": "code",
      "source": [
        "%%R\n",
        "car::vif(reg_mod6)"
      ],
      "metadata": {
        "colab": {
          "base_uri": "https://localhost:8080/"
        },
        "id": "pYq6n0-SwW_O",
        "outputId": "0af2272b-9ee2-4fd2-bc27-b6ec4f8e0e38"
      },
      "execution_count": 36,
      "outputs": [
        {
          "output_type": "stream",
          "name": "stdout",
          "text": [
            "   Lunghezza       Cranio   Gestazione        Sesso N.gravidanze \n",
            "    2.074689     1.624465     1.669189     1.040054     1.023475 \n"
          ]
        }
      ]
    },
    {
      "cell_type": "markdown",
      "source": [
        "I valori di vif sono tutti sotto 5 e quindi possiamo concludere che mod_reg6 è il miglior modello di regressione lineare."
      ],
      "metadata": {
        "id": "cFkY_-d-qViC"
      }
    },
    {
      "cell_type": "markdown",
      "source": [
        "Punto 4)\n"
      ],
      "metadata": {
        "id": "F8vI8ES3qf5H"
      }
    },
    {
      "cell_type": "markdown",
      "source": [
        "Dal plot del punto 1 dell'analisi multidimensionale sembra esserci una relazione non lineare tra le variabili peso e gestazione, in particolare la nuvola sembra seguire una parabola con la concavità verso il basso. Proviamo perciò ad aggiungere un fattore quadratico al modello trovato al punto precedente."
      ],
      "metadata": {
        "id": "8VJl_E1bxUL1"
      }
    },
    {
      "cell_type": "code",
      "source": [
        "%%R\n",
        "reg_mod12 <- update(reg_mod6, ~.+ I(Gestazione^2))\n",
        "summary(reg_mod12)"
      ],
      "metadata": {
        "colab": {
          "base_uri": "https://localhost:8080/"
        },
        "id": "OyjxgGQ6yi47",
        "outputId": "e8ec5c1b-c5a1-44f4-8d10-4c006b814786"
      },
      "execution_count": 37,
      "outputs": [
        {
          "output_type": "stream",
          "name": "stdout",
          "text": [
            "\n",
            "Call:\n",
            "lm(formula = Peso ~ Lunghezza + Cranio + Gestazione + Sesso + \n",
            "    N.gravidanze + I(Gestazione^2), data = neonati)\n",
            "\n",
            "Residuals:\n",
            "     Min       1Q   Median       3Q      Max \n",
            "-1144.11  -181.17   -13.16   165.73  2662.56 \n",
            "\n",
            "Coefficients:\n",
            "                  Estimate Std. Error t value Pr(>|t|)    \n",
            "(Intercept)     -4650.2268   898.1706  -5.177 2.43e-07 ***\n",
            "Lunghezza          10.3534     0.3039  34.074  < 2e-16 ***\n",
            "Cranio             10.6363     0.4280  24.854  < 2e-16 ***\n",
            "Gestazione        -81.0486    49.7127  -1.630  0.10316    \n",
            "SessoM             75.7900    11.2340   6.747 1.88e-11 ***\n",
            "N.gravidanze       12.5660     4.3361   2.898  0.00379 ** \n",
            "I(Gestazione^2)     1.5136     0.6617   2.287  0.02226 *  \n",
            "---\n",
            "Signif. codes:  0 ‘***’ 0.001 ‘**’ 0.01 ‘*’ 0.05 ‘.’ 0.1 ‘ ’ 1\n",
            "\n",
            "Residual standard error: 274.4 on 2493 degrees of freedom\n",
            "Multiple R-squared:  0.7276,\tAdjusted R-squared:  0.7269 \n",
            "F-statistic:  1110 on 6 and 2493 DF,  p-value: < 2.2e-16\n",
            "\n"
          ]
        }
      ]
    },
    {
      "cell_type": "markdown",
      "source": [
        "C'è un leggerissimo miglioramento dell'r quadro ma la variabile gestazione perde di significatività. Proviamo a togliere la variabile gestazione e a lasciare solo il termine al quadrato."
      ],
      "metadata": {
        "id": "5dD9Wm9Wy-r8"
      }
    },
    {
      "cell_type": "code",
      "source": [
        "%%R\n",
        "reg_mod13 <- update(reg_mod12, ~.-Gestazione )\n",
        "summary(reg_mod13)"
      ],
      "metadata": {
        "colab": {
          "base_uri": "https://localhost:8080/"
        },
        "id": "tGto_PNtzJar",
        "outputId": "a9cbdc1c-f85f-40ab-b5bc-a5ca7f5e2d7b"
      },
      "execution_count": 38,
      "outputs": [
        {
          "output_type": "stream",
          "name": "stdout",
          "text": [
            "\n",
            "Call:\n",
            "lm(formula = Peso ~ Lunghezza + Cranio + Sesso + N.gravidanze + \n",
            "    I(Gestazione^2), data = neonati)\n",
            "\n",
            "Residuals:\n",
            "     Min       1Q   Median       3Q      Max \n",
            "-1146.87  -181.09   -15.12   165.40  2643.89 \n",
            "\n",
            "Coefficients:\n",
            "                  Estimate Std. Error t value Pr(>|t|)    \n",
            "(Intercept)     -6.101e+03  1.235e+02 -49.380  < 2e-16 ***\n",
            "Lunghezza        1.026e+01  2.987e-01  34.358  < 2e-16 ***\n",
            "Cranio           1.056e+01  4.255e-01  24.816  < 2e-16 ***\n",
            "SessoM           7.733e+01  1.120e+01   6.906 6.32e-12 ***\n",
            "N.gravidanze     1.255e+01  4.338e+00   2.894  0.00383 ** \n",
            "I(Gestazione^2)  4.379e-01  5.053e-02   8.667  < 2e-16 ***\n",
            "---\n",
            "Signif. codes:  0 ‘***’ 0.001 ‘**’ 0.01 ‘*’ 0.05 ‘.’ 0.1 ‘ ’ 1\n",
            "\n",
            "Residual standard error: 274.5 on 2494 degrees of freedom\n",
            "Multiple R-squared:  0.7273,\tAdjusted R-squared:  0.7267 \n",
            "F-statistic:  1330 on 5 and 2494 DF,  p-value: < 2.2e-16\n",
            "\n"
          ]
        }
      ]
    },
    {
      "cell_type": "markdown",
      "source": [
        "L'r quadro aggiustato resta praticamente identico e tutte le variabili sono significative."
      ],
      "metadata": {
        "id": "mHOgkfGfIByG"
      }
    },
    {
      "cell_type": "code",
      "source": [
        "%%R\n",
        "reg_mod14 <- update(reg_mod13, ~.+ Cranio:Gestazione)\n",
        "summary(reg_mod14)"
      ],
      "metadata": {
        "colab": {
          "base_uri": "https://localhost:8080/"
        },
        "id": "0WJrE12l27MM",
        "outputId": "3b5b3e11-d95c-4b0b-aa6c-f1b28ae57152"
      },
      "execution_count": 39,
      "outputs": [
        {
          "output_type": "stream",
          "name": "stdout",
          "text": [
            "\n",
            "Call:\n",
            "lm(formula = Peso ~ Lunghezza + Cranio + Sesso + N.gravidanze + \n",
            "    I(Gestazione^2) + Cranio:Gestazione, data = neonati)\n",
            "\n",
            "Residuals:\n",
            "     Min       1Q   Median       3Q      Max \n",
            "-1140.96  -181.76   -12.27   164.99  2682.54 \n",
            "\n",
            "Coefficients:\n",
            "                   Estimate Std. Error t value Pr(>|t|)    \n",
            "(Intercept)       -381.5452   867.3880  -0.440  0.66006    \n",
            "Lunghezza           10.3835     0.2967  35.001  < 2e-16 ***\n",
            "Cranio             -24.0752     5.2174  -4.614 4.14e-06 ***\n",
            "SessoM              73.0197    11.1207   6.566 6.26e-11 ***\n",
            "N.gravidanze        13.3902     4.3022   3.112  0.00188 ** \n",
            "I(Gestazione^2)     -3.4672     0.5885  -5.892 4.33e-09 ***\n",
            "Cranio:Gestazione    0.9003     0.1352   6.660 3.35e-11 ***\n",
            "---\n",
            "Signif. codes:  0 ‘***’ 0.001 ‘**’ 0.01 ‘*’ 0.05 ‘.’ 0.1 ‘ ’ 1\n",
            "\n",
            "Residual standard error: 272.1 on 2493 degrees of freedom\n",
            "Multiple R-squared:  0.7321,\tAdjusted R-squared:  0.7314 \n",
            "F-statistic:  1135 on 6 and 2493 DF,  p-value: < 2.2e-16\n",
            "\n"
          ]
        }
      ]
    },
    {
      "cell_type": "code",
      "source": [
        "%%R\n",
        "reg_mod15 <- update(reg_mod14, ~.+ Lunghezza:Gestazione)\n",
        "summary(reg_mod15)"
      ],
      "metadata": {
        "colab": {
          "base_uri": "https://localhost:8080/"
        },
        "id": "DtrDK2V_IYkD",
        "outputId": "48dd84e8-7125-41d2-9067-a68b96cfed67"
      },
      "execution_count": 40,
      "outputs": [
        {
          "output_type": "stream",
          "name": "stdout",
          "text": [
            "\n",
            "Call:\n",
            "lm(formula = Peso ~ Lunghezza + Cranio + Sesso + N.gravidanze + \n",
            "    I(Gestazione^2) + Cranio:Gestazione + Lunghezza:Gestazione, \n",
            "    data = neonati)\n",
            "\n",
            "Residuals:\n",
            "     Min       1Q   Median       3Q      Max \n",
            "-1132.81  -180.19   -12.22   165.80  2660.50 \n",
            "\n",
            "Coefficients:\n",
            "                     Estimate Std. Error t value Pr(>|t|)    \n",
            "(Intercept)          636.6219   932.2560   0.683 0.494744    \n",
            "Lunghezza             -1.5383     4.0510  -0.380 0.704181    \n",
            "Cranio               -13.3509     6.3519  -2.102 0.035662 *  \n",
            "SessoM                70.6709    11.1320   6.348 2.58e-10 ***\n",
            "N.gravidanze          13.5951     4.2961   3.165 0.001572 ** \n",
            "I(Gestazione^2)       -4.2043     0.6385  -6.585 5.53e-11 ***\n",
            "Cranio:Gestazione      0.6252     0.1641   3.811 0.000142 ***\n",
            "Lunghezza:Gestazione   0.3111     0.1054   2.951 0.003199 ** \n",
            "---\n",
            "Signif. codes:  0 ‘***’ 0.001 ‘**’ 0.01 ‘*’ 0.05 ‘.’ 0.1 ‘ ’ 1\n",
            "\n",
            "Residual standard error: 271.7 on 2492 degrees of freedom\n",
            "Multiple R-squared:  0.733,\tAdjusted R-squared:  0.7322 \n",
            "F-statistic: 977.3 on 7 and 2492 DF,  p-value: < 2.2e-16\n",
            "\n"
          ]
        }
      ]
    },
    {
      "cell_type": "code",
      "source": [
        "%%R\n",
        "reg_mod16 <- update(reg_mod15, ~.  -Lunghezza -Cranio )\n",
        "summary(reg_mod16)"
      ],
      "metadata": {
        "colab": {
          "base_uri": "https://localhost:8080/"
        },
        "id": "orCGFrWOJE-0",
        "outputId": "ec9b33c5-097a-44c0-bd3e-d012081d73c7"
      },
      "execution_count": 41,
      "outputs": [
        {
          "output_type": "stream",
          "name": "stdout",
          "text": [
            "\n",
            "Call:\n",
            "lm(formula = Peso ~ Sesso + N.gravidanze + I(Gestazione^2) + \n",
            "    Cranio:Gestazione + Lunghezza:Gestazione, data = neonati)\n",
            "\n",
            "Residuals:\n",
            "     Min       1Q   Median       3Q      Max \n",
            "-1137.80  -179.25   -11.24   167.84  2647.86 \n",
            "\n",
            "Coefficients:\n",
            "                       Estimate Std. Error t value Pr(>|t|)    \n",
            "(Intercept)          -1.947e+03  7.020e+01 -27.740  < 2e-16 ***\n",
            "SessoM                7.252e+01  1.111e+01   6.528 8.05e-11 ***\n",
            "N.gravidanze          1.315e+01  4.298e+00   3.058  0.00225 ** \n",
            "I(Gestazione^2)      -2.455e+00  8.871e-02 -27.680  < 2e-16 ***\n",
            "Cranio:Gestazione     2.793e-01  1.090e-02  25.625  < 2e-16 ***\n",
            "Gestazione:Lunghezza  2.701e-01  7.709e-03  35.038  < 2e-16 ***\n",
            "---\n",
            "Signif. codes:  0 ‘***’ 0.001 ‘**’ 0.01 ‘*’ 0.05 ‘.’ 0.1 ‘ ’ 1\n",
            "\n",
            "Residual standard error: 272 on 2494 degrees of freedom\n",
            "Multiple R-squared:  0.7321,\tAdjusted R-squared:  0.7316 \n",
            "F-statistic:  1363 on 5 and 2494 DF,  p-value: < 2.2e-16\n",
            "\n"
          ]
        }
      ]
    },
    {
      "cell_type": "markdown",
      "source": [
        "In effetti si può pensare alla variabile gestazione come una variabile temporale, ha perciò senso considerare lunghezza e cranio come variabili dipendenti da gestazione e non in senso assoluto. Quindi si possono escludere dal modello e considerare solo l'effetto combinato di lunghezza e gestazione e cranio e gestazione."
      ],
      "metadata": {
        "id": "NkQ9kaKnKPjP"
      }
    },
    {
      "cell_type": "code",
      "source": [
        "%%R\n",
        "reg_mod17 <- update(reg_mod16, ~. +Lunghezza:Sesso )\n",
        "summary(reg_mod17)"
      ],
      "metadata": {
        "colab": {
          "base_uri": "https://localhost:8080/"
        },
        "id": "3FtmffvJLRDT",
        "outputId": "ffbeeb9f-b659-4fea-d181-a1c7441827f0"
      },
      "execution_count": 42,
      "outputs": [
        {
          "output_type": "stream",
          "name": "stdout",
          "text": [
            "\n",
            "Call:\n",
            "lm(formula = Peso ~ Sesso + N.gravidanze + I(Gestazione^2) + \n",
            "    Cranio:Gestazione + Gestazione:Lunghezza + Sesso:Lunghezza, \n",
            "    data = neonati)\n",
            "\n",
            "Residuals:\n",
            "     Min       1Q   Median       3Q      Max \n",
            "-1145.39  -179.87   -10.12   165.68  2609.00 \n",
            "\n",
            "Coefficients:\n",
            "                       Estimate Std. Error t value Pr(>|t|)    \n",
            "(Intercept)          -1.890e+03  8.456e+01 -22.348  < 2e-16 ***\n",
            "SessoM               -1.875e+02  2.127e+02  -0.881  0.37820    \n",
            "N.gravidanze          1.328e+01  4.300e+00   3.090  0.00203 ** \n",
            "I(Gestazione^2)      -2.414e+00  9.481e-02 -25.465  < 2e-16 ***\n",
            "Cranio:Gestazione     2.788e-01  1.090e-02  25.565  < 2e-16 ***\n",
            "Gestazione:Lunghezza  2.641e-01  9.113e-03  28.983  < 2e-16 ***\n",
            "SessoM:Lunghezza      5.250e-01  4.290e-01   1.224  0.22109    \n",
            "---\n",
            "Signif. codes:  0 ‘***’ 0.001 ‘**’ 0.01 ‘*’ 0.05 ‘.’ 0.1 ‘ ’ 1\n",
            "\n",
            "Residual standard error: 272 on 2493 degrees of freedom\n",
            "Multiple R-squared:  0.7323,\tAdjusted R-squared:  0.7316 \n",
            "F-statistic:  1136 on 6 and 2493 DF,  p-value: < 2.2e-16\n",
            "\n"
          ]
        }
      ]
    },
    {
      "cell_type": "code",
      "source": [
        "%%R\n",
        "reg_mod18 <- update(reg_mod17, ~. +Cranio:Sesso )\n",
        "summary(reg_mod18)"
      ],
      "metadata": {
        "colab": {
          "base_uri": "https://localhost:8080/"
        },
        "id": "SSh7dthjLkgE",
        "outputId": "7486b040-ab4c-44dd-b8d0-efce12bb31cc"
      },
      "execution_count": 43,
      "outputs": [
        {
          "output_type": "stream",
          "name": "stdout",
          "text": [
            "\n",
            "Call:\n",
            "lm(formula = Peso ~ Sesso + N.gravidanze + I(Gestazione^2) + \n",
            "    Cranio:Gestazione + Gestazione:Lunghezza + Sesso:Lunghezza + \n",
            "    Sesso:Cranio, data = neonati)\n",
            "\n",
            "Residuals:\n",
            "     Min       1Q   Median       3Q      Max \n",
            "-1147.04  -179.96   -10.97   164.49  2576.00 \n",
            "\n",
            "Coefficients:\n",
            "                       Estimate Std. Error t value Pr(>|t|)    \n",
            "(Intercept)          -1.917e+03  9.004e+01 -21.287   <2e-16 ***\n",
            "SessoM               -7.458e+01  2.494e+02  -0.299   0.7650    \n",
            "N.gravidanze          1.337e+01  4.301e+00   3.109   0.0019 ** \n",
            "I(Gestazione^2)      -2.435e+00  9.787e-02 -24.885   <2e-16 ***\n",
            "Cranio:Gestazione     2.877e-01  1.501e-02  19.172   <2e-16 ***\n",
            "Gestazione:Lunghezza  2.610e-01  9.786e-03  26.676   <2e-16 ***\n",
            "SessoM:Lunghezza      7.987e-01  5.326e-01   1.500   0.1338    \n",
            "SessoM:Cranio        -7.303e-01  8.424e-01  -0.867   0.3860    \n",
            "---\n",
            "Signif. codes:  0 ‘***’ 0.001 ‘**’ 0.01 ‘*’ 0.05 ‘.’ 0.1 ‘ ’ 1\n",
            "\n",
            "Residual standard error: 272 on 2492 degrees of freedom\n",
            "Multiple R-squared:  0.7323,\tAdjusted R-squared:  0.7316 \n",
            "F-statistic: 974.1 on 7 and 2492 DF,  p-value: < 2.2e-16\n",
            "\n"
          ]
        }
      ]
    },
    {
      "cell_type": "markdown",
      "source": [
        "Aggiungendo un termine di interazione tra cranio e sesso e lunghezza e sesso non si ottengono miglioramenti, anzi la variabile sesso perde di significatività e i due termini di interazione non sono abbastanza significativi."
      ],
      "metadata": {
        "id": "k8JqhwkALray"
      }
    },
    {
      "cell_type": "markdown",
      "source": [
        "Si può perciò concludere che il modello reg_mod16 sia il migliore."
      ],
      "metadata": {
        "id": "EQu3k6NzL8Fk"
      }
    },
    {
      "cell_type": "markdown",
      "source": [
        "Punto 5)"
      ],
      "metadata": {
        "id": "6mCCdSAhUWwK"
      }
    },
    {
      "cell_type": "code",
      "source": [
        "%%R\n",
        "par(mfrow=c(2,2))\n",
        "plot(reg_mod16)"
      ],
      "metadata": {
        "colab": {
          "base_uri": "https://localhost:8080/",
          "height": 497
        },
        "id": "G_VkUAdZUYBf",
        "outputId": "88da9c8c-0c1c-4f2a-c606-379a95eb5c91"
      },
      "execution_count": 44,
      "outputs": [
        {
          "output_type": "display_data",
          "data": {
            "image/png": "[encoded data removed]"
          },
          "metadata": {}
        }
      ]
    },
    {
      "cell_type": "markdown",
      "source": [
        "Nel grafico in alto a sinistra i punti si presentano sparsi intorno alla media di zero.\\\n",
        "Nel grafico in alto a destra si osserva che i punti sono molto vicini alla bisettrice, quindi si può dire che i residui seguono la distribuzione normale.\\\n",
        "Nel grafico in basso a sinistra la nuvola di punti si distribuisce in maniera casuale e non sembrano esserci pattern, questo indica varianza costante.\\\n",
        "Nel grafico in basso a destra si osserva che solo un punto supera la soglia di avvertimento del 5%.\n",
        "\n"
      ],
      "metadata": {
        "id": "1lmEr62eVAUn"
      }
    },
    {
      "cell_type": "code",
      "source": [
        "%%R\n",
        "library(\"car\")\n",
        "outlierTest(reg_mod16)"
      ],
      "metadata": {
        "colab": {
          "base_uri": "https://localhost:8080/"
        },
        "id": "1HvnMwaZZamS",
        "outputId": "6373dc87-9002-47c7-da58-5f3f0726124b"
      },
      "execution_count": 45,
      "outputs": [
        {
          "output_type": "stream",
          "name": "stderr",
          "text": [
            "WARNING:rpy2.rinterface_lib.callbacks:R[write to console]: Loading required package: carData\n",
            "\n"
          ]
        },
        {
          "output_type": "stream",
          "name": "stdout",
          "text": [
            "      rstudent unadjusted p-value Bonferroni p\n",
            "1551 10.175138         7.4370e-24   1.8592e-20\n",
            "155   5.051632         4.6976e-07   1.1744e-03\n",
            "1306  4.792611         1.7430e-06   4.3574e-03\n"
          ]
        }
      ]
    },
    {
      "cell_type": "markdown",
      "source": [
        "In questo caso ci sono 3 outliers, proviamo a calcolare la distanza di Cook."
      ],
      "metadata": {
        "id": "BI782k4AgFpn"
      }
    },
    {
      "cell_type": "code",
      "source": [
        "%%R\n",
        "cook <- cooks.distance(reg_mod16)\n",
        "plot(cook)"
      ],
      "metadata": {
        "colab": {
          "base_uri": "https://localhost:8080/",
          "height": 497
        },
        "id": "Qpgb7A5NY69h",
        "outputId": "44cbecd2-1a7e-44db-d091-f2f3ea541f3e"
      },
      "execution_count": 46,
      "outputs": [
        {
          "output_type": "display_data",
          "data": {
            "image/png": "[encoded data removed]"
          },
          "metadata": {}
        }
      ]
    },
    {
      "cell_type": "markdown",
      "source": [
        "Da questo plot sembra essere veramente influente solo l'osservazione 1551."
      ],
      "metadata": {
        "id": "22HjJIUiZE4R"
      }
    },
    {
      "cell_type": "code",
      "source": [
        "%%R\n",
        "install.packages(\"lmtest\")\n",
        "library(lmtest)"
      ],
      "metadata": {
        "id": "O3Z5D9AwbjvV"
      },
      "execution_count": null,
      "outputs": []
    },
    {
      "cell_type": "code",
      "source": [
        "%%R\n",
        "bptest(reg_mod16)"
      ],
      "metadata": {
        "colab": {
          "base_uri": "https://localhost:8080/"
        },
        "id": "ocsIWtssbzmM",
        "outputId": "028fa432-b824-44a2-eb6c-5c4e0cafe8f7"
      },
      "execution_count": 48,
      "outputs": [
        {
          "output_type": "stream",
          "name": "stdout",
          "text": [
            "\n",
            "\tstudentized Breusch-Pagan test\n",
            "\n",
            "data:  reg_mod16\n",
            "BP = 79.248, df = 5, p-value = 1.206e-15\n",
            "\n"
          ]
        }
      ]
    },
    {
      "cell_type": "markdown",
      "source": [
        "In questo caso viene rifiutata l'ipotesi nulla e la varianza non viene considerata costante."
      ],
      "metadata": {
        "id": "flrnxOqedC9Y"
      }
    },
    {
      "cell_type": "code",
      "source": [
        "%%R\n",
        "dwtest(reg_mod16)"
      ],
      "metadata": {
        "colab": {
          "base_uri": "https://localhost:8080/"
        },
        "id": "-yB--mb7dr5e",
        "outputId": "baa64fc1-bed8-42a6-fab6-f3d88c56786f"
      },
      "execution_count": 49,
      "outputs": [
        {
          "output_type": "stream",
          "name": "stdout",
          "text": [
            "\n",
            "\tDurbin-Watson test\n",
            "\n",
            "data:  reg_mod16\n",
            "DW = 1.9572, p-value = 0.1423\n",
            "alternative hypothesis: true autocorrelation is greater than 0\n",
            "\n"
          ]
        }
      ]
    },
    {
      "cell_type": "markdown",
      "source": [
        "In questo caso non viene rifiutata l'ipotesi nulla, quindi i residui non sono autocorrelati."
      ],
      "metadata": {
        "id": "Et6WkF1bdv4P"
      }
    },
    {
      "cell_type": "code",
      "source": [
        "%%R\n",
        "shapiro.test(residuals(reg_mod16))"
      ],
      "metadata": {
        "colab": {
          "base_uri": "https://localhost:8080/"
        },
        "id": "Crz7Ymw0d0_v",
        "outputId": "35ef5bbb-dc47-42f1-c94d-b2090a00e64b"
      },
      "execution_count": 50,
      "outputs": [
        {
          "output_type": "stream",
          "name": "stdout",
          "text": [
            "\n",
            "\tShapiro-Wilk normality test\n",
            "\n",
            "data:  residuals(reg_mod16)\n",
            "W = 0.97363, p-value < 2.2e-16\n",
            "\n"
          ]
        }
      ]
    },
    {
      "cell_type": "markdown",
      "source": [
        "Viene rifiutata l'ipotesi di normalità."
      ],
      "metadata": {
        "id": "QBOOM5AAeBbB"
      }
    },
    {
      "cell_type": "code",
      "source": [
        "%%R\n",
        "plot(density(residuals(reg_mod16)))"
      ],
      "metadata": {
        "colab": {
          "base_uri": "https://localhost:8080/",
          "height": 497
        },
        "id": "fPEyyiX3eEmh",
        "outputId": "51d12a34-8575-4ed3-83f9-0a7262ee8863"
      },
      "execution_count": 51,
      "outputs": [
        {
          "output_type": "display_data",
          "data": {
            "image/png": "[encoded data removed]"
          },
          "metadata": {}
        }
      ]
    },
    {
      "cell_type": "markdown",
      "source": [
        "Nonostante il test di Shapiro Wilk rifiuti l'ipotesi di normalità, la densità dei residui assomiglia molto ad una Gaussiana centrata in 0."
      ],
      "metadata": {
        "id": "EZtfvDjIeSkN"
      }
    },
    {
      "cell_type": "markdown",
      "source": [
        "Punto 6)"
      ],
      "metadata": {
        "id": "xsXcSGYNEZyG"
      }
    },
    {
      "cell_type": "markdown",
      "source": [
        "L'R quadro aggiustato di reg_mod16 è pari a 0.7316, ovvero una percentuale di varianza spiegata intorno al 73%. Questo indica una buona capacità del modello di fare previsioni. Tuttavia, dal momento che il modello scelto non è più solo lineare ma sono stati aggiunti dei termini con dipendenza non lineare, si possono considerare altre metriche per valutare la bontà di adattamento del modello, ad esempio si può controllare il mean square error (o la sua radice quadrata) sui dati su cui è stato addestrato il modello. \\\n",
        "In generale comunque per dare una risposta completa si dovrebbe prendere un set di dati non visti dal modello e provare a fare previsioni su questo nuovo set, perchè anche se l'R quadro aggiustato ha un valore abbastanza buono ciò non esclude che il modello possa soffrire di overfitting e non adattarsi bene a dati non visti."
      ],
      "metadata": {
        "id": "11xFwCPzDv5w"
      }
    },
    {
      "cell_type": "code",
      "source": [
        "%%R\n",
        "y_prev <- predict(reg_mod16, newdata=neonati)"
      ],
      "metadata": {
        "id": "dHdb9MhOEy3m"
      },
      "execution_count": 52,
      "outputs": []
    },
    {
      "cell_type": "code",
      "source": [
        "%%R\n",
        "mse <- mean((neonati$Peso - y_prev)^2)\n",
        "rmse <- sqrt(mse)\n",
        "rmse"
      ],
      "metadata": {
        "colab": {
          "base_uri": "https://localhost:8080/"
        },
        "id": "PmM_M_fnFMP1",
        "outputId": "39d88b93-320a-428d-ae07-d0062236e729"
      },
      "execution_count": 53,
      "outputs": [
        {
          "output_type": "stream",
          "name": "stdout",
          "text": [
            "[1] 271.699\n"
          ]
        }
      ]
    },
    {
      "cell_type": "markdown",
      "source": [
        "Si può dire che l'rmse è abbastanza basso, anche questo è un segnale positivo sulla bontà di adattamento del modello."
      ],
      "metadata": {
        "id": "QCZOEkq7PL7j"
      }
    },
    {
      "cell_type": "markdown",
      "source": [
        "Punto 7)"
      ],
      "metadata": {
        "id": "BtUZXxpEMJWw"
      }
    },
    {
      "cell_type": "markdown",
      "source": [
        "Visto che non ci sono misure dall'ecografia, si può sostituire alle variabili lunghezza e cranio la media di lunghezza e cranio filtrata per Sesso=F, Gestazione=39 e N.gravidanze=3."
      ],
      "metadata": {
        "id": "ChCjilsyXWYI"
      }
    },
    {
      "cell_type": "code",
      "source": [
        "%%R\n",
        "neonati_f <- neonati[neonati$Sesso==\"F\",]\n",
        "neonati_f_39 <- neonati_f[neonati_f$Gestazione == 39,]\n",
        "neonati_f_39_3 <- neonati_f_39[neonati_f_39$N.gravidanze==3, ]\n",
        "media_lunghezza <- mean(neonati_f_39_3$Lunghezza)\n",
        "media_cranio <- mean(neonati_f_39_3$Cranio)"
      ],
      "metadata": {
        "id": "HmDyo_JYODHH"
      },
      "execution_count": 54,
      "outputs": []
    },
    {
      "cell_type": "code",
      "source": [
        "%%R\n",
        "nuovi_dati <- data.frame(Anni.madre=25, N.gravidanze=3,Fumatrici=0,Gestazione=39,\n",
        "                         Lunghezza=media_lunghezza, Cranio=media_cranio,\n",
        "                         Tipo.parto=\"Nat\",\n",
        "                         Ospedale=\"osp3\",\n",
        "                         Sesso=\"F\")"
      ],
      "metadata": {
        "id": "S3UdDN-5NVEA"
      },
      "execution_count": 55,
      "outputs": []
    },
    {
      "cell_type": "code",
      "source": [
        "%%R\n",
        "prev <- predict(reg_mod16, newdata = nuovi_dati)\n",
        "print(prev)"
      ],
      "metadata": {
        "colab": {
          "base_uri": "https://localhost:8080/"
        },
        "id": "s9-puGYyiQ2b",
        "outputId": "608ad1f7-93f8-4a85-b6de-25fea5aa3890"
      },
      "execution_count": 60,
      "outputs": [
        {
          "output_type": "stream",
          "name": "stdout",
          "text": [
            "       1 \n",
            "3227.586 \n"
          ]
        }
      ]
    },
    {
      "cell_type": "markdown",
      "source": [
        "Il modello fornisce una previsione di 3227.586 grammi."
      ],
      "metadata": {
        "id": "LWNVNXUritMw"
      }
    },
    {
      "cell_type": "markdown",
      "source": [
        "Punto 8)"
      ],
      "metadata": {
        "id": "qX-5BtFgXF_Y"
      }
    },
    {
      "cell_type": "code",
      "source": [
        "%%R\n",
        "install.packages(\"ggplot2\")"
      ],
      "metadata": {
        "id": "e3I1n1zpYEHp"
      },
      "execution_count": null,
      "outputs": []
    },
    {
      "cell_type": "markdown",
      "source": [
        "Per visualizzare graficamente le dipendenze tra variabili catturate dal modello, si può ad esempio provare a mettere in relazione lineare la variabile peso con la variabile lunghezza (anche se nel modello scelto in realtà la dipendenza non è proprio lineare ma avevamo considerato il fattore di interazione gestazione). Visto che ci sono differenze di peso tra maschi e femmine, si possono provare a visualizzare le due rette di regressione per i dati divisi tra maschi e femmine.  "
      ],
      "metadata": {
        "id": "02Myxh0RdLdI"
      }
    },
    {
      "cell_type": "code",
      "source": [
        "%%R\n",
        "library(\"ggplot2\")\n",
        "ggplot(data=neonati)+\n",
        "  geom_point(aes(y=Peso,\n",
        "                 x=Lunghezza,\n",
        "                 col=Sesso),\n",
        "             position=\"jitter\")+\n",
        "  geom_smooth(aes(y=Peso,\n",
        "                 x=Lunghezza,\n",
        "                 col=Sesso),se=F, method=\"lm\")"
      ],
      "metadata": {
        "colab": {
          "base_uri": "https://localhost:8080/",
          "height": 514
        },
        "id": "uRWwc0bHXFm2",
        "outputId": "a95794f4-65d9-4ce7-9254-37ffb000af1c"
      },
      "execution_count": null,
      "outputs": [
        {
          "output_type": "stream",
          "name": "stdout",
          "text": [
            "`geom_smooth()` using formula = 'y ~ x'\n"
          ]
        },
        {
          "output_type": "display_data",
          "data": {
            "image/png": "[encoded data removed]"
          },
          "metadata": {}
        }
      ]
    },
    {
      "cell_type": "markdown",
      "source": [
        "Si può osservare che all'aumentare della lunghezza sembra che per i maschi ci sia un maggiore aumento di peso rispetto alle femmine."
      ],
      "metadata": {
        "id": "3XTEafDigfOI"
      }
    }
  ]
}