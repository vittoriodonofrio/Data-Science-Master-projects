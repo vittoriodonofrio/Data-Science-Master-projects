{
 "cells": [
  {
   "cell_type": "code",
   "execution_count": null,
   "id": "20988545",
   "metadata": {},
   "outputs": [],
   "source": [
    "import pandas as pd\n",
    "import numpy as np\n",
    "import matplotlib.pyplot as plt\n",
    "from sklearn.linear_model import LinearRegression, Lasso, Ridge, LogisticRegression\n",
    "from sklearn.preprocessing import PolynomialFeatures, StandardScaler, MinMaxScaler\n",
    "from sklearn.model_selection import train_test_split, cross_val_score, KFold\n",
    "from sklearn.metrics import log_loss, confusion_matrix, accuracy_score, precision_score, recall_score, f1_score, roc_auc_score, roc_curve, auc\n",
    "from imblearn.over_sampling import SMOTE\n",
    "from sklearn.feature_selection import SelectFromModel\n",
    "from sklearn.model_selection import train_test_split, cross_val_score, KFold\n",
    "from sklearn.model_selection import GridSearchCV\n",
    "from sklearn.preprocessing import OneHotEncoder"
   ]
  },
  {
   "cell_type": "code",
   "execution_count": 20,
   "id": "d5b7b1ec",
   "metadata": {},
   "outputs": [],
   "source": [
    "data = pd.read_csv( \"C:\\\\Users\\\\Vittorio D'Onofrio\\\\Downloads\\\\insurance_cross_sell.csv\", sep=\",\", index_col=0 )"
   ]
  },
  {
   "cell_type": "markdown",
   "id": "b930f79d",
   "metadata": {},
   "source": [
    "# Preprocessing"
   ]
  },
  {
   "cell_type": "code",
   "execution_count": 21,
   "id": "7f5ff98c",
   "metadata": {},
   "outputs": [
    {
     "data": {
      "text/html": [
       "<div>\n",
       "<style scoped>\n",
       "    .dataframe tbody tr th:only-of-type {\n",
       "        vertical-align: middle;\n",
       "    }\n",
       "\n",
       "    .dataframe tbody tr th {\n",
       "        vertical-align: top;\n",
       "    }\n",
       "\n",
       "    .dataframe thead th {\n",
       "        text-align: right;\n",
       "    }\n",
       "</style>\n",
       "<table border=\"1\" class=\"dataframe\">\n",
       "  <thead>\n",
       "    <tr style=\"text-align: right;\">\n",
       "      <th></th>\n",
       "      <th>Gender</th>\n",
       "      <th>Age</th>\n",
       "      <th>Driving_License</th>\n",
       "      <th>Region_Code</th>\n",
       "      <th>Previously_Insured</th>\n",
       "      <th>Vehicle_Age</th>\n",
       "      <th>Vehicle_Damage</th>\n",
       "      <th>Annual_Premium</th>\n",
       "      <th>Policy_Sales_Channel</th>\n",
       "      <th>Vintage</th>\n",
       "      <th>Response</th>\n",
       "    </tr>\n",
       "    <tr>\n",
       "      <th>id</th>\n",
       "      <th></th>\n",
       "      <th></th>\n",
       "      <th></th>\n",
       "      <th></th>\n",
       "      <th></th>\n",
       "      <th></th>\n",
       "      <th></th>\n",
       "      <th></th>\n",
       "      <th></th>\n",
       "      <th></th>\n",
       "      <th></th>\n",
       "    </tr>\n",
       "  </thead>\n",
       "  <tbody>\n",
       "    <tr>\n",
       "      <th>1</th>\n",
       "      <td>Male</td>\n",
       "      <td>44</td>\n",
       "      <td>1</td>\n",
       "      <td>28.0</td>\n",
       "      <td>0</td>\n",
       "      <td>&gt; 2 Years</td>\n",
       "      <td>Yes</td>\n",
       "      <td>40454.0</td>\n",
       "      <td>26.0</td>\n",
       "      <td>217</td>\n",
       "      <td>1</td>\n",
       "    </tr>\n",
       "    <tr>\n",
       "      <th>2</th>\n",
       "      <td>Male</td>\n",
       "      <td>76</td>\n",
       "      <td>1</td>\n",
       "      <td>3.0</td>\n",
       "      <td>0</td>\n",
       "      <td>1-2 Year</td>\n",
       "      <td>No</td>\n",
       "      <td>33536.0</td>\n",
       "      <td>26.0</td>\n",
       "      <td>183</td>\n",
       "      <td>0</td>\n",
       "    </tr>\n",
       "    <tr>\n",
       "      <th>3</th>\n",
       "      <td>Male</td>\n",
       "      <td>47</td>\n",
       "      <td>1</td>\n",
       "      <td>28.0</td>\n",
       "      <td>0</td>\n",
       "      <td>&gt; 2 Years</td>\n",
       "      <td>Yes</td>\n",
       "      <td>38294.0</td>\n",
       "      <td>26.0</td>\n",
       "      <td>27</td>\n",
       "      <td>1</td>\n",
       "    </tr>\n",
       "    <tr>\n",
       "      <th>4</th>\n",
       "      <td>Male</td>\n",
       "      <td>21</td>\n",
       "      <td>1</td>\n",
       "      <td>11.0</td>\n",
       "      <td>1</td>\n",
       "      <td>&lt; 1 Year</td>\n",
       "      <td>No</td>\n",
       "      <td>28619.0</td>\n",
       "      <td>152.0</td>\n",
       "      <td>203</td>\n",
       "      <td>0</td>\n",
       "    </tr>\n",
       "    <tr>\n",
       "      <th>5</th>\n",
       "      <td>Female</td>\n",
       "      <td>29</td>\n",
       "      <td>1</td>\n",
       "      <td>41.0</td>\n",
       "      <td>1</td>\n",
       "      <td>&lt; 1 Year</td>\n",
       "      <td>No</td>\n",
       "      <td>27496.0</td>\n",
       "      <td>152.0</td>\n",
       "      <td>39</td>\n",
       "      <td>0</td>\n",
       "    </tr>\n",
       "  </tbody>\n",
       "</table>\n",
       "</div>"
      ],
      "text/plain": [
       "    Gender  Age  Driving_License  Region_Code  Previously_Insured Vehicle_Age  \\\n",
       "id                                                                              \n",
       "1     Male   44                1         28.0                   0   > 2 Years   \n",
       "2     Male   76                1          3.0                   0    1-2 Year   \n",
       "3     Male   47                1         28.0                   0   > 2 Years   \n",
       "4     Male   21                1         11.0                   1    < 1 Year   \n",
       "5   Female   29                1         41.0                   1    < 1 Year   \n",
       "\n",
       "   Vehicle_Damage  Annual_Premium  Policy_Sales_Channel  Vintage  Response  \n",
       "id                                                                          \n",
       "1             Yes         40454.0                  26.0      217         1  \n",
       "2              No         33536.0                  26.0      183         0  \n",
       "3             Yes         38294.0                  26.0       27         1  \n",
       "4              No         28619.0                 152.0      203         0  \n",
       "5              No         27496.0                 152.0       39         0  "
      ]
     },
     "execution_count": 21,
     "metadata": {},
     "output_type": "execute_result"
    }
   ],
   "source": [
    "data.head()"
   ]
  },
  {
   "cell_type": "code",
   "execution_count": 22,
   "id": "312b1d4b",
   "metadata": {},
   "outputs": [
    {
     "data": {
      "text/plain": [
       "Gender                   object\n",
       "Age                       int64\n",
       "Driving_License           int64\n",
       "Region_Code             float64\n",
       "Previously_Insured        int64\n",
       "Vehicle_Age              object\n",
       "Vehicle_Damage           object\n",
       "Annual_Premium          float64\n",
       "Policy_Sales_Channel    float64\n",
       "Vintage                   int64\n",
       "Response                  int64\n",
       "dtype: object"
      ]
     },
     "execution_count": 22,
     "metadata": {},
     "output_type": "execute_result"
    }
   ],
   "source": [
    "data.dtypes"
   ]
  },
  {
   "cell_type": "code",
   "execution_count": 23,
   "id": "af6b5bca",
   "metadata": {},
   "outputs": [
    {
     "data": {
      "text/plain": [
       "Gender                  0\n",
       "Age                     0\n",
       "Driving_License         0\n",
       "Region_Code             0\n",
       "Previously_Insured      0\n",
       "Vehicle_Age             0\n",
       "Vehicle_Damage          0\n",
       "Annual_Premium          0\n",
       "Policy_Sales_Channel    0\n",
       "Vintage                 0\n",
       "Response                0\n",
       "dtype: int64"
      ]
     },
     "execution_count": 23,
     "metadata": {},
     "output_type": "execute_result"
    }
   ],
   "source": [
    "data.isna().sum()"
   ]
  },
  {
   "cell_type": "markdown",
   "id": "681d7305",
   "metadata": {},
   "source": [
    "Nel dataset non ci sono valori mancanti."
   ]
  },
  {
   "cell_type": "code",
   "execution_count": 24,
   "id": "9b28d202",
   "metadata": {},
   "outputs": [
    {
     "data": {
      "text/plain": [
       "0    334399\n",
       "1     46710\n",
       "Name: Response, dtype: int64"
      ]
     },
     "execution_count": 24,
     "metadata": {},
     "output_type": "execute_result"
    }
   ],
   "source": [
    "data[\"Response\"].value_counts()"
   ]
  },
  {
   "cell_type": "markdown",
   "id": "31541331",
   "metadata": {},
   "source": [
    "Il problema di classificazione è sbilanciato a favore della classe 0."
   ]
  },
  {
   "cell_type": "markdown",
   "id": "25640089",
   "metadata": {},
   "source": [
    "C'è bisogno di un encoding per le variabili \"Gender\", \"Vehicle_Age\", \"Vehicle Damage\", \"Policy sales channel\" e \"Region Code\". Le feature \"Gender\", \"Vehicle Age\" e \"Vehicle Damage\" sono stringhe e quindi vanno trasformate in numeriche; le variabili \"Policy Sales Channel\" e \"Region Code\" sono categoriche.\\\n",
    "L'approccio è il seguente: \\\n",
    "    * per la variabile \"Vehicle_Age\" è sufficiente un ordinal encoding, \\\n",
    "    * decodifico tutte le altre con la one hot encoding, anche se ci sarà un numero molto grande di features,\\\n",
    "    * feature selection a partire dal dataset con molte features."
   ]
  },
  {
   "cell_type": "code",
   "execution_count": 25,
   "id": "3e17fab4",
   "metadata": {},
   "outputs": [],
   "source": [
    "vehicle_age_mapping={\n",
    "    \"< 1 Year\":1,\n",
    "    \"1-2 Year\":2,\n",
    "    \"> 2 Years\":3\n",
    "}\n",
    "\n",
    "data[\"Vehicle_Age\"]=data[\"Vehicle_Age\"].map(vehicle_age_mapping)"
   ]
  },
  {
   "cell_type": "code",
   "execution_count": 26,
   "id": "8bfb5419",
   "metadata": {},
   "outputs": [],
   "source": [
    "data= pd.get_dummies(data , columns=[ 'Policy_Sales_Channel' , 'Gender' , 'Vehicle_Damage', 'Region_Code'  ] )"
   ]
  },
  {
   "cell_type": "code",
   "execution_count": 27,
   "id": "77387b34",
   "metadata": {},
   "outputs": [
    {
     "data": {
      "text/html": [
       "<div>\n",
       "<style scoped>\n",
       "    .dataframe tbody tr th:only-of-type {\n",
       "        vertical-align: middle;\n",
       "    }\n",
       "\n",
       "    .dataframe tbody tr th {\n",
       "        vertical-align: top;\n",
       "    }\n",
       "\n",
       "    .dataframe thead th {\n",
       "        text-align: right;\n",
       "    }\n",
       "</style>\n",
       "<table border=\"1\" class=\"dataframe\">\n",
       "  <thead>\n",
       "    <tr style=\"text-align: right;\">\n",
       "      <th></th>\n",
       "      <th>Age</th>\n",
       "      <th>Driving_License</th>\n",
       "      <th>Previously_Insured</th>\n",
       "      <th>Vehicle_Age</th>\n",
       "      <th>Annual_Premium</th>\n",
       "      <th>Vintage</th>\n",
       "      <th>Response</th>\n",
       "      <th>Policy_Sales_Channel_1.0</th>\n",
       "      <th>Policy_Sales_Channel_2.0</th>\n",
       "      <th>Policy_Sales_Channel_3.0</th>\n",
       "      <th>...</th>\n",
       "      <th>Region_Code_43.0</th>\n",
       "      <th>Region_Code_44.0</th>\n",
       "      <th>Region_Code_45.0</th>\n",
       "      <th>Region_Code_46.0</th>\n",
       "      <th>Region_Code_47.0</th>\n",
       "      <th>Region_Code_48.0</th>\n",
       "      <th>Region_Code_49.0</th>\n",
       "      <th>Region_Code_50.0</th>\n",
       "      <th>Region_Code_51.0</th>\n",
       "      <th>Region_Code_52.0</th>\n",
       "    </tr>\n",
       "    <tr>\n",
       "      <th>id</th>\n",
       "      <th></th>\n",
       "      <th></th>\n",
       "      <th></th>\n",
       "      <th></th>\n",
       "      <th></th>\n",
       "      <th></th>\n",
       "      <th></th>\n",
       "      <th></th>\n",
       "      <th></th>\n",
       "      <th></th>\n",
       "      <th></th>\n",
       "      <th></th>\n",
       "      <th></th>\n",
       "      <th></th>\n",
       "      <th></th>\n",
       "      <th></th>\n",
       "      <th></th>\n",
       "      <th></th>\n",
       "      <th></th>\n",
       "      <th></th>\n",
       "      <th></th>\n",
       "    </tr>\n",
       "  </thead>\n",
       "  <tbody>\n",
       "    <tr>\n",
       "      <th>1</th>\n",
       "      <td>44</td>\n",
       "      <td>1</td>\n",
       "      <td>0</td>\n",
       "      <td>3</td>\n",
       "      <td>40454.0</td>\n",
       "      <td>217</td>\n",
       "      <td>1</td>\n",
       "      <td>0</td>\n",
       "      <td>0</td>\n",
       "      <td>0</td>\n",
       "      <td>...</td>\n",
       "      <td>0</td>\n",
       "      <td>0</td>\n",
       "      <td>0</td>\n",
       "      <td>0</td>\n",
       "      <td>0</td>\n",
       "      <td>0</td>\n",
       "      <td>0</td>\n",
       "      <td>0</td>\n",
       "      <td>0</td>\n",
       "      <td>0</td>\n",
       "    </tr>\n",
       "    <tr>\n",
       "      <th>2</th>\n",
       "      <td>76</td>\n",
       "      <td>1</td>\n",
       "      <td>0</td>\n",
       "      <td>2</td>\n",
       "      <td>33536.0</td>\n",
       "      <td>183</td>\n",
       "      <td>0</td>\n",
       "      <td>0</td>\n",
       "      <td>0</td>\n",
       "      <td>0</td>\n",
       "      <td>...</td>\n",
       "      <td>0</td>\n",
       "      <td>0</td>\n",
       "      <td>0</td>\n",
       "      <td>0</td>\n",
       "      <td>0</td>\n",
       "      <td>0</td>\n",
       "      <td>0</td>\n",
       "      <td>0</td>\n",
       "      <td>0</td>\n",
       "      <td>0</td>\n",
       "    </tr>\n",
       "    <tr>\n",
       "      <th>3</th>\n",
       "      <td>47</td>\n",
       "      <td>1</td>\n",
       "      <td>0</td>\n",
       "      <td>3</td>\n",
       "      <td>38294.0</td>\n",
       "      <td>27</td>\n",
       "      <td>1</td>\n",
       "      <td>0</td>\n",
       "      <td>0</td>\n",
       "      <td>0</td>\n",
       "      <td>...</td>\n",
       "      <td>0</td>\n",
       "      <td>0</td>\n",
       "      <td>0</td>\n",
       "      <td>0</td>\n",
       "      <td>0</td>\n",
       "      <td>0</td>\n",
       "      <td>0</td>\n",
       "      <td>0</td>\n",
       "      <td>0</td>\n",
       "      <td>0</td>\n",
       "    </tr>\n",
       "    <tr>\n",
       "      <th>4</th>\n",
       "      <td>21</td>\n",
       "      <td>1</td>\n",
       "      <td>1</td>\n",
       "      <td>1</td>\n",
       "      <td>28619.0</td>\n",
       "      <td>203</td>\n",
       "      <td>0</td>\n",
       "      <td>0</td>\n",
       "      <td>0</td>\n",
       "      <td>0</td>\n",
       "      <td>...</td>\n",
       "      <td>0</td>\n",
       "      <td>0</td>\n",
       "      <td>0</td>\n",
       "      <td>0</td>\n",
       "      <td>0</td>\n",
       "      <td>0</td>\n",
       "      <td>0</td>\n",
       "      <td>0</td>\n",
       "      <td>0</td>\n",
       "      <td>0</td>\n",
       "    </tr>\n",
       "    <tr>\n",
       "      <th>5</th>\n",
       "      <td>29</td>\n",
       "      <td>1</td>\n",
       "      <td>1</td>\n",
       "      <td>1</td>\n",
       "      <td>27496.0</td>\n",
       "      <td>39</td>\n",
       "      <td>0</td>\n",
       "      <td>0</td>\n",
       "      <td>0</td>\n",
       "      <td>0</td>\n",
       "      <td>...</td>\n",
       "      <td>0</td>\n",
       "      <td>0</td>\n",
       "      <td>0</td>\n",
       "      <td>0</td>\n",
       "      <td>0</td>\n",
       "      <td>0</td>\n",
       "      <td>0</td>\n",
       "      <td>0</td>\n",
       "      <td>0</td>\n",
       "      <td>0</td>\n",
       "    </tr>\n",
       "  </tbody>\n",
       "</table>\n",
       "<p>5 rows × 219 columns</p>\n",
       "</div>"
      ],
      "text/plain": [
       "    Age  Driving_License  Previously_Insured  Vehicle_Age  Annual_Premium  \\\n",
       "id                                                                          \n",
       "1    44                1                   0            3         40454.0   \n",
       "2    76                1                   0            2         33536.0   \n",
       "3    47                1                   0            3         38294.0   \n",
       "4    21                1                   1            1         28619.0   \n",
       "5    29                1                   1            1         27496.0   \n",
       "\n",
       "    Vintage  Response  Policy_Sales_Channel_1.0  Policy_Sales_Channel_2.0  \\\n",
       "id                                                                          \n",
       "1       217         1                         0                         0   \n",
       "2       183         0                         0                         0   \n",
       "3        27         1                         0                         0   \n",
       "4       203         0                         0                         0   \n",
       "5        39         0                         0                         0   \n",
       "\n",
       "    Policy_Sales_Channel_3.0  ...  Region_Code_43.0  Region_Code_44.0  \\\n",
       "id                            ...                                       \n",
       "1                          0  ...                 0                 0   \n",
       "2                          0  ...                 0                 0   \n",
       "3                          0  ...                 0                 0   \n",
       "4                          0  ...                 0                 0   \n",
       "5                          0  ...                 0                 0   \n",
       "\n",
       "    Region_Code_45.0  Region_Code_46.0  Region_Code_47.0  Region_Code_48.0  \\\n",
       "id                                                                           \n",
       "1                  0                 0                 0                 0   \n",
       "2                  0                 0                 0                 0   \n",
       "3                  0                 0                 0                 0   \n",
       "4                  0                 0                 0                 0   \n",
       "5                  0                 0                 0                 0   \n",
       "\n",
       "    Region_Code_49.0  Region_Code_50.0  Region_Code_51.0  Region_Code_52.0  \n",
       "id                                                                          \n",
       "1                  0                 0                 0                 0  \n",
       "2                  0                 0                 0                 0  \n",
       "3                  0                 0                 0                 0  \n",
       "4                  0                 0                 0                 0  \n",
       "5                  0                 0                 0                 0  \n",
       "\n",
       "[5 rows x 219 columns]"
      ]
     },
     "execution_count": 27,
     "metadata": {},
     "output_type": "execute_result"
    }
   ],
   "source": [
    "data.head()"
   ]
  },
  {
   "cell_type": "code",
   "execution_count": 28,
   "id": "c4805bdb",
   "metadata": {},
   "outputs": [
    {
     "data": {
      "text/html": [
       "<div>\n",
       "<style scoped>\n",
       "    .dataframe tbody tr th:only-of-type {\n",
       "        vertical-align: middle;\n",
       "    }\n",
       "\n",
       "    .dataframe tbody tr th {\n",
       "        vertical-align: top;\n",
       "    }\n",
       "\n",
       "    .dataframe thead th {\n",
       "        text-align: right;\n",
       "    }\n",
       "</style>\n",
       "<table border=\"1\" class=\"dataframe\">\n",
       "  <thead>\n",
       "    <tr style=\"text-align: right;\">\n",
       "      <th></th>\n",
       "      <th>Age</th>\n",
       "      <th>Driving_License</th>\n",
       "      <th>Previously_Insured</th>\n",
       "      <th>Vehicle_Age</th>\n",
       "      <th>Annual_Premium</th>\n",
       "      <th>Vintage</th>\n",
       "      <th>Response</th>\n",
       "      <th>Policy_Sales_Channel_1.0</th>\n",
       "      <th>Policy_Sales_Channel_2.0</th>\n",
       "      <th>Policy_Sales_Channel_3.0</th>\n",
       "      <th>...</th>\n",
       "      <th>Region_Code_43.0</th>\n",
       "      <th>Region_Code_44.0</th>\n",
       "      <th>Region_Code_45.0</th>\n",
       "      <th>Region_Code_46.0</th>\n",
       "      <th>Region_Code_47.0</th>\n",
       "      <th>Region_Code_48.0</th>\n",
       "      <th>Region_Code_49.0</th>\n",
       "      <th>Region_Code_50.0</th>\n",
       "      <th>Region_Code_51.0</th>\n",
       "      <th>Region_Code_52.0</th>\n",
       "    </tr>\n",
       "  </thead>\n",
       "  <tbody>\n",
       "    <tr>\n",
       "      <th>count</th>\n",
       "      <td>381109.000000</td>\n",
       "      <td>381109.000000</td>\n",
       "      <td>381109.000000</td>\n",
       "      <td>381109.000000</td>\n",
       "      <td>381109.000000</td>\n",
       "      <td>381109.000000</td>\n",
       "      <td>381109.000000</td>\n",
       "      <td>381109.000000</td>\n",
       "      <td>381109.00000</td>\n",
       "      <td>381109.000000</td>\n",
       "      <td>...</td>\n",
       "      <td>381109.000000</td>\n",
       "      <td>381109.000000</td>\n",
       "      <td>381109.000000</td>\n",
       "      <td>381109.000000</td>\n",
       "      <td>381109.000000</td>\n",
       "      <td>381109.000000</td>\n",
       "      <td>381109.000000</td>\n",
       "      <td>381109.000000</td>\n",
       "      <td>381109.000000</td>\n",
       "      <td>381109.000000</td>\n",
       "    </tr>\n",
       "    <tr>\n",
       "      <th>mean</th>\n",
       "      <td>38.822584</td>\n",
       "      <td>0.997869</td>\n",
       "      <td>0.458210</td>\n",
       "      <td>1.609616</td>\n",
       "      <td>30564.389581</td>\n",
       "      <td>154.347397</td>\n",
       "      <td>0.122563</td>\n",
       "      <td>0.002818</td>\n",
       "      <td>0.00001</td>\n",
       "      <td>0.001372</td>\n",
       "      <td>...</td>\n",
       "      <td>0.006925</td>\n",
       "      <td>0.002120</td>\n",
       "      <td>0.014707</td>\n",
       "      <td>0.051820</td>\n",
       "      <td>0.019511</td>\n",
       "      <td>0.012283</td>\n",
       "      <td>0.004807</td>\n",
       "      <td>0.026877</td>\n",
       "      <td>0.000480</td>\n",
       "      <td>0.000701</td>\n",
       "    </tr>\n",
       "    <tr>\n",
       "      <th>std</th>\n",
       "      <td>15.511611</td>\n",
       "      <td>0.046110</td>\n",
       "      <td>0.498251</td>\n",
       "      <td>0.567439</td>\n",
       "      <td>17213.155057</td>\n",
       "      <td>83.671304</td>\n",
       "      <td>0.327936</td>\n",
       "      <td>0.053011</td>\n",
       "      <td>0.00324</td>\n",
       "      <td>0.037019</td>\n",
       "      <td>...</td>\n",
       "      <td>0.082925</td>\n",
       "      <td>0.045996</td>\n",
       "      <td>0.120378</td>\n",
       "      <td>0.221663</td>\n",
       "      <td>0.138314</td>\n",
       "      <td>0.110144</td>\n",
       "      <td>0.069166</td>\n",
       "      <td>0.161724</td>\n",
       "      <td>0.021908</td>\n",
       "      <td>0.026459</td>\n",
       "    </tr>\n",
       "    <tr>\n",
       "      <th>min</th>\n",
       "      <td>20.000000</td>\n",
       "      <td>0.000000</td>\n",
       "      <td>0.000000</td>\n",
       "      <td>1.000000</td>\n",
       "      <td>2630.000000</td>\n",
       "      <td>10.000000</td>\n",
       "      <td>0.000000</td>\n",
       "      <td>0.000000</td>\n",
       "      <td>0.00000</td>\n",
       "      <td>0.000000</td>\n",
       "      <td>...</td>\n",
       "      <td>0.000000</td>\n",
       "      <td>0.000000</td>\n",
       "      <td>0.000000</td>\n",
       "      <td>0.000000</td>\n",
       "      <td>0.000000</td>\n",
       "      <td>0.000000</td>\n",
       "      <td>0.000000</td>\n",
       "      <td>0.000000</td>\n",
       "      <td>0.000000</td>\n",
       "      <td>0.000000</td>\n",
       "    </tr>\n",
       "    <tr>\n",
       "      <th>25%</th>\n",
       "      <td>25.000000</td>\n",
       "      <td>1.000000</td>\n",
       "      <td>0.000000</td>\n",
       "      <td>1.000000</td>\n",
       "      <td>24405.000000</td>\n",
       "      <td>82.000000</td>\n",
       "      <td>0.000000</td>\n",
       "      <td>0.000000</td>\n",
       "      <td>0.00000</td>\n",
       "      <td>0.000000</td>\n",
       "      <td>...</td>\n",
       "      <td>0.000000</td>\n",
       "      <td>0.000000</td>\n",
       "      <td>0.000000</td>\n",
       "      <td>0.000000</td>\n",
       "      <td>0.000000</td>\n",
       "      <td>0.000000</td>\n",
       "      <td>0.000000</td>\n",
       "      <td>0.000000</td>\n",
       "      <td>0.000000</td>\n",
       "      <td>0.000000</td>\n",
       "    </tr>\n",
       "    <tr>\n",
       "      <th>50%</th>\n",
       "      <td>36.000000</td>\n",
       "      <td>1.000000</td>\n",
       "      <td>0.000000</td>\n",
       "      <td>2.000000</td>\n",
       "      <td>31669.000000</td>\n",
       "      <td>154.000000</td>\n",
       "      <td>0.000000</td>\n",
       "      <td>0.000000</td>\n",
       "      <td>0.00000</td>\n",
       "      <td>0.000000</td>\n",
       "      <td>...</td>\n",
       "      <td>0.000000</td>\n",
       "      <td>0.000000</td>\n",
       "      <td>0.000000</td>\n",
       "      <td>0.000000</td>\n",
       "      <td>0.000000</td>\n",
       "      <td>0.000000</td>\n",
       "      <td>0.000000</td>\n",
       "      <td>0.000000</td>\n",
       "      <td>0.000000</td>\n",
       "      <td>0.000000</td>\n",
       "    </tr>\n",
       "    <tr>\n",
       "      <th>75%</th>\n",
       "      <td>49.000000</td>\n",
       "      <td>1.000000</td>\n",
       "      <td>1.000000</td>\n",
       "      <td>2.000000</td>\n",
       "      <td>39400.000000</td>\n",
       "      <td>227.000000</td>\n",
       "      <td>0.000000</td>\n",
       "      <td>0.000000</td>\n",
       "      <td>0.00000</td>\n",
       "      <td>0.000000</td>\n",
       "      <td>...</td>\n",
       "      <td>0.000000</td>\n",
       "      <td>0.000000</td>\n",
       "      <td>0.000000</td>\n",
       "      <td>0.000000</td>\n",
       "      <td>0.000000</td>\n",
       "      <td>0.000000</td>\n",
       "      <td>0.000000</td>\n",
       "      <td>0.000000</td>\n",
       "      <td>0.000000</td>\n",
       "      <td>0.000000</td>\n",
       "    </tr>\n",
       "    <tr>\n",
       "      <th>max</th>\n",
       "      <td>85.000000</td>\n",
       "      <td>1.000000</td>\n",
       "      <td>1.000000</td>\n",
       "      <td>3.000000</td>\n",
       "      <td>540165.000000</td>\n",
       "      <td>299.000000</td>\n",
       "      <td>1.000000</td>\n",
       "      <td>1.000000</td>\n",
       "      <td>1.00000</td>\n",
       "      <td>1.000000</td>\n",
       "      <td>...</td>\n",
       "      <td>1.000000</td>\n",
       "      <td>1.000000</td>\n",
       "      <td>1.000000</td>\n",
       "      <td>1.000000</td>\n",
       "      <td>1.000000</td>\n",
       "      <td>1.000000</td>\n",
       "      <td>1.000000</td>\n",
       "      <td>1.000000</td>\n",
       "      <td>1.000000</td>\n",
       "      <td>1.000000</td>\n",
       "    </tr>\n",
       "  </tbody>\n",
       "</table>\n",
       "<p>8 rows × 219 columns</p>\n",
       "</div>"
      ],
      "text/plain": [
       "                 Age  Driving_License  Previously_Insured    Vehicle_Age  \\\n",
       "count  381109.000000    381109.000000       381109.000000  381109.000000   \n",
       "mean       38.822584         0.997869            0.458210       1.609616   \n",
       "std        15.511611         0.046110            0.498251       0.567439   \n",
       "min        20.000000         0.000000            0.000000       1.000000   \n",
       "25%        25.000000         1.000000            0.000000       1.000000   \n",
       "50%        36.000000         1.000000            0.000000       2.000000   \n",
       "75%        49.000000         1.000000            1.000000       2.000000   \n",
       "max        85.000000         1.000000            1.000000       3.000000   \n",
       "\n",
       "       Annual_Premium        Vintage       Response  Policy_Sales_Channel_1.0  \\\n",
       "count   381109.000000  381109.000000  381109.000000             381109.000000   \n",
       "mean     30564.389581     154.347397       0.122563                  0.002818   \n",
       "std      17213.155057      83.671304       0.327936                  0.053011   \n",
       "min       2630.000000      10.000000       0.000000                  0.000000   \n",
       "25%      24405.000000      82.000000       0.000000                  0.000000   \n",
       "50%      31669.000000     154.000000       0.000000                  0.000000   \n",
       "75%      39400.000000     227.000000       0.000000                  0.000000   \n",
       "max     540165.000000     299.000000       1.000000                  1.000000   \n",
       "\n",
       "       Policy_Sales_Channel_2.0  Policy_Sales_Channel_3.0  ...  \\\n",
       "count              381109.00000             381109.000000  ...   \n",
       "mean                    0.00001                  0.001372  ...   \n",
       "std                     0.00324                  0.037019  ...   \n",
       "min                     0.00000                  0.000000  ...   \n",
       "25%                     0.00000                  0.000000  ...   \n",
       "50%                     0.00000                  0.000000  ...   \n",
       "75%                     0.00000                  0.000000  ...   \n",
       "max                     1.00000                  1.000000  ...   \n",
       "\n",
       "       Region_Code_43.0  Region_Code_44.0  Region_Code_45.0  Region_Code_46.0  \\\n",
       "count     381109.000000     381109.000000     381109.000000     381109.000000   \n",
       "mean           0.006925          0.002120          0.014707          0.051820   \n",
       "std            0.082925          0.045996          0.120378          0.221663   \n",
       "min            0.000000          0.000000          0.000000          0.000000   \n",
       "25%            0.000000          0.000000          0.000000          0.000000   \n",
       "50%            0.000000          0.000000          0.000000          0.000000   \n",
       "75%            0.000000          0.000000          0.000000          0.000000   \n",
       "max            1.000000          1.000000          1.000000          1.000000   \n",
       "\n",
       "       Region_Code_47.0  Region_Code_48.0  Region_Code_49.0  Region_Code_50.0  \\\n",
       "count     381109.000000     381109.000000     381109.000000     381109.000000   \n",
       "mean           0.019511          0.012283          0.004807          0.026877   \n",
       "std            0.138314          0.110144          0.069166          0.161724   \n",
       "min            0.000000          0.000000          0.000000          0.000000   \n",
       "25%            0.000000          0.000000          0.000000          0.000000   \n",
       "50%            0.000000          0.000000          0.000000          0.000000   \n",
       "75%            0.000000          0.000000          0.000000          0.000000   \n",
       "max            1.000000          1.000000          1.000000          1.000000   \n",
       "\n",
       "       Region_Code_51.0  Region_Code_52.0  \n",
       "count     381109.000000     381109.000000  \n",
       "mean           0.000480          0.000701  \n",
       "std            0.021908          0.026459  \n",
       "min            0.000000          0.000000  \n",
       "25%            0.000000          0.000000  \n",
       "50%            0.000000          0.000000  \n",
       "75%            0.000000          0.000000  \n",
       "max            1.000000          1.000000  \n",
       "\n",
       "[8 rows x 219 columns]"
      ]
     },
     "execution_count": 28,
     "metadata": {},
     "output_type": "execute_result"
    }
   ],
   "source": [
    "data.describe()"
   ]
  },
  {
   "cell_type": "markdown",
   "id": "28ae7681",
   "metadata": {},
   "source": [
    "Proviamo a fare feature selection utilizzando la regressione logistica e la classe SelectFromModel di scikit-learn. In particolare, scegliendo 'threshold = mean' si scelgono le feature la cui importanza è superiore alla media delle importanze delle feature. Si possono provare anche altri parametri per la soglia, per il momento la media mi sembra un buon compromesso. "
   ]
  },
  {
   "cell_type": "code",
   "execution_count": 30,
   "id": "5a7a70bc",
   "metadata": {},
   "outputs": [
    {
     "name": "stdout",
     "output_type": "stream",
     "text": [
      "Feature selezionate dalla regressione logistica: Index(['Age', 'Driving_License', 'Previously_Insured', 'Vehicle_Age',\n",
      "       'Policy_Sales_Channel_25.0', 'Policy_Sales_Channel_26.0',\n",
      "       'Policy_Sales_Channel_46.0', 'Policy_Sales_Channel_63.0',\n",
      "       'Policy_Sales_Channel_96.0', 'Policy_Sales_Channel_108.0',\n",
      "       'Policy_Sales_Channel_118.0', 'Policy_Sales_Channel_122.0',\n",
      "       'Policy_Sales_Channel_124.0', 'Policy_Sales_Channel_146.0',\n",
      "       'Policy_Sales_Channel_151.0', 'Policy_Sales_Channel_152.0',\n",
      "       'Policy_Sales_Channel_154.0', 'Policy_Sales_Channel_155.0',\n",
      "       'Policy_Sales_Channel_156.0', 'Policy_Sales_Channel_157.0',\n",
      "       'Policy_Sales_Channel_159.0', 'Policy_Sales_Channel_160.0',\n",
      "       'Policy_Sales_Channel_163.0', 'Vehicle_Damage_No', 'Vehicle_Damage_Yes',\n",
      "       'Region_Code_0.0', 'Region_Code_8.0', 'Region_Code_11.0',\n",
      "       'Region_Code_25.0', 'Region_Code_28.0', 'Region_Code_29.0',\n",
      "       'Region_Code_41.0', 'Region_Code_44.0', 'Region_Code_48.0',\n",
      "       'Region_Code_50.0'],\n",
      "      dtype='object')\n"
     ]
    }
   ],
   "source": [
    "Y= data[\"Response\"]\n",
    "X= data.drop(\"Response\", axis=1)\n",
    "\n",
    "X_train, X_test, Y_train, Y_test = train_test_split ( X,Y,test_size=.3 , random_state=10 )\n",
    "\n",
    "\n",
    "ss = StandardScaler()\n",
    "X_train=ss.fit_transform(X_train)\n",
    "X_test=ss.transform(X_test)\n",
    "\n",
    "lr_feature_sel=LogisticRegression()\n",
    "lr_feature_sel.fit(X_train, Y_train)\n",
    "\n",
    "sfm = SelectFromModel(lr_feature_sel, threshold='mean')\n",
    "sfm.fit(X_train, Y_train)\n",
    "\n",
    "selected_features_logistic = X.columns[sfm.get_support()]\n",
    "print(\"Feature selezionate dalla regressione logistica:\", selected_features_logistic)"
   ]
  },
  {
   "cell_type": "code",
   "execution_count": 31,
   "id": "1d1dd9c4",
   "metadata": {},
   "outputs": [],
   "source": [
    "data = data[  ['Age', 'Driving_License', 'Previously_Insured', 'Vehicle_Age',\n",
    "       'Policy_Sales_Channel_25.0', 'Policy_Sales_Channel_26.0',\n",
    "       'Policy_Sales_Channel_46.0', 'Policy_Sales_Channel_63.0',\n",
    "       'Policy_Sales_Channel_96.0', 'Policy_Sales_Channel_108.0',\n",
    "       'Policy_Sales_Channel_118.0', 'Policy_Sales_Channel_122.0',\n",
    "       'Policy_Sales_Channel_124.0', 'Policy_Sales_Channel_146.0',\n",
    "       'Policy_Sales_Channel_151.0', 'Policy_Sales_Channel_152.0',\n",
    "       'Policy_Sales_Channel_154.0', 'Policy_Sales_Channel_155.0',\n",
    "       'Policy_Sales_Channel_156.0', 'Policy_Sales_Channel_157.0',\n",
    "       'Policy_Sales_Channel_159.0', 'Policy_Sales_Channel_160.0',\n",
    "       'Policy_Sales_Channel_163.0', 'Vehicle_Damage_No', 'Vehicle_Damage_Yes',\n",
    "       'Region_Code_0.0', 'Region_Code_8.0', 'Region_Code_11.0',\n",
    "       'Region_Code_25.0', 'Region_Code_28.0', 'Region_Code_29.0',\n",
    "       'Region_Code_41.0', 'Region_Code_44.0', 'Region_Code_48.0',\n",
    "       'Region_Code_50.0' ,  'Response' ] ]"
   ]
  },
  {
   "cell_type": "markdown",
   "id": "a88dffd9",
   "metadata": {},
   "source": [
    "#  Costruzione del modello"
   ]
  },
  {
   "cell_type": "code",
   "execution_count": 32,
   "id": "c62b938b",
   "metadata": {},
   "outputs": [],
   "source": [
    "def classification_report(y_true, y_pred):\n",
    "    print(f\"Precision: {precision_score(y_true, y_pred)}\")\n",
    "    print(f\"Recall: {recall_score(y_true, y_pred)}\")\n",
    "    print(f\"f1 score: {f1_score(y_true, y_pred)}\")\n",
    "    print(f\"Accuracy: {accuracy_score(y_true, y_pred)}\")"
   ]
  },
  {
   "cell_type": "code",
   "execution_count": 33,
   "id": "190e8ea1",
   "metadata": {},
   "outputs": [],
   "source": [
    "def evaluate_model(model, dataset, subset):\n",
    "    X, y_true = dataset\n",
    "    y_pred = model.predict(X)\n",
    "    print(f\"METRICHE SUL {subset}:\\n \")\n",
    "    print(f\"Precision: {precision_score(y_true, y_pred):.3f}\")\n",
    "    print(f\"Recall: {recall_score(y_true, y_pred):.3f}\")\n",
    "    print(f\"f1 score: {f1_score(y_true, y_pred):.3f}\")\n",
    "    print(f\"Accuracy: {accuracy_score(y_true, y_pred):.3f} \\n\")\n",
    "    print(f\"MATRICE DI CONFUSIONE: \\n {confusion_matrix(y_true, y_pred)}\") "
   ]
  },
  {
   "cell_type": "code",
   "execution_count": 34,
   "id": "77a03e93",
   "metadata": {},
   "outputs": [
    {
     "data": {
      "text/html": [
       "<style>#sk-container-id-1 {color: black;background-color: white;}#sk-container-id-1 pre{padding: 0;}#sk-container-id-1 div.sk-toggleable {background-color: white;}#sk-container-id-1 label.sk-toggleable__label {cursor: pointer;display: block;width: 100%;margin-bottom: 0;padding: 0.3em;box-sizing: border-box;text-align: center;}#sk-container-id-1 label.sk-toggleable__label-arrow:before {content: \"▸\";float: left;margin-right: 0.25em;color: #696969;}#sk-container-id-1 label.sk-toggleable__label-arrow:hover:before {color: black;}#sk-container-id-1 div.sk-estimator:hover label.sk-toggleable__label-arrow:before {color: black;}#sk-container-id-1 div.sk-toggleable__content {max-height: 0;max-width: 0;overflow: hidden;text-align: left;background-color: #f0f8ff;}#sk-container-id-1 div.sk-toggleable__content pre {margin: 0.2em;color: black;border-radius: 0.25em;background-color: #f0f8ff;}#sk-container-id-1 input.sk-toggleable__control:checked~div.sk-toggleable__content {max-height: 200px;max-width: 100%;overflow: auto;}#sk-container-id-1 input.sk-toggleable__control:checked~label.sk-toggleable__label-arrow:before {content: \"▾\";}#sk-container-id-1 div.sk-estimator input.sk-toggleable__control:checked~label.sk-toggleable__label {background-color: #d4ebff;}#sk-container-id-1 div.sk-label input.sk-toggleable__control:checked~label.sk-toggleable__label {background-color: #d4ebff;}#sk-container-id-1 input.sk-hidden--visually {border: 0;clip: rect(1px 1px 1px 1px);clip: rect(1px, 1px, 1px, 1px);height: 1px;margin: -1px;overflow: hidden;padding: 0;position: absolute;width: 1px;}#sk-container-id-1 div.sk-estimator {font-family: monospace;background-color: #f0f8ff;border: 1px dotted black;border-radius: 0.25em;box-sizing: border-box;margin-bottom: 0.5em;}#sk-container-id-1 div.sk-estimator:hover {background-color: #d4ebff;}#sk-container-id-1 div.sk-parallel-item::after {content: \"\";width: 100%;border-bottom: 1px solid gray;flex-grow: 1;}#sk-container-id-1 div.sk-label:hover label.sk-toggleable__label {background-color: #d4ebff;}#sk-container-id-1 div.sk-serial::before {content: \"\";position: absolute;border-left: 1px solid gray;box-sizing: border-box;top: 0;bottom: 0;left: 50%;z-index: 0;}#sk-container-id-1 div.sk-serial {display: flex;flex-direction: column;align-items: center;background-color: white;padding-right: 0.2em;padding-left: 0.2em;position: relative;}#sk-container-id-1 div.sk-item {position: relative;z-index: 1;}#sk-container-id-1 div.sk-parallel {display: flex;align-items: stretch;justify-content: center;background-color: white;position: relative;}#sk-container-id-1 div.sk-item::before, #sk-container-id-1 div.sk-parallel-item::before {content: \"\";position: absolute;border-left: 1px solid gray;box-sizing: border-box;top: 0;bottom: 0;left: 50%;z-index: -1;}#sk-container-id-1 div.sk-parallel-item {display: flex;flex-direction: column;z-index: 1;position: relative;background-color: white;}#sk-container-id-1 div.sk-parallel-item:first-child::after {align-self: flex-end;width: 50%;}#sk-container-id-1 div.sk-parallel-item:last-child::after {align-self: flex-start;width: 50%;}#sk-container-id-1 div.sk-parallel-item:only-child::after {width: 0;}#sk-container-id-1 div.sk-dashed-wrapped {border: 1px dashed gray;margin: 0 0.4em 0.5em 0.4em;box-sizing: border-box;padding-bottom: 0.4em;background-color: white;}#sk-container-id-1 div.sk-label label {font-family: monospace;font-weight: bold;display: inline-block;line-height: 1.2em;}#sk-container-id-1 div.sk-label-container {text-align: center;}#sk-container-id-1 div.sk-container {/* jupyter's `normalize.less` sets `[hidden] { display: none; }` but bootstrap.min.css set `[hidden] { display: none !important; }` so we also need the `!important` here to be able to override the default hidden behavior on the sphinx rendered scikit-learn.org. See: https://github.com/scikit-learn/scikit-learn/issues/21755 */display: inline-block !important;position: relative;}#sk-container-id-1 div.sk-text-repr-fallback {display: none;}</style><div id=\"sk-container-id-1\" class=\"sk-top-container\"><div class=\"sk-text-repr-fallback\"><pre>LogisticRegression()</pre><b>In a Jupyter environment, please rerun this cell to show the HTML representation or trust the notebook. <br />On GitHub, the HTML representation is unable to render, please try loading this page with nbviewer.org.</b></div><div class=\"sk-container\" hidden><div class=\"sk-item\"><div class=\"sk-estimator sk-toggleable\"><input class=\"sk-toggleable__control sk-hidden--visually\" id=\"sk-estimator-id-1\" type=\"checkbox\" checked><label for=\"sk-estimator-id-1\" class=\"sk-toggleable__label sk-toggleable__label-arrow\">LogisticRegression</label><div class=\"sk-toggleable__content\"><pre>LogisticRegression()</pre></div></div></div></div></div>"
      ],
      "text/plain": [
       "LogisticRegression()"
      ]
     },
     "execution_count": 34,
     "metadata": {},
     "output_type": "execute_result"
    }
   ],
   "source": [
    "Y= data[\"Response\"].values\n",
    "X= data.drop(\"Response\", axis=1).values\n",
    "\n",
    "X_train, X_test, Y_train, Y_test = train_test_split ( X,Y,test_size=.3 , random_state=10 )\n",
    "\n",
    "\n",
    "ss = StandardScaler()\n",
    "X_train=ss.fit_transform(X_train)\n",
    "X_test=ss.transform(X_test)\n",
    "\n",
    "lr=LogisticRegression()\n",
    "lr.fit(X_train, Y_train)"
   ]
  },
  {
   "cell_type": "code",
   "execution_count": 35,
   "id": "c336dc8e",
   "metadata": {},
   "outputs": [
    {
     "name": "stdout",
     "output_type": "stream",
     "text": [
      "METRICHE SUL TRAIN:\n",
      " \n",
      "Precision: 0.359\n",
      "Recall: 0.002\n",
      "f1 score: 0.003\n",
      "Accuracy: 0.877 \n",
      "\n",
      "MATRICE DI CONFUSIONE: \n",
      " [[233908     93]\n",
      " [ 32723     52]]\n"
     ]
    }
   ],
   "source": [
    "evaluate_model(lr , (X_train,Y_train), \"TRAIN\")"
   ]
  },
  {
   "cell_type": "code",
   "execution_count": 36,
   "id": "975a594b",
   "metadata": {},
   "outputs": [
    {
     "name": "stdout",
     "output_type": "stream",
     "text": [
      "METRICHE SUL TEST:\n",
      " \n",
      "Precision: 0.403\n",
      "Recall: 0.002\n",
      "f1 score: 0.004\n",
      "Accuracy: 0.878 \n",
      "\n",
      "MATRICE DI CONFUSIONE: \n",
      " [[100355     43]\n",
      " [ 13906     29]]\n"
     ]
    }
   ],
   "source": [
    "evaluate_model(lr , (X_test,Y_test), \"TEST\")"
   ]
  },
  {
   "cell_type": "markdown",
   "id": "c7075fa9",
   "metadata": {},
   "source": [
    "Osservazione: in questo caso il dataset è sbilanciato a favore della classe negativa (0). Il modello di regressione logistica ottenuto senza pesare le classi produce una recall molto bassa, quindi c'è un numero di falsi negativi molto alto e perciò il modello classifica quasi sempre come negative le vere classi positive. Anche la precision è abbastanza bassa, ovvero ci sono molti falsi positivi, e questo indica che una gran parte degli esempi classificati come positivi in realtà era negativo. Nonostante questo, la accuracy del modello è molto alta, questo perchè probabilmente essendo il dataset sbilanciato, viene predetta quasi sempre la classe negativa e visto che le classi negative sono molte di più rispetto alle classi positive, ottengo una accuracy molto alta. "
   ]
  },
  {
   "cell_type": "markdown",
   "id": "37123455",
   "metadata": {},
   "source": [
    "A questo punto, ci interessa sviluppare un modello che abbia una recall molto alta. Questo perchè un modello con una recall alta riduce il numero di falsi negativi. Nel problema di business, questo significa che il modello con alta recall è in grado di individuare un gran numero di clienti che accetterebbero l'offerta. In pratica, è più importante non lasciarci scappare un cliente che avrebbe accettato l'offerta perchè il modello l'ha classificato come \"non interessato\" (alta recall) anche sacrificando un po' di precision, che nel caso del modello significa che tanti classificati come \"interessati\" all'offerta in realtà non lo sono."
   ]
  },
  {
   "cell_type": "markdown",
   "id": "92337a0d",
   "metadata": {},
   "source": [
    "Nel seguito quindi privilegiamo modelli che abbiano una recall alta mantenendo comunque un buon compromesso con la accuracy e la precision."
   ]
  },
  {
   "cell_type": "markdown",
   "id": "d9530106",
   "metadata": {},
   "source": [
    "# class_weight"
   ]
  },
  {
   "cell_type": "code",
   "execution_count": 37,
   "id": "8d616ea1",
   "metadata": {},
   "outputs": [
    {
     "data": {
      "text/html": [
       "<style>#sk-container-id-2 {color: black;background-color: white;}#sk-container-id-2 pre{padding: 0;}#sk-container-id-2 div.sk-toggleable {background-color: white;}#sk-container-id-2 label.sk-toggleable__label {cursor: pointer;display: block;width: 100%;margin-bottom: 0;padding: 0.3em;box-sizing: border-box;text-align: center;}#sk-container-id-2 label.sk-toggleable__label-arrow:before {content: \"▸\";float: left;margin-right: 0.25em;color: #696969;}#sk-container-id-2 label.sk-toggleable__label-arrow:hover:before {color: black;}#sk-container-id-2 div.sk-estimator:hover label.sk-toggleable__label-arrow:before {color: black;}#sk-container-id-2 div.sk-toggleable__content {max-height: 0;max-width: 0;overflow: hidden;text-align: left;background-color: #f0f8ff;}#sk-container-id-2 div.sk-toggleable__content pre {margin: 0.2em;color: black;border-radius: 0.25em;background-color: #f0f8ff;}#sk-container-id-2 input.sk-toggleable__control:checked~div.sk-toggleable__content {max-height: 200px;max-width: 100%;overflow: auto;}#sk-container-id-2 input.sk-toggleable__control:checked~label.sk-toggleable__label-arrow:before {content: \"▾\";}#sk-container-id-2 div.sk-estimator input.sk-toggleable__control:checked~label.sk-toggleable__label {background-color: #d4ebff;}#sk-container-id-2 div.sk-label input.sk-toggleable__control:checked~label.sk-toggleable__label {background-color: #d4ebff;}#sk-container-id-2 input.sk-hidden--visually {border: 0;clip: rect(1px 1px 1px 1px);clip: rect(1px, 1px, 1px, 1px);height: 1px;margin: -1px;overflow: hidden;padding: 0;position: absolute;width: 1px;}#sk-container-id-2 div.sk-estimator {font-family: monospace;background-color: #f0f8ff;border: 1px dotted black;border-radius: 0.25em;box-sizing: border-box;margin-bottom: 0.5em;}#sk-container-id-2 div.sk-estimator:hover {background-color: #d4ebff;}#sk-container-id-2 div.sk-parallel-item::after {content: \"\";width: 100%;border-bottom: 1px solid gray;flex-grow: 1;}#sk-container-id-2 div.sk-label:hover label.sk-toggleable__label {background-color: #d4ebff;}#sk-container-id-2 div.sk-serial::before {content: \"\";position: absolute;border-left: 1px solid gray;box-sizing: border-box;top: 0;bottom: 0;left: 50%;z-index: 0;}#sk-container-id-2 div.sk-serial {display: flex;flex-direction: column;align-items: center;background-color: white;padding-right: 0.2em;padding-left: 0.2em;position: relative;}#sk-container-id-2 div.sk-item {position: relative;z-index: 1;}#sk-container-id-2 div.sk-parallel {display: flex;align-items: stretch;justify-content: center;background-color: white;position: relative;}#sk-container-id-2 div.sk-item::before, #sk-container-id-2 div.sk-parallel-item::before {content: \"\";position: absolute;border-left: 1px solid gray;box-sizing: border-box;top: 0;bottom: 0;left: 50%;z-index: -1;}#sk-container-id-2 div.sk-parallel-item {display: flex;flex-direction: column;z-index: 1;position: relative;background-color: white;}#sk-container-id-2 div.sk-parallel-item:first-child::after {align-self: flex-end;width: 50%;}#sk-container-id-2 div.sk-parallel-item:last-child::after {align-self: flex-start;width: 50%;}#sk-container-id-2 div.sk-parallel-item:only-child::after {width: 0;}#sk-container-id-2 div.sk-dashed-wrapped {border: 1px dashed gray;margin: 0 0.4em 0.5em 0.4em;box-sizing: border-box;padding-bottom: 0.4em;background-color: white;}#sk-container-id-2 div.sk-label label {font-family: monospace;font-weight: bold;display: inline-block;line-height: 1.2em;}#sk-container-id-2 div.sk-label-container {text-align: center;}#sk-container-id-2 div.sk-container {/* jupyter's `normalize.less` sets `[hidden] { display: none; }` but bootstrap.min.css set `[hidden] { display: none !important; }` so we also need the `!important` here to be able to override the default hidden behavior on the sphinx rendered scikit-learn.org. See: https://github.com/scikit-learn/scikit-learn/issues/21755 */display: inline-block !important;position: relative;}#sk-container-id-2 div.sk-text-repr-fallback {display: none;}</style><div id=\"sk-container-id-2\" class=\"sk-top-container\"><div class=\"sk-text-repr-fallback\"><pre>LogisticRegression(class_weight=&#x27;balanced&#x27;)</pre><b>In a Jupyter environment, please rerun this cell to show the HTML representation or trust the notebook. <br />On GitHub, the HTML representation is unable to render, please try loading this page with nbviewer.org.</b></div><div class=\"sk-container\" hidden><div class=\"sk-item\"><div class=\"sk-estimator sk-toggleable\"><input class=\"sk-toggleable__control sk-hidden--visually\" id=\"sk-estimator-id-2\" type=\"checkbox\" checked><label for=\"sk-estimator-id-2\" class=\"sk-toggleable__label sk-toggleable__label-arrow\">LogisticRegression</label><div class=\"sk-toggleable__content\"><pre>LogisticRegression(class_weight=&#x27;balanced&#x27;)</pre></div></div></div></div></div>"
      ],
      "text/plain": [
       "LogisticRegression(class_weight='balanced')"
      ]
     },
     "execution_count": 37,
     "metadata": {},
     "output_type": "execute_result"
    }
   ],
   "source": [
    "lr2 = LogisticRegression(class_weight=\"balanced\")\n",
    "lr2.fit(X_train, Y_train)"
   ]
  },
  {
   "cell_type": "code",
   "execution_count": 38,
   "id": "620d8dac",
   "metadata": {},
   "outputs": [
    {
     "name": "stdout",
     "output_type": "stream",
     "text": [
      "METRICHE SUL TRAIN:\n",
      " \n",
      "Precision: 0.270\n",
      "Recall: 0.946\n",
      "f1 score: 0.420\n",
      "Accuracy: 0.679 \n",
      "\n",
      "MATRICE DI CONFUSIONE: \n",
      " [[150196  83805]\n",
      " [  1786  30989]]\n"
     ]
    }
   ],
   "source": [
    "evaluate_model(lr2, (X_train, Y_train) , \"TRAIN\")"
   ]
  },
  {
   "cell_type": "code",
   "execution_count": 39,
   "id": "ef2d5af3",
   "metadata": {},
   "outputs": [
    {
     "name": "stdout",
     "output_type": "stream",
     "text": [
      "METRICHE SUL TEST:\n",
      " \n",
      "Precision: 0.267\n",
      "Recall: 0.941\n",
      "f1 score: 0.416\n",
      "Accuracy: 0.678 \n",
      "\n",
      "MATRICE DI CONFUSIONE: \n",
      " [[64389 36009]\n",
      " [  822 13113]]\n"
     ]
    }
   ],
   "source": [
    "evaluate_model(lr2, (X_test, Y_test) , \"TEST\")"
   ]
  },
  {
   "cell_type": "markdown",
   "id": "69e10482",
   "metadata": {},
   "source": [
    "Bilanciando le due classi otteniamo una recall molto alta."
   ]
  },
  {
   "cell_type": "markdown",
   "id": "0464d550",
   "metadata": {},
   "source": [
    "Si può inoltre provare a cercare manualmente con la cross-validation quali possono essere i parametri migliori con cui bilanciare il dataset. In particolare, visto che il problema è la recall, si possono cercare i parametri che rendono migliore questa misura."
   ]
  },
  {
   "cell_type": "code",
   "execution_count": 40,
   "id": "454448af",
   "metadata": {},
   "outputs": [
    {
     "name": "stdout",
     "output_type": "stream",
     "text": [
      "Migliori parametri: {'class_weight': {0: 1, 1: 20}}\n",
      "Miglior punteggio di cross-validation: 0.986788710907704\n"
     ]
    }
   ],
   "source": [
    "model = LogisticRegression()\n",
    "\n",
    "param_grid = {\n",
    "    'class_weight': [None, 'balanced', {0: 1, 1: 2}, {0: 1, 1: 5}, {0: 1, 1: 10},  {0: 1, 1: 20} ]\n",
    "}\n",
    "\n",
    "\n",
    "grid_search = GridSearchCV(model, param_grid, cv=5, scoring='recall')\n",
    "\n",
    "\n",
    "grid_search.fit(X_train, Y_train)\n",
    "\n",
    "\n",
    "print(\"Migliori parametri:\", grid_search.best_params_)\n",
    "print(\"Miglior punteggio di cross-validation:\", grid_search.best_score_)\n",
    "\n",
    "\n",
    "best_model = grid_search.best_estimator_"
   ]
  },
  {
   "cell_type": "markdown",
   "id": "2673fd0c",
   "metadata": {},
   "source": [
    "Proviamo a vedere precisione e accuracy del modello individuato"
   ]
  },
  {
   "cell_type": "code",
   "execution_count": 41,
   "id": "c8437179",
   "metadata": {},
   "outputs": [
    {
     "name": "stdout",
     "output_type": "stream",
     "text": [
      "METRICHE SUL TRAIN:\n",
      " \n",
      "Precision: 0.244\n",
      "Recall: 0.987\n",
      "f1 score: 0.392\n",
      "Accuracy: 0.623 \n",
      "\n",
      "MATRICE DI CONFUSIONE: \n",
      " [[133952 100049]\n",
      " [   433  32342]]\n"
     ]
    }
   ],
   "source": [
    "evaluate_model(best_model, (X_train, Y_train) , \"TRAIN\")"
   ]
  },
  {
   "cell_type": "code",
   "execution_count": 42,
   "id": "d77ec1ae",
   "metadata": {},
   "outputs": [
    {
     "name": "stdout",
     "output_type": "stream",
     "text": [
      "METRICHE SUL TEST:\n",
      " \n",
      "Precision: 0.243\n",
      "Recall: 0.985\n",
      "f1 score: 0.389\n",
      "Accuracy: 0.623 \n",
      "\n",
      "MATRICE DI CONFUSIONE: \n",
      " [[57508 42890]\n",
      " [  203 13732]]\n"
     ]
    }
   ],
   "source": [
    "evaluate_model(best_model, (X_test, Y_test) , \"TEST\")"
   ]
  },
  {
   "cell_type": "markdown",
   "id": "fc34c11a",
   "metadata": {},
   "source": [
    "Proviamo a vedere se si può migliorare ancora la recall, ad esempio fissando una soglia per la probabilità di assegnazione alla classe positiva, minore è la soglia e più alta sarà la recall. Cerchiamo quindi una soglia che sia inferiore a 0.5 (quella di default) senza però compromettere eccessivamente la precision."
   ]
  },
  {
   "cell_type": "markdown",
   "id": "74454c57",
   "metadata": {},
   "source": [
    "Modifichiamo leggermente la funzione di valutazione:"
   ]
  },
  {
   "cell_type": "code",
   "execution_count": 43,
   "id": "871f4ef0",
   "metadata": {},
   "outputs": [],
   "source": [
    "def evaluate_model_proba(model, dataset, subset, threshold):\n",
    "    X, y_true = dataset\n",
    "    y_proba_pred = model.predict_proba(X)[:,1]\n",
    "    \n",
    "    binary_predictions = (y_proba_pred > threshold).astype(int)\n",
    "\n",
    "    print(f\"METRICHE SUL {subset}:\\n \")\n",
    "    print(f\"Precision: {precision_score(y_true, binary_predictions):.3f}\")\n",
    "    print(f\"Recall: {recall_score(y_true, binary_predictions):.3f}\")\n",
    "    print(f\"f1 score: {f1_score(y_true, binary_predictions):.3f}\")\n",
    "    print(f\"Accuracy: {accuracy_score(y_true, binary_predictions):.3f} \\n\")\n",
    "    print(f\"MATRICE DI CONFUSIONE: \\n {confusion_matrix(y_true, binary_predictions)}\") "
   ]
  },
  {
   "cell_type": "code",
   "execution_count": 44,
   "id": "d67629b9",
   "metadata": {},
   "outputs": [
    {
     "name": "stdout",
     "output_type": "stream",
     "text": [
      "METRICHE SUL TRAIN:\n",
      " \n",
      "Precision: 0.234\n",
      "Recall: 0.993\n",
      "f1 score: 0.379\n",
      "Accuracy: 0.600 \n",
      "\n",
      "MATRICE DI CONFUSIONE: \n",
      " [[127645 106356]\n",
      " [   237  32538]]\n"
     ]
    }
   ],
   "source": [
    "evaluate_model_proba(best_model, (X_train, Y_train), \"TRAIN\", 0.3)"
   ]
  },
  {
   "cell_type": "code",
   "execution_count": 45,
   "id": "1b07471d",
   "metadata": {},
   "outputs": [
    {
     "name": "stdout",
     "output_type": "stream",
     "text": [
      "METRICHE SUL TEST:\n",
      " \n",
      "Precision: 0.233\n",
      "Recall: 0.993\n",
      "f1 score: 0.377\n",
      "Accuracy: 0.600 \n",
      "\n",
      "MATRICE DI CONFUSIONE: \n",
      " [[54722 45676]\n",
      " [   98 13837]]\n"
     ]
    }
   ],
   "source": [
    "evaluate_model_proba(best_model, (X_test, Y_test), \"TEST\", 0.3)"
   ]
  },
  {
   "cell_type": "markdown",
   "id": "da233dbb",
   "metadata": {},
   "source": [
    "Con questa scelta del parametro di soglia la recall è migliorata senza peggiorare eccessivamente precision ed accuracy del modello ottenuto con la cross validation."
   ]
  },
  {
   "cell_type": "markdown",
   "id": "fa664a3b",
   "metadata": {},
   "source": [
    "Proviamo a vedere se questo modello presenta overfitting, di nuovo usiamo la cross-validation"
   ]
  },
  {
   "cell_type": "code",
   "execution_count": 46,
   "id": "4227b9ee",
   "metadata": {},
   "outputs": [],
   "source": [
    "kf = KFold(n_splits=5, shuffle =True)"
   ]
  },
  {
   "cell_type": "code",
   "execution_count": 47,
   "id": "9e5fd2d7",
   "metadata": {},
   "outputs": [
    {
     "name": "stdout",
     "output_type": "stream",
     "text": [
      "Metriche dopo 1 split di cross-validation: \n",
      "\n",
      "METRICHE SUL TRAIN:\n",
      " \n",
      "Precision: 0.234\n",
      "Recall: 0.993\n",
      "f1 score: 0.378\n",
      "Accuracy: 0.600 \n",
      "\n",
      "MATRICE DI CONFUSIONE: \n",
      " [[145835 121682]\n",
      " [   277  37093]]\n",
      "METRICHE SUL TEST:\n",
      " \n",
      "Precision: 0.234\n",
      "Recall: 0.994\n",
      "f1 score: 0.379\n",
      "Accuracy: 0.601 \n",
      "\n",
      "MATRICE DI CONFUSIONE: \n",
      " [[36552 30330]\n",
      " [   58  9282]]\n",
      "Metriche dopo 2 split di cross-validation: \n",
      "\n",
      "METRICHE SUL TRAIN:\n",
      " \n",
      "Precision: 0.234\n",
      "Recall: 0.993\n",
      "f1 score: 0.379\n",
      "Accuracy: 0.600 \n",
      "\n",
      "MATRICE DI CONFUSIONE: \n",
      " [[145893 121549]\n",
      " [   261  37184]]\n",
      "METRICHE SUL TEST:\n",
      " \n",
      "Precision: 0.232\n",
      "Recall: 0.992\n",
      "f1 score: 0.376\n",
      "Accuracy: 0.599 \n",
      "\n",
      "MATRICE DI CONFUSIONE: \n",
      " [[36495 30462]\n",
      " [   74  9191]]\n",
      "Metriche dopo 3 split di cross-validation: \n",
      "\n",
      "METRICHE SUL TRAIN:\n",
      " \n",
      "Precision: 0.234\n",
      "Recall: 0.993\n",
      "f1 score: 0.378\n",
      "Accuracy: 0.600 \n",
      "\n",
      "MATRICE DI CONFUSIONE: \n",
      " [[145761 121767]\n",
      " [   253  37106]]\n",
      "METRICHE SUL TEST:\n",
      " \n",
      "Precision: 0.235\n",
      "Recall: 0.991\n",
      "f1 score: 0.379\n",
      "Accuracy: 0.602 \n",
      "\n",
      "MATRICE DI CONFUSIONE: \n",
      " [[36631 30240]\n",
      " [   82  9269]]\n",
      "Metriche dopo 4 split di cross-validation: \n",
      "\n",
      "METRICHE SUL TRAIN:\n",
      " \n",
      "Precision: 0.233\n",
      "Recall: 0.993\n",
      "f1 score: 0.377\n",
      "Accuracy: 0.598 \n",
      "\n",
      "MATRICE DI CONFUSIONE: \n",
      " [[145088 122407]\n",
      " [   259  37133]]\n",
      "METRICHE SUL TEST:\n",
      " \n",
      "Precision: 0.232\n",
      "Recall: 0.995\n",
      "f1 score: 0.376\n",
      "Accuracy: 0.596 \n",
      "\n",
      "MATRICE DI CONFUSIONE: \n",
      " [[36132 30772]\n",
      " [   48  9270]]\n",
      "Metriche dopo 5 split di cross-validation: \n",
      "\n",
      "METRICHE SUL TRAIN:\n",
      " \n",
      "Precision: 0.232\n",
      "Recall: 0.993\n",
      "f1 score: 0.376\n",
      "Accuracy: 0.597 \n",
      "\n",
      "MATRICE DI CONFUSIONE: \n",
      " [[145080 122534]\n",
      " [   243  37031]]\n",
      "METRICHE SUL TEST:\n",
      " \n",
      "Precision: 0.234\n",
      "Recall: 0.993\n",
      "f1 score: 0.379\n",
      "Accuracy: 0.597 \n",
      "\n",
      "MATRICE DI CONFUSIONE: \n",
      " [[36147 30638]\n",
      " [   64  9372]]\n"
     ]
    }
   ],
   "source": [
    "i=1\n",
    "for train_index , test_index in kf.split(X):\n",
    "    \n",
    "    X_train , X_test = X[train_index] , X[test_index]\n",
    "    Y_train, Y_test = Y[train_index], Y[test_index]\n",
    "    \n",
    "    \n",
    "    ss = StandardScaler()\n",
    "    X_train=ss.fit_transform(X_train)\n",
    "    X_test=ss.transform(X_test)\n",
    "\n",
    "    print(f\"Metriche dopo {i} split di cross-validation: \\n\")\n",
    "    \n",
    "    evaluate_model_proba(best_model, (X_train,Y_train) , \"TRAIN\", 0.3)\n",
    "    evaluate_model_proba(best_model, (X_test,Y_test) , \"TEST\", 0.3)\n",
    "\n",
    "    \n",
    "    i+=1\n",
    "    "
   ]
  },
  {
   "cell_type": "markdown",
   "id": "dc43ef5c",
   "metadata": {},
   "source": [
    "Si osserva che le metriche risultano quasi uguali per ogni split fatto dalla cross validation. Il modello non presenta dunque overfitting, ha una recall molto alta ed è quindi un ottimo candidato."
   ]
  },
  {
   "cell_type": "markdown",
   "id": "d4cfbf8e",
   "metadata": {},
   "source": [
    "## Undersampling"
   ]
  },
  {
   "cell_type": "code",
   "execution_count": 48,
   "id": "be5a11ba",
   "metadata": {},
   "outputs": [],
   "source": [
    "from imblearn.under_sampling import RandomUnderSampler"
   ]
  },
  {
   "cell_type": "code",
   "execution_count": 49,
   "id": "175b0c32",
   "metadata": {},
   "outputs": [],
   "source": [
    "X_train, X_test, Y_train, Y_test = train_test_split ( X,Y,test_size=.3 , random_state=20 )\n",
    "\n",
    "undersampler = RandomUnderSampler(sampling_strategy='auto' )\n",
    "\n",
    "X_resampled, Y_resampled = undersampler.fit_resample(X_train, Y_train)"
   ]
  },
  {
   "cell_type": "code",
   "execution_count": 50,
   "id": "30286afe",
   "metadata": {},
   "outputs": [
    {
     "data": {
      "text/html": [
       "<style>#sk-container-id-3 {color: black;background-color: white;}#sk-container-id-3 pre{padding: 0;}#sk-container-id-3 div.sk-toggleable {background-color: white;}#sk-container-id-3 label.sk-toggleable__label {cursor: pointer;display: block;width: 100%;margin-bottom: 0;padding: 0.3em;box-sizing: border-box;text-align: center;}#sk-container-id-3 label.sk-toggleable__label-arrow:before {content: \"▸\";float: left;margin-right: 0.25em;color: #696969;}#sk-container-id-3 label.sk-toggleable__label-arrow:hover:before {color: black;}#sk-container-id-3 div.sk-estimator:hover label.sk-toggleable__label-arrow:before {color: black;}#sk-container-id-3 div.sk-toggleable__content {max-height: 0;max-width: 0;overflow: hidden;text-align: left;background-color: #f0f8ff;}#sk-container-id-3 div.sk-toggleable__content pre {margin: 0.2em;color: black;border-radius: 0.25em;background-color: #f0f8ff;}#sk-container-id-3 input.sk-toggleable__control:checked~div.sk-toggleable__content {max-height: 200px;max-width: 100%;overflow: auto;}#sk-container-id-3 input.sk-toggleable__control:checked~label.sk-toggleable__label-arrow:before {content: \"▾\";}#sk-container-id-3 div.sk-estimator input.sk-toggleable__control:checked~label.sk-toggleable__label {background-color: #d4ebff;}#sk-container-id-3 div.sk-label input.sk-toggleable__control:checked~label.sk-toggleable__label {background-color: #d4ebff;}#sk-container-id-3 input.sk-hidden--visually {border: 0;clip: rect(1px 1px 1px 1px);clip: rect(1px, 1px, 1px, 1px);height: 1px;margin: -1px;overflow: hidden;padding: 0;position: absolute;width: 1px;}#sk-container-id-3 div.sk-estimator {font-family: monospace;background-color: #f0f8ff;border: 1px dotted black;border-radius: 0.25em;box-sizing: border-box;margin-bottom: 0.5em;}#sk-container-id-3 div.sk-estimator:hover {background-color: #d4ebff;}#sk-container-id-3 div.sk-parallel-item::after {content: \"\";width: 100%;border-bottom: 1px solid gray;flex-grow: 1;}#sk-container-id-3 div.sk-label:hover label.sk-toggleable__label {background-color: #d4ebff;}#sk-container-id-3 div.sk-serial::before {content: \"\";position: absolute;border-left: 1px solid gray;box-sizing: border-box;top: 0;bottom: 0;left: 50%;z-index: 0;}#sk-container-id-3 div.sk-serial {display: flex;flex-direction: column;align-items: center;background-color: white;padding-right: 0.2em;padding-left: 0.2em;position: relative;}#sk-container-id-3 div.sk-item {position: relative;z-index: 1;}#sk-container-id-3 div.sk-parallel {display: flex;align-items: stretch;justify-content: center;background-color: white;position: relative;}#sk-container-id-3 div.sk-item::before, #sk-container-id-3 div.sk-parallel-item::before {content: \"\";position: absolute;border-left: 1px solid gray;box-sizing: border-box;top: 0;bottom: 0;left: 50%;z-index: -1;}#sk-container-id-3 div.sk-parallel-item {display: flex;flex-direction: column;z-index: 1;position: relative;background-color: white;}#sk-container-id-3 div.sk-parallel-item:first-child::after {align-self: flex-end;width: 50%;}#sk-container-id-3 div.sk-parallel-item:last-child::after {align-self: flex-start;width: 50%;}#sk-container-id-3 div.sk-parallel-item:only-child::after {width: 0;}#sk-container-id-3 div.sk-dashed-wrapped {border: 1px dashed gray;margin: 0 0.4em 0.5em 0.4em;box-sizing: border-box;padding-bottom: 0.4em;background-color: white;}#sk-container-id-3 div.sk-label label {font-family: monospace;font-weight: bold;display: inline-block;line-height: 1.2em;}#sk-container-id-3 div.sk-label-container {text-align: center;}#sk-container-id-3 div.sk-container {/* jupyter's `normalize.less` sets `[hidden] { display: none; }` but bootstrap.min.css set `[hidden] { display: none !important; }` so we also need the `!important` here to be able to override the default hidden behavior on the sphinx rendered scikit-learn.org. See: https://github.com/scikit-learn/scikit-learn/issues/21755 */display: inline-block !important;position: relative;}#sk-container-id-3 div.sk-text-repr-fallback {display: none;}</style><div id=\"sk-container-id-3\" class=\"sk-top-container\"><div class=\"sk-text-repr-fallback\"><pre>LogisticRegression()</pre><b>In a Jupyter environment, please rerun this cell to show the HTML representation or trust the notebook. <br />On GitHub, the HTML representation is unable to render, please try loading this page with nbviewer.org.</b></div><div class=\"sk-container\" hidden><div class=\"sk-item\"><div class=\"sk-estimator sk-toggleable\"><input class=\"sk-toggleable__control sk-hidden--visually\" id=\"sk-estimator-id-3\" type=\"checkbox\" checked><label for=\"sk-estimator-id-3\" class=\"sk-toggleable__label sk-toggleable__label-arrow\">LogisticRegression</label><div class=\"sk-toggleable__content\"><pre>LogisticRegression()</pre></div></div></div></div></div>"
      ],
      "text/plain": [
       "LogisticRegression()"
      ]
     },
     "execution_count": 50,
     "metadata": {},
     "output_type": "execute_result"
    }
   ],
   "source": [
    "ss = StandardScaler()\n",
    "\n",
    "X_resampled=ss.fit_transform(X_resampled)\n",
    "X_test=ss.transform(X_test)\n",
    "\n",
    "lr_under=LogisticRegression()\n",
    "lr_under.fit(X_resampled, Y_resampled)"
   ]
  },
  {
   "cell_type": "code",
   "execution_count": 51,
   "id": "7cf20bb2",
   "metadata": {},
   "outputs": [
    {
     "name": "stdout",
     "output_type": "stream",
     "text": [
      "METRICHE SUL TRAIN:\n",
      " \n",
      "Precision: 0.725\n",
      "Recall: 0.942\n",
      "f1 score: 0.819\n",
      "Accuracy: 0.792 \n",
      "\n",
      "MATRICE DI CONFUSIONE: \n",
      " [[21030 11694]\n",
      " [ 1893 30831]]\n"
     ]
    }
   ],
   "source": [
    "evaluate_model(lr_under, (X_resampled, Y_resampled), \"TRAIN\")"
   ]
  },
  {
   "cell_type": "code",
   "execution_count": 52,
   "id": "16bd2906",
   "metadata": {},
   "outputs": [
    {
     "name": "stdout",
     "output_type": "stream",
     "text": [
      "METRICHE SUL TEST:\n",
      " \n",
      "Precision: 0.269\n",
      "Recall: 0.945\n",
      "f1 score: 0.419\n",
      "Accuracy: 0.680 \n",
      "\n",
      "MATRICE DI CONFUSIONE: \n",
      " [[64508 35839]\n",
      " [  775 13211]]\n"
     ]
    }
   ],
   "source": [
    "evaluate_model(lr_under, (X_test, Y_test), \"TEST\")"
   ]
  },
  {
   "cell_type": "markdown",
   "id": "6181eafc",
   "metadata": {},
   "source": [
    "Possiamo anche scegliere manualmente la porzione di osservazioni da cancellare della classe maggioritaria"
   ]
  },
  {
   "cell_type": "code",
   "execution_count": 53,
   "id": "e3018e9d",
   "metadata": {},
   "outputs": [],
   "source": [
    "X_train, X_test, Y_train, Y_test = train_test_split ( X,Y,test_size=.3 , random_state=20 )\n",
    "\n",
    "undersampler = RandomUnderSampler(sampling_strategy=0.8 )\n",
    "\n",
    "X_resampled, Y_resampled = undersampler.fit_resample(X_train, Y_train)"
   ]
  },
  {
   "cell_type": "code",
   "execution_count": 54,
   "id": "07e5a026",
   "metadata": {},
   "outputs": [
    {
     "data": {
      "text/html": [
       "<style>#sk-container-id-4 {color: black;background-color: white;}#sk-container-id-4 pre{padding: 0;}#sk-container-id-4 div.sk-toggleable {background-color: white;}#sk-container-id-4 label.sk-toggleable__label {cursor: pointer;display: block;width: 100%;margin-bottom: 0;padding: 0.3em;box-sizing: border-box;text-align: center;}#sk-container-id-4 label.sk-toggleable__label-arrow:before {content: \"▸\";float: left;margin-right: 0.25em;color: #696969;}#sk-container-id-4 label.sk-toggleable__label-arrow:hover:before {color: black;}#sk-container-id-4 div.sk-estimator:hover label.sk-toggleable__label-arrow:before {color: black;}#sk-container-id-4 div.sk-toggleable__content {max-height: 0;max-width: 0;overflow: hidden;text-align: left;background-color: #f0f8ff;}#sk-container-id-4 div.sk-toggleable__content pre {margin: 0.2em;color: black;border-radius: 0.25em;background-color: #f0f8ff;}#sk-container-id-4 input.sk-toggleable__control:checked~div.sk-toggleable__content {max-height: 200px;max-width: 100%;overflow: auto;}#sk-container-id-4 input.sk-toggleable__control:checked~label.sk-toggleable__label-arrow:before {content: \"▾\";}#sk-container-id-4 div.sk-estimator input.sk-toggleable__control:checked~label.sk-toggleable__label {background-color: #d4ebff;}#sk-container-id-4 div.sk-label input.sk-toggleable__control:checked~label.sk-toggleable__label {background-color: #d4ebff;}#sk-container-id-4 input.sk-hidden--visually {border: 0;clip: rect(1px 1px 1px 1px);clip: rect(1px, 1px, 1px, 1px);height: 1px;margin: -1px;overflow: hidden;padding: 0;position: absolute;width: 1px;}#sk-container-id-4 div.sk-estimator {font-family: monospace;background-color: #f0f8ff;border: 1px dotted black;border-radius: 0.25em;box-sizing: border-box;margin-bottom: 0.5em;}#sk-container-id-4 div.sk-estimator:hover {background-color: #d4ebff;}#sk-container-id-4 div.sk-parallel-item::after {content: \"\";width: 100%;border-bottom: 1px solid gray;flex-grow: 1;}#sk-container-id-4 div.sk-label:hover label.sk-toggleable__label {background-color: #d4ebff;}#sk-container-id-4 div.sk-serial::before {content: \"\";position: absolute;border-left: 1px solid gray;box-sizing: border-box;top: 0;bottom: 0;left: 50%;z-index: 0;}#sk-container-id-4 div.sk-serial {display: flex;flex-direction: column;align-items: center;background-color: white;padding-right: 0.2em;padding-left: 0.2em;position: relative;}#sk-container-id-4 div.sk-item {position: relative;z-index: 1;}#sk-container-id-4 div.sk-parallel {display: flex;align-items: stretch;justify-content: center;background-color: white;position: relative;}#sk-container-id-4 div.sk-item::before, #sk-container-id-4 div.sk-parallel-item::before {content: \"\";position: absolute;border-left: 1px solid gray;box-sizing: border-box;top: 0;bottom: 0;left: 50%;z-index: -1;}#sk-container-id-4 div.sk-parallel-item {display: flex;flex-direction: column;z-index: 1;position: relative;background-color: white;}#sk-container-id-4 div.sk-parallel-item:first-child::after {align-self: flex-end;width: 50%;}#sk-container-id-4 div.sk-parallel-item:last-child::after {align-self: flex-start;width: 50%;}#sk-container-id-4 div.sk-parallel-item:only-child::after {width: 0;}#sk-container-id-4 div.sk-dashed-wrapped {border: 1px dashed gray;margin: 0 0.4em 0.5em 0.4em;box-sizing: border-box;padding-bottom: 0.4em;background-color: white;}#sk-container-id-4 div.sk-label label {font-family: monospace;font-weight: bold;display: inline-block;line-height: 1.2em;}#sk-container-id-4 div.sk-label-container {text-align: center;}#sk-container-id-4 div.sk-container {/* jupyter's `normalize.less` sets `[hidden] { display: none; }` but bootstrap.min.css set `[hidden] { display: none !important; }` so we also need the `!important` here to be able to override the default hidden behavior on the sphinx rendered scikit-learn.org. See: https://github.com/scikit-learn/scikit-learn/issues/21755 */display: inline-block !important;position: relative;}#sk-container-id-4 div.sk-text-repr-fallback {display: none;}</style><div id=\"sk-container-id-4\" class=\"sk-top-container\"><div class=\"sk-text-repr-fallback\"><pre>LogisticRegression()</pre><b>In a Jupyter environment, please rerun this cell to show the HTML representation or trust the notebook. <br />On GitHub, the HTML representation is unable to render, please try loading this page with nbviewer.org.</b></div><div class=\"sk-container\" hidden><div class=\"sk-item\"><div class=\"sk-estimator sk-toggleable\"><input class=\"sk-toggleable__control sk-hidden--visually\" id=\"sk-estimator-id-4\" type=\"checkbox\" checked><label for=\"sk-estimator-id-4\" class=\"sk-toggleable__label sk-toggleable__label-arrow\">LogisticRegression</label><div class=\"sk-toggleable__content\"><pre>LogisticRegression()</pre></div></div></div></div></div>"
      ],
      "text/plain": [
       "LogisticRegression()"
      ]
     },
     "execution_count": 54,
     "metadata": {},
     "output_type": "execute_result"
    }
   ],
   "source": [
    "ss = StandardScaler()\n",
    "\n",
    "X_resampled=ss.fit_transform(X_resampled)\n",
    "X_test=ss.transform(X_test)\n",
    "\n",
    "lr4=LogisticRegression()\n",
    "lr4.fit(X_resampled, Y_resampled)"
   ]
  },
  {
   "cell_type": "code",
   "execution_count": 55,
   "id": "855063c2",
   "metadata": {},
   "outputs": [
    {
     "name": "stdout",
     "output_type": "stream",
     "text": [
      "METRICHE SUL TRAIN:\n",
      " \n",
      "Precision: 0.700\n",
      "Recall: 0.889\n",
      "f1 score: 0.784\n",
      "Accuracy: 0.782 \n",
      "\n",
      "MATRICE DI CONFUSIONE: \n",
      " [[28461 12444]\n",
      " [ 3624 29100]]\n"
     ]
    }
   ],
   "source": [
    "evaluate_model(lr4, (X_resampled, Y_resampled), \"TRAIN\")"
   ]
  },
  {
   "cell_type": "code",
   "execution_count": 56,
   "id": "f4a95f68",
   "metadata": {},
   "outputs": [
    {
     "name": "stdout",
     "output_type": "stream",
     "text": [
      "METRICHE SUL TEST:\n",
      " \n",
      "Precision: 0.290\n",
      "Recall: 0.892\n",
      "f1 score: 0.437\n",
      "Accuracy: 0.719 \n",
      "\n",
      "MATRICE DI CONFUSIONE: \n",
      " [[69792 30555]\n",
      " [ 1517 12469]]\n"
     ]
    }
   ],
   "source": [
    "evaluate_model(lr4, (X_test, Y_test), \"TEST\")"
   ]
  },
  {
   "cell_type": "markdown",
   "id": "91f6ef77",
   "metadata": {},
   "source": [
    "Questi risultati sono peggiori rispetto alla \"sampling_strategy='auto'\" e in realtà abbassando ancora la soglia si ottengono risultati ancora peggiori. Perciò torniamo al modello \"lr_under\"."
   ]
  },
  {
   "cell_type": "code",
   "execution_count": 57,
   "id": "e07e55a9",
   "metadata": {},
   "outputs": [],
   "source": [
    "X_train, X_test, Y_train, Y_test = train_test_split ( X,Y,test_size=.3 , random_state=20 )\n",
    "\n",
    "undersampler = RandomUnderSampler(sampling_strategy='auto' )\n",
    "\n",
    "X_resampled, Y_resampled = undersampler.fit_resample(X_train, Y_train)"
   ]
  },
  {
   "cell_type": "code",
   "execution_count": 58,
   "id": "87a3ebac",
   "metadata": {},
   "outputs": [
    {
     "data": {
      "text/html": [
       "<style>#sk-container-id-5 {color: black;background-color: white;}#sk-container-id-5 pre{padding: 0;}#sk-container-id-5 div.sk-toggleable {background-color: white;}#sk-container-id-5 label.sk-toggleable__label {cursor: pointer;display: block;width: 100%;margin-bottom: 0;padding: 0.3em;box-sizing: border-box;text-align: center;}#sk-container-id-5 label.sk-toggleable__label-arrow:before {content: \"▸\";float: left;margin-right: 0.25em;color: #696969;}#sk-container-id-5 label.sk-toggleable__label-arrow:hover:before {color: black;}#sk-container-id-5 div.sk-estimator:hover label.sk-toggleable__label-arrow:before {color: black;}#sk-container-id-5 div.sk-toggleable__content {max-height: 0;max-width: 0;overflow: hidden;text-align: left;background-color: #f0f8ff;}#sk-container-id-5 div.sk-toggleable__content pre {margin: 0.2em;color: black;border-radius: 0.25em;background-color: #f0f8ff;}#sk-container-id-5 input.sk-toggleable__control:checked~div.sk-toggleable__content {max-height: 200px;max-width: 100%;overflow: auto;}#sk-container-id-5 input.sk-toggleable__control:checked~label.sk-toggleable__label-arrow:before {content: \"▾\";}#sk-container-id-5 div.sk-estimator input.sk-toggleable__control:checked~label.sk-toggleable__label {background-color: #d4ebff;}#sk-container-id-5 div.sk-label input.sk-toggleable__control:checked~label.sk-toggleable__label {background-color: #d4ebff;}#sk-container-id-5 input.sk-hidden--visually {border: 0;clip: rect(1px 1px 1px 1px);clip: rect(1px, 1px, 1px, 1px);height: 1px;margin: -1px;overflow: hidden;padding: 0;position: absolute;width: 1px;}#sk-container-id-5 div.sk-estimator {font-family: monospace;background-color: #f0f8ff;border: 1px dotted black;border-radius: 0.25em;box-sizing: border-box;margin-bottom: 0.5em;}#sk-container-id-5 div.sk-estimator:hover {background-color: #d4ebff;}#sk-container-id-5 div.sk-parallel-item::after {content: \"\";width: 100%;border-bottom: 1px solid gray;flex-grow: 1;}#sk-container-id-5 div.sk-label:hover label.sk-toggleable__label {background-color: #d4ebff;}#sk-container-id-5 div.sk-serial::before {content: \"\";position: absolute;border-left: 1px solid gray;box-sizing: border-box;top: 0;bottom: 0;left: 50%;z-index: 0;}#sk-container-id-5 div.sk-serial {display: flex;flex-direction: column;align-items: center;background-color: white;padding-right: 0.2em;padding-left: 0.2em;position: relative;}#sk-container-id-5 div.sk-item {position: relative;z-index: 1;}#sk-container-id-5 div.sk-parallel {display: flex;align-items: stretch;justify-content: center;background-color: white;position: relative;}#sk-container-id-5 div.sk-item::before, #sk-container-id-5 div.sk-parallel-item::before {content: \"\";position: absolute;border-left: 1px solid gray;box-sizing: border-box;top: 0;bottom: 0;left: 50%;z-index: -1;}#sk-container-id-5 div.sk-parallel-item {display: flex;flex-direction: column;z-index: 1;position: relative;background-color: white;}#sk-container-id-5 div.sk-parallel-item:first-child::after {align-self: flex-end;width: 50%;}#sk-container-id-5 div.sk-parallel-item:last-child::after {align-self: flex-start;width: 50%;}#sk-container-id-5 div.sk-parallel-item:only-child::after {width: 0;}#sk-container-id-5 div.sk-dashed-wrapped {border: 1px dashed gray;margin: 0 0.4em 0.5em 0.4em;box-sizing: border-box;padding-bottom: 0.4em;background-color: white;}#sk-container-id-5 div.sk-label label {font-family: monospace;font-weight: bold;display: inline-block;line-height: 1.2em;}#sk-container-id-5 div.sk-label-container {text-align: center;}#sk-container-id-5 div.sk-container {/* jupyter's `normalize.less` sets `[hidden] { display: none; }` but bootstrap.min.css set `[hidden] { display: none !important; }` so we also need the `!important` here to be able to override the default hidden behavior on the sphinx rendered scikit-learn.org. See: https://github.com/scikit-learn/scikit-learn/issues/21755 */display: inline-block !important;position: relative;}#sk-container-id-5 div.sk-text-repr-fallback {display: none;}</style><div id=\"sk-container-id-5\" class=\"sk-top-container\"><div class=\"sk-text-repr-fallback\"><pre>LogisticRegression()</pre><b>In a Jupyter environment, please rerun this cell to show the HTML representation or trust the notebook. <br />On GitHub, the HTML representation is unable to render, please try loading this page with nbviewer.org.</b></div><div class=\"sk-container\" hidden><div class=\"sk-item\"><div class=\"sk-estimator sk-toggleable\"><input class=\"sk-toggleable__control sk-hidden--visually\" id=\"sk-estimator-id-5\" type=\"checkbox\" checked><label for=\"sk-estimator-id-5\" class=\"sk-toggleable__label sk-toggleable__label-arrow\">LogisticRegression</label><div class=\"sk-toggleable__content\"><pre>LogisticRegression()</pre></div></div></div></div></div>"
      ],
      "text/plain": [
       "LogisticRegression()"
      ]
     },
     "execution_count": 58,
     "metadata": {},
     "output_type": "execute_result"
    }
   ],
   "source": [
    "ss = StandardScaler()\n",
    "\n",
    "X_resampled=ss.fit_transform(X_resampled)\n",
    "X_test=ss.transform(X_test)\n",
    "\n",
    "lr_under=LogisticRegression()\n",
    "lr_under.fit(X_resampled, Y_resampled)"
   ]
  },
  {
   "cell_type": "code",
   "execution_count": 59,
   "id": "ecb9992e",
   "metadata": {},
   "outputs": [
    {
     "name": "stdout",
     "output_type": "stream",
     "text": [
      "METRICHE SUL TRAIN:\n",
      " \n",
      "Precision: 0.702\n",
      "Recall: 0.981\n",
      "f1 score: 0.818\n",
      "Accuracy: 0.782 \n",
      "\n",
      "MATRICE DI CONFUSIONE: \n",
      " [[19095 13629]\n",
      " [  631 32093]]\n"
     ]
    }
   ],
   "source": [
    "evaluate_model_proba (lr_under, (X_resampled, Y_resampled), \"TRAIN\", 0.3 )"
   ]
  },
  {
   "cell_type": "code",
   "execution_count": 60,
   "id": "7de54325",
   "metadata": {},
   "outputs": [
    {
     "name": "stdout",
     "output_type": "stream",
     "text": [
      "METRICHE SUL TEST:\n",
      " \n",
      "Precision: 0.248\n",
      "Recall: 0.981\n",
      "f1 score: 0.396\n",
      "Accuracy: 0.634 \n",
      "\n",
      "MATRICE DI CONFUSIONE: \n",
      " [[58756 41591]\n",
      " [  260 13726]]\n"
     ]
    }
   ],
   "source": [
    "evaluate_model_proba (lr_under, (X_test, Y_test), \"TEST\", 0.3 )"
   ]
  },
  {
   "cell_type": "markdown",
   "id": "a4400a6d",
   "metadata": {},
   "source": [
    "Questo modello presenta una recall molto buona sia sul train sia sul test set."
   ]
  },
  {
   "cell_type": "markdown",
   "id": "2431f86c",
   "metadata": {},
   "source": [
    "Proviamo a vedere se questo modello presenta overfitting."
   ]
  },
  {
   "cell_type": "code",
   "execution_count": 61,
   "id": "dfc8ab45",
   "metadata": {},
   "outputs": [
    {
     "name": "stdout",
     "output_type": "stream",
     "text": [
      "Metriche dopo 1 split di cross-validation: \n",
      "\n",
      "METRICHE SUL TRAIN:\n",
      " \n",
      "Precision: 0.701\n",
      "Recall: 0.982\n",
      "f1 score: 0.818\n",
      "Accuracy: 0.782 \n",
      "\n",
      "MATRICE DI CONFUSIONE: \n",
      " [[21699 15624]\n",
      " [  667 36656]]\n",
      "METRICHE SUL TEST:\n",
      " \n",
      "Precision: 0.249\n",
      "Recall: 0.980\n",
      "f1 score: 0.397\n",
      "Accuracy: 0.634 \n",
      "\n",
      "MATRICE DI CONFUSIONE: \n",
      " [[39118 27717]\n",
      " [  184  9203]]\n",
      "Metriche dopo 2 split di cross-validation: \n",
      "\n",
      "METRICHE SUL TRAIN:\n",
      " \n",
      "Precision: 0.704\n",
      "Recall: 0.982\n",
      "f1 score: 0.820\n",
      "Accuracy: 0.785 \n",
      "\n",
      "MATRICE DI CONFUSIONE: \n",
      " [[21962 15378]\n",
      " [  680 36660]]\n",
      "METRICHE SUL TEST:\n",
      " \n",
      "Precision: 0.249\n",
      "Recall: 0.981\n",
      "f1 score: 0.398\n",
      "Accuracy: 0.635 \n",
      "\n",
      "MATRICE DI CONFUSIONE: \n",
      " [[39211 27641]\n",
      " [  181  9189]]\n",
      "Metriche dopo 3 split di cross-validation: \n",
      "\n",
      "METRICHE SUL TRAIN:\n",
      " \n",
      "Precision: 0.703\n",
      "Recall: 0.983\n",
      "f1 score: 0.820\n",
      "Accuracy: 0.784 \n",
      "\n",
      "MATRICE DI CONFUSIONE: \n",
      " [[21916 15533]\n",
      " [  653 36796]]\n",
      "METRICHE SUL TEST:\n",
      " \n",
      "Precision: 0.245\n",
      "Recall: 0.982\n",
      "f1 score: 0.392\n",
      "Accuracy: 0.630 \n",
      "\n",
      "MATRICE DI CONFUSIONE: \n",
      " [[38901 28060]\n",
      " [  163  9098]]\n",
      "Metriche dopo 4 split di cross-validation: \n",
      "\n",
      "METRICHE SUL TRAIN:\n",
      " \n",
      "Precision: 0.705\n",
      "Recall: 0.980\n",
      "f1 score: 0.820\n",
      "Accuracy: 0.785 \n",
      "\n",
      "MATRICE DI CONFUSIONE: \n",
      " [[22002 15291]\n",
      " [  740 36553]]\n",
      "METRICHE SUL TEST:\n",
      " \n",
      "Precision: 0.250\n",
      "Recall: 0.981\n",
      "f1 score: 0.399\n",
      "Accuracy: 0.634 \n",
      "\n",
      "MATRICE DI CONFUSIONE: \n",
      " [[39115 27690]\n",
      " [  178  9239]]\n",
      "Metriche dopo 5 split di cross-validation: \n",
      "\n",
      "METRICHE SUL TRAIN:\n",
      " \n",
      "Precision: 0.702\n",
      "Recall: 0.982\n",
      "f1 score: 0.819\n",
      "Accuracy: 0.783 \n",
      "\n",
      "MATRICE DI CONFUSIONE: \n",
      " [[21823 15612]\n",
      " [  669 36766]]\n",
      "METRICHE SUL TEST:\n",
      " \n",
      "Precision: 0.247\n",
      "Recall: 0.984\n",
      "f1 score: 0.395\n",
      "Accuracy: 0.633 \n",
      "\n",
      "MATRICE DI CONFUSIONE: \n",
      " [[39093 27853]\n",
      " [  146  9129]]\n"
     ]
    }
   ],
   "source": [
    "undersampler = RandomUnderSampler(sampling_strategy='auto' )\n",
    "i=1\n",
    "\n",
    "for train_index , test_index in kf.split(X):\n",
    "    X_train , X_test = X[train_index] , X[test_index]\n",
    "    Y_train, Y_test = Y[train_index], Y[test_index]\n",
    "    \n",
    "\n",
    "    X_resampled, Y_resampled = undersampler.fit_resample(X_train, Y_train)\n",
    "    \n",
    "    ss = StandardScaler()\n",
    "    X_resampled=ss.fit_transform(X_resampled)\n",
    "    X_test=ss.transform(X_test)\n",
    "\n",
    "    lr_under.fit(X_resampled, Y_resampled)\n",
    "\n",
    "    print(f\"Metriche dopo {i} split di cross-validation: \\n\")\n",
    "    \n",
    "    evaluate_model_proba(lr_under, (X_resampled,Y_resampled) , \"TRAIN\", 0.3)\n",
    "    evaluate_model_proba(lr_under, (X_test,Y_test) , \"TEST\", 0.3)\n",
    "\n",
    "    \n",
    "    i+=1"
   ]
  },
  {
   "cell_type": "markdown",
   "id": "90fe1170",
   "metadata": {},
   "source": [
    "Neanche in questo caso il modello presenta overfitting e i risultati sono molto simili a quelli ottenuti con il modello della sezione class_weight."
   ]
  },
  {
   "cell_type": "markdown",
   "id": "a6c938f5",
   "metadata": {},
   "source": [
    "# Oversampling"
   ]
  },
  {
   "cell_type": "code",
   "execution_count": 62,
   "id": "82443d9c",
   "metadata": {},
   "outputs": [
    {
     "data": {
      "text/html": [
       "<style>#sk-container-id-6 {color: black;background-color: white;}#sk-container-id-6 pre{padding: 0;}#sk-container-id-6 div.sk-toggleable {background-color: white;}#sk-container-id-6 label.sk-toggleable__label {cursor: pointer;display: block;width: 100%;margin-bottom: 0;padding: 0.3em;box-sizing: border-box;text-align: center;}#sk-container-id-6 label.sk-toggleable__label-arrow:before {content: \"▸\";float: left;margin-right: 0.25em;color: #696969;}#sk-container-id-6 label.sk-toggleable__label-arrow:hover:before {color: black;}#sk-container-id-6 div.sk-estimator:hover label.sk-toggleable__label-arrow:before {color: black;}#sk-container-id-6 div.sk-toggleable__content {max-height: 0;max-width: 0;overflow: hidden;text-align: left;background-color: #f0f8ff;}#sk-container-id-6 div.sk-toggleable__content pre {margin: 0.2em;color: black;border-radius: 0.25em;background-color: #f0f8ff;}#sk-container-id-6 input.sk-toggleable__control:checked~div.sk-toggleable__content {max-height: 200px;max-width: 100%;overflow: auto;}#sk-container-id-6 input.sk-toggleable__control:checked~label.sk-toggleable__label-arrow:before {content: \"▾\";}#sk-container-id-6 div.sk-estimator input.sk-toggleable__control:checked~label.sk-toggleable__label {background-color: #d4ebff;}#sk-container-id-6 div.sk-label input.sk-toggleable__control:checked~label.sk-toggleable__label {background-color: #d4ebff;}#sk-container-id-6 input.sk-hidden--visually {border: 0;clip: rect(1px 1px 1px 1px);clip: rect(1px, 1px, 1px, 1px);height: 1px;margin: -1px;overflow: hidden;padding: 0;position: absolute;width: 1px;}#sk-container-id-6 div.sk-estimator {font-family: monospace;background-color: #f0f8ff;border: 1px dotted black;border-radius: 0.25em;box-sizing: border-box;margin-bottom: 0.5em;}#sk-container-id-6 div.sk-estimator:hover {background-color: #d4ebff;}#sk-container-id-6 div.sk-parallel-item::after {content: \"\";width: 100%;border-bottom: 1px solid gray;flex-grow: 1;}#sk-container-id-6 div.sk-label:hover label.sk-toggleable__label {background-color: #d4ebff;}#sk-container-id-6 div.sk-serial::before {content: \"\";position: absolute;border-left: 1px solid gray;box-sizing: border-box;top: 0;bottom: 0;left: 50%;z-index: 0;}#sk-container-id-6 div.sk-serial {display: flex;flex-direction: column;align-items: center;background-color: white;padding-right: 0.2em;padding-left: 0.2em;position: relative;}#sk-container-id-6 div.sk-item {position: relative;z-index: 1;}#sk-container-id-6 div.sk-parallel {display: flex;align-items: stretch;justify-content: center;background-color: white;position: relative;}#sk-container-id-6 div.sk-item::before, #sk-container-id-6 div.sk-parallel-item::before {content: \"\";position: absolute;border-left: 1px solid gray;box-sizing: border-box;top: 0;bottom: 0;left: 50%;z-index: -1;}#sk-container-id-6 div.sk-parallel-item {display: flex;flex-direction: column;z-index: 1;position: relative;background-color: white;}#sk-container-id-6 div.sk-parallel-item:first-child::after {align-self: flex-end;width: 50%;}#sk-container-id-6 div.sk-parallel-item:last-child::after {align-self: flex-start;width: 50%;}#sk-container-id-6 div.sk-parallel-item:only-child::after {width: 0;}#sk-container-id-6 div.sk-dashed-wrapped {border: 1px dashed gray;margin: 0 0.4em 0.5em 0.4em;box-sizing: border-box;padding-bottom: 0.4em;background-color: white;}#sk-container-id-6 div.sk-label label {font-family: monospace;font-weight: bold;display: inline-block;line-height: 1.2em;}#sk-container-id-6 div.sk-label-container {text-align: center;}#sk-container-id-6 div.sk-container {/* jupyter's `normalize.less` sets `[hidden] { display: none; }` but bootstrap.min.css set `[hidden] { display: none !important; }` so we also need the `!important` here to be able to override the default hidden behavior on the sphinx rendered scikit-learn.org. See: https://github.com/scikit-learn/scikit-learn/issues/21755 */display: inline-block !important;position: relative;}#sk-container-id-6 div.sk-text-repr-fallback {display: none;}</style><div id=\"sk-container-id-6\" class=\"sk-top-container\"><div class=\"sk-text-repr-fallback\"><pre>LogisticRegression()</pre><b>In a Jupyter environment, please rerun this cell to show the HTML representation or trust the notebook. <br />On GitHub, the HTML representation is unable to render, please try loading this page with nbviewer.org.</b></div><div class=\"sk-container\" hidden><div class=\"sk-item\"><div class=\"sk-estimator sk-toggleable\"><input class=\"sk-toggleable__control sk-hidden--visually\" id=\"sk-estimator-id-6\" type=\"checkbox\" checked><label for=\"sk-estimator-id-6\" class=\"sk-toggleable__label sk-toggleable__label-arrow\">LogisticRegression</label><div class=\"sk-toggleable__content\"><pre>LogisticRegression()</pre></div></div></div></div></div>"
      ],
      "text/plain": [
       "LogisticRegression()"
      ]
     },
     "execution_count": 62,
     "metadata": {},
     "output_type": "execute_result"
    }
   ],
   "source": [
    "X_train, X_test, Y_train, Y_test = train_test_split ( X,Y,test_size=.3 , random_state=42 )\n",
    "\n",
    "\n",
    "smote = SMOTE(random_state=42)\n",
    "X_train_resampled, Y_train_resampled = smote.fit_resample(X_train, Y_train)\n",
    "\n",
    "\n",
    "ss = StandardScaler()\n",
    "X_train_resampled=ss.fit_transform(X_train_resampled)\n",
    "X_test=ss.transform(X_test)\n",
    "\n",
    "\n",
    "lr_over = LogisticRegression()\n",
    "lr_over.fit(X_train_resampled, Y_train_resampled)"
   ]
  },
  {
   "cell_type": "code",
   "execution_count": 63,
   "id": "ee643d13",
   "metadata": {},
   "outputs": [
    {
     "name": "stdout",
     "output_type": "stream",
     "text": [
      "METRICHE SUL TRAIN:\n",
      " \n",
      "Precision: 0.730\n",
      "Recall: 0.950\n",
      "f1 score: 0.825\n",
      "Accuracy: 0.799 \n",
      "\n",
      "MATRICE DI CONFUSIONE: \n",
      " [[151693  82511]\n",
      " [ 11621 222583]]\n"
     ]
    }
   ],
   "source": [
    "evaluate_model(lr_over, (X_train_resampled, Y_train_resampled) , \"TRAIN\")"
   ]
  },
  {
   "cell_type": "code",
   "execution_count": 64,
   "id": "0da5c481",
   "metadata": {},
   "outputs": [
    {
     "name": "stdout",
     "output_type": "stream",
     "text": [
      "METRICHE SUL TEST:\n",
      " \n",
      "Precision: 0.273\n",
      "Recall: 0.933\n",
      "f1 score: 0.423\n",
      "Accuracy: 0.685 \n",
      "\n",
      "MATRICE DI CONFUSIONE: \n",
      " [[65085 35110]\n",
      " [  947 13191]]\n"
     ]
    }
   ],
   "source": [
    "evaluate_model(lr_over, (X_test, Y_test), \"TEST\")"
   ]
  },
  {
   "cell_type": "code",
   "execution_count": 65,
   "id": "bbf7bacb",
   "metadata": {},
   "outputs": [
    {
     "name": "stdout",
     "output_type": "stream",
     "text": [
      "METRICHE SUL TRAIN:\n",
      " \n",
      "Precision: 0.708\n",
      "Recall: 0.983\n",
      "f1 score: 0.823\n",
      "Accuracy: 0.789 \n",
      "\n",
      "MATRICE DI CONFUSIONE: \n",
      " [[139216  94988]\n",
      " [  3911 230293]]\n"
     ]
    }
   ],
   "source": [
    "evaluate_model_proba(lr_over, (X_train_resampled,Y_train_resampled), \"TRAIN\", 0.3 )"
   ]
  },
  {
   "cell_type": "code",
   "execution_count": 66,
   "id": "6d6eb96d",
   "metadata": {},
   "outputs": [
    {
     "name": "stdout",
     "output_type": "stream",
     "text": [
      "METRICHE SUL TEST:\n",
      " \n",
      "Precision: 0.254\n",
      "Recall: 0.973\n",
      "f1 score: 0.403\n",
      "Accuracy: 0.644 \n",
      "\n",
      "MATRICE DI CONFUSIONE: \n",
      " [[59828 40367]\n",
      " [  387 13751]]\n"
     ]
    }
   ],
   "source": [
    "evaluate_model_proba(lr_over, (X_test, Y_test), \"TEST\", 0.3)"
   ]
  },
  {
   "cell_type": "markdown",
   "id": "bdae0dd5",
   "metadata": {},
   "source": [
    "Come nei modelli costruiti precedentemente, proviamo a vedere se questo modello presenta overfitting."
   ]
  },
  {
   "cell_type": "code",
   "execution_count": 70,
   "id": "9c577b52",
   "metadata": {},
   "outputs": [
    {
     "name": "stdout",
     "output_type": "stream",
     "text": [
      "Metriche dopo 1 split di cross-validation: \n",
      "\n",
      "METRICHE SUL TRAIN:\n",
      " \n",
      "Precision: 0.707\n",
      "Recall: 0.983\n",
      "f1 score: 0.822\n",
      "Accuracy: 0.788 \n",
      "\n",
      "MATRICE DI CONFUSIONE: \n",
      " [[158426 108992]\n",
      " [  4515 262903]]\n",
      "METRICHE SUL TEST:\n",
      " \n",
      "Precision: 0.248\n",
      "Recall: 0.975\n",
      "f1 score: 0.396\n",
      "Accuracy: 0.639 \n",
      "\n",
      "MATRICE DI CONFUSIONE: \n",
      " [[39723 27258]\n",
      " [  231  9010]]\n",
      "Metriche dopo 2 split di cross-validation: \n",
      "\n",
      "METRICHE SUL TRAIN:\n",
      " \n",
      "Precision: 0.707\n",
      "Recall: 0.984\n",
      "f1 score: 0.823\n",
      "Accuracy: 0.789 \n",
      "\n",
      "MATRICE DI CONFUSIONE: \n",
      " [[158752 108849]\n",
      " [  4334 263267]]\n",
      "METRICHE SUL TEST:\n",
      " \n",
      "Precision: 0.252\n",
      "Recall: 0.976\n",
      "f1 score: 0.400\n",
      "Accuracy: 0.638 \n",
      "\n",
      "MATRICE DI CONFUSIONE: \n",
      " [[39454 27344]\n",
      " [  224  9200]]\n",
      "Metriche dopo 3 split di cross-validation: \n",
      "\n",
      "METRICHE SUL TRAIN:\n",
      " \n",
      "Precision: 0.708\n",
      "Recall: 0.982\n",
      "f1 score: 0.823\n",
      "Accuracy: 0.789 \n",
      "\n",
      "MATRICE DI CONFUSIONE: \n",
      " [[159356 108138]\n",
      " [  4746 262748]]\n",
      "METRICHE SUL TEST:\n",
      " \n",
      "Precision: 0.252\n",
      "Recall: 0.972\n",
      "f1 score: 0.400\n",
      "Accuracy: 0.644 \n",
      "\n",
      "MATRICE DI CONFUSIONE: \n",
      " [[40006 26899]\n",
      " [  257  9060]]\n",
      "Metriche dopo 4 split di cross-validation: \n",
      "\n",
      "METRICHE SUL TRAIN:\n",
      " \n",
      "Precision: 0.706\n",
      "Recall: 0.984\n",
      "f1 score: 0.822\n",
      "Accuracy: 0.788 \n",
      "\n",
      "MATRICE DI CONFUSIONE: \n",
      " [[158110 109540]\n",
      " [  4183 263467]]\n",
      "METRICHE SUL TEST:\n",
      " \n",
      "Precision: 0.253\n",
      "Recall: 0.978\n",
      "f1 score: 0.402\n",
      "Accuracy: 0.639 \n",
      "\n",
      "MATRICE DI CONFUSIONE: \n",
      " [[39446 27303]\n",
      " [  210  9263]]\n",
      "Metriche dopo 5 split di cross-validation: \n",
      "\n",
      "METRICHE SUL TRAIN:\n",
      " \n",
      "Precision: 0.707\n",
      "Recall: 0.983\n",
      "f1 score: 0.823\n",
      "Accuracy: 0.788 \n",
      "\n",
      "MATRICE DI CONFUSIONE: \n",
      " [[158755 108678]\n",
      " [  4603 262830]]\n",
      "METRICHE SUL TEST:\n",
      " \n",
      "Precision: 0.248\n",
      "Recall: 0.973\n",
      "f1 score: 0.395\n",
      "Accuracy: 0.639 \n",
      "\n",
      "MATRICE DI CONFUSIONE: \n",
      " [[39671 27295]\n",
      " [  248  9007]]\n"
     ]
    }
   ],
   "source": [
    "i=1\n",
    "for train_index , test_index in kf.split(X):\n",
    "    X_train , X_test = X[train_index] , X[test_index]\n",
    "    Y_train, Y_test = Y[train_index], Y[test_index]\n",
    "    \n",
    "\n",
    "    smote = SMOTE(random_state=42)\n",
    "    X_train_resampled, Y_train_resampled = smote.fit_resample(X_train, Y_train)\n",
    "\n",
    "\n",
    "    ss = StandardScaler()\n",
    "    X_train_resampled=ss.fit_transform(X_train_resampled)\n",
    "    X_test=ss.transform(X_test)\n",
    "\n",
    "\n",
    "    lr_over = LogisticRegression()\n",
    "    lr_over.fit(X_train_resampled, Y_train_resampled)\n",
    "\n",
    "\n",
    "    print(f\"Metriche dopo {i} split di cross-validation: \\n\")\n",
    "    \n",
    "    evaluate_model_proba(lr_over, (X_train_resampled,Y_train_resampled) , \"TRAIN\", 0.3)\n",
    "    evaluate_model_proba(lr_over, (X_test,Y_test) , \"TEST\", 0.3)\n",
    "\n",
    "    \n",
    "    i+=1"
   ]
  },
  {
   "cell_type": "markdown",
   "id": "cb7f702c",
   "metadata": {},
   "source": [
    "Neanche questo modello presenta overfitting e dunque è anch'esso un ottimo candidato."
   ]
  },
  {
   "cell_type": "markdown",
   "id": "01393b81",
   "metadata": {},
   "source": [
    "# ROC e AUC"
   ]
  },
  {
   "cell_type": "markdown",
   "id": "c3b21835",
   "metadata": {},
   "source": [
    "Possiamo provare a visualizzare la curva roc e l'area sottesa a questa curva per i due modelli \"lr_under\" e \"best_model\" e \"lr_over\"."
   ]
  },
  {
   "cell_type": "code",
   "execution_count": 71,
   "id": "9a6841c7",
   "metadata": {},
   "outputs": [
    {
     "data": {
      "image/png": "[encoded data removed]",
      "text/plain": [
       "<Figure size 800x800 with 1 Axes>"
      ]
     },
     "metadata": {},
     "output_type": "display_data"
    }
   ],
   "source": [
    "y_proba_best_model = best_model.predict_proba(X_test)[:, 1]\n",
    "y_proba_lr_under = lr_under.predict_proba(X_test)[:, 1]\n",
    "y_proba_lr_over = lr_over.predict_proba(X_test)[:,1]\n",
    "\n",
    "fpr_best_model, tpr_best_model, _ = roc_curve(Y_test, y_proba_best_model)\n",
    "roc_auc_best_model = auc(fpr_best_model, tpr_best_model)\n",
    "\n",
    "fpr_lr_under, tpr_lr_under, _ = roc_curve(Y_test, y_proba_lr_under)\n",
    "roc_auc_lr_under = auc(fpr_lr_under, tpr_lr_under)\n",
    "\n",
    "fpr_lr_over, tpr_lr_over, _ = roc_curve(Y_test, y_proba_lr_over)\n",
    "roc_auc_lr_over = auc(fpr_lr_over, tpr_lr_over)\n",
    "\n",
    "plt.figure(figsize=(8, 8))\n",
    "\n",
    "plt.plot(fpr_best_model, tpr_best_model, color='darkorange', lw=2, label='Best Model (AUC = {:.2f})'.format(roc_auc_best_model))\n",
    "plt.plot(fpr_lr_under, tpr_lr_under, color='green', lw=2, label='LR Under (AUC = {:.2f})'.format(roc_auc_lr_under))\n",
    "plt.plot(fpr_lr_over, tpr_lr_over, color='blue', lw=2, label='LR Over (AUC = {:.2f})'.format(roc_auc_lr_over))\n",
    "\n",
    "plt.plot([0, 1], [0, 1], color='navy', lw=2, linestyle='--')\n",
    "plt.xlabel('False Positive Rate')\n",
    "plt.ylabel('True Positive Rate')\n",
    "plt.title('Receiver Operating Characteristic (ROC)')\n",
    "plt.legend(loc='lower right')\n",
    "plt.show()\n"
   ]
  },
  {
   "cell_type": "markdown",
   "id": "0fff8ba2",
   "metadata": {},
   "source": [
    "I tre modelli hanno una ROC e AUC quasi identica, dal grafico si può osservare che tutti e tre i modelli riescono a distinguere molto bene tra le due classi. "
   ]
  }
 ],
 "metadata": {
  "kernelspec": {
   "display_name": "Python 3 (ipykernel)",
   "language": "python",
   "name": "python3"
  },
  "language_info": {
   "codemirror_mode": {
    "name": "ipython",
    "version": 3
   },
   "file_extension": ".py",
   "mimetype": "text/x-python",
   "name": "python",
   "nbconvert_exporter": "python",
   "pygments_lexer": "ipython3",
   "version": "3.10.9"
  }
 },
 "nbformat": 4,
 "nbformat_minor": 5
}
